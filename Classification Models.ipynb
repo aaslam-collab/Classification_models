{
 "cells": [
  {
   "cell_type": "markdown",
   "metadata": {},
   "source": [
    "# Importing and Getting Ready"
   ]
  },
  {
   "cell_type": "code",
   "execution_count": 1,
   "metadata": {},
   "outputs": [],
   "source": [
    "import numpy as np\n",
    "import pandas as pd\n",
    "# to make this notebook's output stable across runs\n",
    "np.random.seed(123)\n",
    "\n",
    "# To plot pretty figures\n",
    "%matplotlib inline\n",
    "import matplotlib\n",
    "import matplotlib.pyplot as plt\n",
    "plt.rcParams['axes.labelsize'] = 14\n",
    "plt.rcParams['xtick.labelsize'] = 12\n",
    "plt.rcParams['ytick.labelsize'] = 12"
   ]
  },
  {
   "cell_type": "code",
   "execution_count": 2,
   "metadata": {},
   "outputs": [],
   "source": [
    "df_test = pd.read_csv(\"test.csv\")\n",
    "df_train = pd.read_csv(\"train.csv\")"
   ]
  },
  {
   "cell_type": "code",
   "execution_count": 3,
   "metadata": {},
   "outputs": [],
   "source": [
    "df_test_1 = df_test.copy().drop('Customer_id', axis=1)"
   ]
  },
  {
   "cell_type": "code",
   "execution_count": 4,
   "metadata": {},
   "outputs": [],
   "source": [
    "#y_pred = tuned_clf_model.predict(df_test_1)\n",
    "\n",
    "#submission = pd.DataFrame ({\n",
    "#    'Customer_id' : df_test['Customer_id']\n",
    "#    'Target' : y_pred\n",
    "#})\n",
    "\n",
    "#submission['Target'].value_counts()\n",
    "\n",
    "#submission.to_csv('submission.csv', index=False)"
   ]
  },
  {
   "cell_type": "code",
   "execution_count": 5,
   "metadata": {},
   "outputs": [
    {
     "data": {
      "text/html": [
       "<div>\n",
       "<style scoped>\n",
       "    .dataframe tbody tr th:only-of-type {\n",
       "        vertical-align: middle;\n",
       "    }\n",
       "\n",
       "    .dataframe tbody tr th {\n",
       "        vertical-align: top;\n",
       "    }\n",
       "\n",
       "    .dataframe thead th {\n",
       "        text-align: right;\n",
       "    }\n",
       "</style>\n",
       "<table border=\"1\" class=\"dataframe\">\n",
       "  <thead>\n",
       "    <tr style=\"text-align: right;\">\n",
       "      <th></th>\n",
       "      <th>Balance</th>\n",
       "      <th>PreviousCampaignResult</th>\n",
       "      <th>Product1</th>\n",
       "      <th>Product2</th>\n",
       "      <th>Product3</th>\n",
       "      <th>Product4</th>\n",
       "      <th>Product5</th>\n",
       "      <th>Product6</th>\n",
       "      <th>Transaction1</th>\n",
       "      <th>Transaction2</th>\n",
       "      <th>...</th>\n",
       "      <th>RegularInteractionIndicator</th>\n",
       "      <th>CompetitiveRate1</th>\n",
       "      <th>CompetitiveRate2</th>\n",
       "      <th>CompetitiveRate3</th>\n",
       "      <th>CompetitiveRate4</th>\n",
       "      <th>CompetitiveRate5</th>\n",
       "      <th>CompetitiveRate6</th>\n",
       "      <th>CompetitiveRate7</th>\n",
       "      <th>RateBefore</th>\n",
       "      <th>ReferenceRate</th>\n",
       "    </tr>\n",
       "  </thead>\n",
       "  <tbody>\n",
       "    <tr>\n",
       "      <th>0</th>\n",
       "      <td>13341.55</td>\n",
       "      <td>0</td>\n",
       "      <td>0</td>\n",
       "      <td>0</td>\n",
       "      <td>0</td>\n",
       "      <td>0</td>\n",
       "      <td>0</td>\n",
       "      <td>0</td>\n",
       "      <td>0.0</td>\n",
       "      <td>0.0</td>\n",
       "      <td>...</td>\n",
       "      <td>0</td>\n",
       "      <td>1.475</td>\n",
       "      <td>1.425</td>\n",
       "      <td>1.425</td>\n",
       "      <td>1.425</td>\n",
       "      <td>2.375</td>\n",
       "      <td>1.725</td>\n",
       "      <td>2.125</td>\n",
       "      <td>1.725</td>\n",
       "      <td>1.375</td>\n",
       "    </tr>\n",
       "    <tr>\n",
       "      <th>1</th>\n",
       "      <td>18649.81</td>\n",
       "      <td>0</td>\n",
       "      <td>1</td>\n",
       "      <td>0</td>\n",
       "      <td>0</td>\n",
       "      <td>0</td>\n",
       "      <td>0</td>\n",
       "      <td>0</td>\n",
       "      <td>0.0</td>\n",
       "      <td>0.0</td>\n",
       "      <td>...</td>\n",
       "      <td>0</td>\n",
       "      <td>1.025</td>\n",
       "      <td>1.925</td>\n",
       "      <td>1.125</td>\n",
       "      <td>2.375</td>\n",
       "      <td>1.175</td>\n",
       "      <td>1.425</td>\n",
       "      <td>1.475</td>\n",
       "      <td>1.425</td>\n",
       "      <td>1.125</td>\n",
       "    </tr>\n",
       "    <tr>\n",
       "      <th>2</th>\n",
       "      <td>28311.30</td>\n",
       "      <td>0</td>\n",
       "      <td>1</td>\n",
       "      <td>0</td>\n",
       "      <td>0</td>\n",
       "      <td>1</td>\n",
       "      <td>0</td>\n",
       "      <td>0</td>\n",
       "      <td>0.0</td>\n",
       "      <td>0.0</td>\n",
       "      <td>...</td>\n",
       "      <td>1</td>\n",
       "      <td>1.425</td>\n",
       "      <td>2.375</td>\n",
       "      <td>1.425</td>\n",
       "      <td>1.675</td>\n",
       "      <td>2.375</td>\n",
       "      <td>1.675</td>\n",
       "      <td>1.575</td>\n",
       "      <td>1.675</td>\n",
       "      <td>1.375</td>\n",
       "    </tr>\n",
       "    <tr>\n",
       "      <th>3</th>\n",
       "      <td>18066.61</td>\n",
       "      <td>0</td>\n",
       "      <td>1</td>\n",
       "      <td>0</td>\n",
       "      <td>0</td>\n",
       "      <td>0</td>\n",
       "      <td>0</td>\n",
       "      <td>0</td>\n",
       "      <td>0.0</td>\n",
       "      <td>0.0</td>\n",
       "      <td>...</td>\n",
       "      <td>0</td>\n",
       "      <td>1.025</td>\n",
       "      <td>1.925</td>\n",
       "      <td>1.125</td>\n",
       "      <td>2.375</td>\n",
       "      <td>1.175</td>\n",
       "      <td>1.425</td>\n",
       "      <td>1.475</td>\n",
       "      <td>1.425</td>\n",
       "      <td>1.125</td>\n",
       "    </tr>\n",
       "    <tr>\n",
       "      <th>4</th>\n",
       "      <td>10512.30</td>\n",
       "      <td>0</td>\n",
       "      <td>0</td>\n",
       "      <td>0</td>\n",
       "      <td>0</td>\n",
       "      <td>0</td>\n",
       "      <td>0</td>\n",
       "      <td>0</td>\n",
       "      <td>0.0</td>\n",
       "      <td>0.0</td>\n",
       "      <td>...</td>\n",
       "      <td>1</td>\n",
       "      <td>1.425</td>\n",
       "      <td>2.375</td>\n",
       "      <td>1.425</td>\n",
       "      <td>1.675</td>\n",
       "      <td>2.375</td>\n",
       "      <td>1.675</td>\n",
       "      <td>1.575</td>\n",
       "      <td>1.675</td>\n",
       "      <td>1.375</td>\n",
       "    </tr>\n",
       "  </tbody>\n",
       "</table>\n",
       "<p>5 rows × 35 columns</p>\n",
       "</div>"
      ],
      "text/plain": [
       "    Balance  PreviousCampaignResult  Product1  Product2  Product3  Product4  \\\n",
       "0  13341.55                       0         0         0         0         0   \n",
       "1  18649.81                       0         1         0         0         0   \n",
       "2  28311.30                       0         1         0         0         1   \n",
       "3  18066.61                       0         1         0         0         0   \n",
       "4  10512.30                       0         0         0         0         0   \n",
       "\n",
       "   Product5  Product6  Transaction1  Transaction2  ...  \\\n",
       "0         0         0           0.0           0.0  ...   \n",
       "1         0         0           0.0           0.0  ...   \n",
       "2         0         0           0.0           0.0  ...   \n",
       "3         0         0           0.0           0.0  ...   \n",
       "4         0         0           0.0           0.0  ...   \n",
       "\n",
       "   RegularInteractionIndicator  CompetitiveRate1  CompetitiveRate2  \\\n",
       "0                            0             1.475             1.425   \n",
       "1                            0             1.025             1.925   \n",
       "2                            1             1.425             2.375   \n",
       "3                            0             1.025             1.925   \n",
       "4                            1             1.425             2.375   \n",
       "\n",
       "   CompetitiveRate3  CompetitiveRate4  CompetitiveRate5  CompetitiveRate6  \\\n",
       "0             1.425             1.425             2.375             1.725   \n",
       "1             1.125             2.375             1.175             1.425   \n",
       "2             1.425             1.675             2.375             1.675   \n",
       "3             1.125             2.375             1.175             1.425   \n",
       "4             1.425             1.675             2.375             1.675   \n",
       "\n",
       "   CompetitiveRate7  RateBefore  ReferenceRate  \n",
       "0             2.125       1.725          1.375  \n",
       "1             1.475       1.425          1.125  \n",
       "2             1.575       1.675          1.375  \n",
       "3             1.475       1.425          1.125  \n",
       "4             1.575       1.675          1.375  \n",
       "\n",
       "[5 rows x 35 columns]"
      ]
     },
     "execution_count": 5,
     "metadata": {},
     "output_type": "execute_result"
    }
   ],
   "source": [
    "df_test_1.head()"
   ]
  },
  {
   "cell_type": "code",
   "execution_count": null,
   "metadata": {},
   "outputs": [],
   "source": []
  },
  {
   "cell_type": "code",
   "execution_count": 6,
   "metadata": {},
   "outputs": [
    {
     "data": {
      "text/html": [
       "<div>\n",
       "<style scoped>\n",
       "    .dataframe tbody tr th:only-of-type {\n",
       "        vertical-align: middle;\n",
       "    }\n",
       "\n",
       "    .dataframe tbody tr th {\n",
       "        vertical-align: top;\n",
       "    }\n",
       "\n",
       "    .dataframe thead th {\n",
       "        text-align: right;\n",
       "    }\n",
       "</style>\n",
       "<table border=\"1\" class=\"dataframe\">\n",
       "  <thead>\n",
       "    <tr style=\"text-align: right;\">\n",
       "      <th></th>\n",
       "      <th>Customer_id</th>\n",
       "      <th>Target</th>\n",
       "      <th>Balance</th>\n",
       "      <th>PreviousCampaignResult</th>\n",
       "      <th>Product1</th>\n",
       "      <th>Product2</th>\n",
       "      <th>Product3</th>\n",
       "      <th>Product4</th>\n",
       "      <th>Product5</th>\n",
       "      <th>Product6</th>\n",
       "      <th>...</th>\n",
       "      <th>RegularInteractionIndicator</th>\n",
       "      <th>CompetitiveRate1</th>\n",
       "      <th>CompetitiveRate2</th>\n",
       "      <th>CompetitiveRate3</th>\n",
       "      <th>CompetitiveRate4</th>\n",
       "      <th>CompetitiveRate5</th>\n",
       "      <th>CompetitiveRate6</th>\n",
       "      <th>CompetitiveRate7</th>\n",
       "      <th>RateBefore</th>\n",
       "      <th>ReferenceRate</th>\n",
       "    </tr>\n",
       "  </thead>\n",
       "  <tbody>\n",
       "    <tr>\n",
       "      <th>0</th>\n",
       "      <td>CTSP000001</td>\n",
       "      <td>0</td>\n",
       "      <td>43824.59</td>\n",
       "      <td>0</td>\n",
       "      <td>0</td>\n",
       "      <td>0</td>\n",
       "      <td>0</td>\n",
       "      <td>0</td>\n",
       "      <td>0</td>\n",
       "      <td>0</td>\n",
       "      <td>...</td>\n",
       "      <td>0</td>\n",
       "      <td>1.025</td>\n",
       "      <td>1.925</td>\n",
       "      <td>1.125</td>\n",
       "      <td>2.375</td>\n",
       "      <td>1.175</td>\n",
       "      <td>1.425</td>\n",
       "      <td>1.475</td>\n",
       "      <td>1.425</td>\n",
       "      <td>1.125</td>\n",
       "    </tr>\n",
       "    <tr>\n",
       "      <th>1</th>\n",
       "      <td>CTSP000002</td>\n",
       "      <td>1</td>\n",
       "      <td>11256.21</td>\n",
       "      <td>0</td>\n",
       "      <td>0</td>\n",
       "      <td>0</td>\n",
       "      <td>0</td>\n",
       "      <td>0</td>\n",
       "      <td>0</td>\n",
       "      <td>0</td>\n",
       "      <td>...</td>\n",
       "      <td>3</td>\n",
       "      <td>1.475</td>\n",
       "      <td>1.425</td>\n",
       "      <td>1.425</td>\n",
       "      <td>1.425</td>\n",
       "      <td>2.375</td>\n",
       "      <td>1.725</td>\n",
       "      <td>2.125</td>\n",
       "      <td>1.725</td>\n",
       "      <td>1.375</td>\n",
       "    </tr>\n",
       "    <tr>\n",
       "      <th>2</th>\n",
       "      <td>CTSP000003</td>\n",
       "      <td>1</td>\n",
       "      <td>18795.11</td>\n",
       "      <td>0</td>\n",
       "      <td>1</td>\n",
       "      <td>1</td>\n",
       "      <td>0</td>\n",
       "      <td>0</td>\n",
       "      <td>0</td>\n",
       "      <td>0</td>\n",
       "      <td>...</td>\n",
       "      <td>0</td>\n",
       "      <td>1.425</td>\n",
       "      <td>2.375</td>\n",
       "      <td>1.425</td>\n",
       "      <td>1.675</td>\n",
       "      <td>2.375</td>\n",
       "      <td>1.675</td>\n",
       "      <td>1.575</td>\n",
       "      <td>1.675</td>\n",
       "      <td>1.375</td>\n",
       "    </tr>\n",
       "    <tr>\n",
       "      <th>3</th>\n",
       "      <td>CTSP000004</td>\n",
       "      <td>0</td>\n",
       "      <td>22274.72</td>\n",
       "      <td>0</td>\n",
       "      <td>0</td>\n",
       "      <td>0</td>\n",
       "      <td>0</td>\n",
       "      <td>0</td>\n",
       "      <td>0</td>\n",
       "      <td>0</td>\n",
       "      <td>...</td>\n",
       "      <td>0</td>\n",
       "      <td>1.475</td>\n",
       "      <td>1.425</td>\n",
       "      <td>1.425</td>\n",
       "      <td>1.425</td>\n",
       "      <td>2.375</td>\n",
       "      <td>1.725</td>\n",
       "      <td>2.125</td>\n",
       "      <td>1.725</td>\n",
       "      <td>1.375</td>\n",
       "    </tr>\n",
       "    <tr>\n",
       "      <th>4</th>\n",
       "      <td>CTSP000005</td>\n",
       "      <td>0</td>\n",
       "      <td>47923.40</td>\n",
       "      <td>0</td>\n",
       "      <td>1</td>\n",
       "      <td>0</td>\n",
       "      <td>0</td>\n",
       "      <td>0</td>\n",
       "      <td>0</td>\n",
       "      <td>0</td>\n",
       "      <td>...</td>\n",
       "      <td>0</td>\n",
       "      <td>1.475</td>\n",
       "      <td>1.425</td>\n",
       "      <td>1.425</td>\n",
       "      <td>1.425</td>\n",
       "      <td>2.375</td>\n",
       "      <td>1.725</td>\n",
       "      <td>2.125</td>\n",
       "      <td>1.725</td>\n",
       "      <td>1.375</td>\n",
       "    </tr>\n",
       "  </tbody>\n",
       "</table>\n",
       "<p>5 rows × 37 columns</p>\n",
       "</div>"
      ],
      "text/plain": [
       "  Customer_id  Target   Balance  PreviousCampaignResult  Product1  Product2  \\\n",
       "0  CTSP000001       0  43824.59                       0         0         0   \n",
       "1  CTSP000002       1  11256.21                       0         0         0   \n",
       "2  CTSP000003       1  18795.11                       0         1         1   \n",
       "3  CTSP000004       0  22274.72                       0         0         0   \n",
       "4  CTSP000005       0  47923.40                       0         1         0   \n",
       "\n",
       "   Product3  Product4  Product5  Product6  ...  RegularInteractionIndicator  \\\n",
       "0         0         0         0         0  ...                            0   \n",
       "1         0         0         0         0  ...                            3   \n",
       "2         0         0         0         0  ...                            0   \n",
       "3         0         0         0         0  ...                            0   \n",
       "4         0         0         0         0  ...                            0   \n",
       "\n",
       "   CompetitiveRate1  CompetitiveRate2  CompetitiveRate3  CompetitiveRate4  \\\n",
       "0             1.025             1.925             1.125             2.375   \n",
       "1             1.475             1.425             1.425             1.425   \n",
       "2             1.425             2.375             1.425             1.675   \n",
       "3             1.475             1.425             1.425             1.425   \n",
       "4             1.475             1.425             1.425             1.425   \n",
       "\n",
       "   CompetitiveRate5  CompetitiveRate6  CompetitiveRate7  RateBefore  \\\n",
       "0             1.175             1.425             1.475       1.425   \n",
       "1             2.375             1.725             2.125       1.725   \n",
       "2             2.375             1.675             1.575       1.675   \n",
       "3             2.375             1.725             2.125       1.725   \n",
       "4             2.375             1.725             2.125       1.725   \n",
       "\n",
       "   ReferenceRate  \n",
       "0          1.125  \n",
       "1          1.375  \n",
       "2          1.375  \n",
       "3          1.375  \n",
       "4          1.375  \n",
       "\n",
       "[5 rows x 37 columns]"
      ]
     },
     "execution_count": 6,
     "metadata": {},
     "output_type": "execute_result"
    }
   ],
   "source": [
    "df_train.head()"
   ]
  },
  {
   "cell_type": "code",
   "execution_count": 7,
   "metadata": {},
   "outputs": [
    {
     "name": "stdout",
     "output_type": "stream",
     "text": [
      "TARGET: Target\n",
      "columns_predictors: ['Balance', 'PreviousCampaignResult', 'Product1', 'Product2', 'Product3', 'Product4', 'Product5', 'Product6', 'Transaction1', 'Transaction2', 'Transaction3', 'Transaction4', 'Transaction5', 'Transaction6', 'Transaction7', 'Transaction8', 'Transaction9', 'ExternalAccount1', 'ExternalAccount2', 'ExternalAccount3', 'ExternalAccount4', 'ExternalAccount5', 'ExternalAccount6', 'ExternalAccount7', 'ActivityIndicator', 'RegularInteractionIndicator', 'CompetitiveRate1', 'CompetitiveRate2', 'CompetitiveRate3', 'CompetitiveRate4', 'CompetitiveRate5', 'CompetitiveRate6', 'CompetitiveRate7', 'RateBefore', 'ReferenceRate']\n",
      "columns_categorical: ['ReferenceRate', 'PreviousCampaignResult', 'Product1', 'Product2', 'Product3', 'Product4', 'Product5', 'Product6', 'ExternalAccount1', 'ExternalAccount2', 'ExternalAccount3', 'ExternalAccount4', 'ExternalAccount5', 'ExternalAccount6', 'ExternalAccount7']\n",
      "columns_numerical: ['Balance', 'Transaction1', 'Transaction2', 'Transaction3', 'Transaction4', 'Transaction5', 'Transaction6', 'Transaction7', 'Transaction8', 'Transaction9', 'ActivityIndicator', 'RegularInteractionIndicator', 'CompetitiveRate1', 'CompetitiveRate2', 'CompetitiveRate3', 'CompetitiveRate4', 'CompetitiveRate5', 'CompetitiveRate6', 'CompetitiveRate7', 'RateBefore']\n"
     ]
    }
   ],
   "source": [
    "df_train = df_train.drop('Customer_id',axis=1)\n",
    "\n",
    "TARGET = \"Target\"\n",
    "columns_predictors = [col for col in df_train.columns if col not in [TARGET]]\n",
    "columns_categorical = ['ReferenceRate', 'PreviousCampaignResult', 'Product1', 'Product2', 'Product3', 'Product4', 'Product5', 'Product6', 'ExternalAccount1', 'ExternalAccount2', 'ExternalAccount3', 'ExternalAccount4', 'ExternalAccount5', 'ExternalAccount6', 'ExternalAccount7']\n",
    "columns_numerical = [col for col in columns_predictors if col not in columns_categorical]\n",
    "print(f\"TARGET: {TARGET}\")\n",
    "print(f\"columns_predictors: {columns_predictors}\")\n",
    "print(f\"columns_categorical: {columns_categorical}\")\n",
    "print(f\"columns_numerical: {columns_numerical}\")"
   ]
  },
  {
   "cell_type": "markdown",
   "metadata": {},
   "source": [
    "# Exploratory Analysis"
   ]
  },
  {
   "cell_type": "code",
   "execution_count": 8,
   "metadata": {},
   "outputs": [
    {
     "data": {
      "image/png": "[encoded data removed]",
      "text/plain": [
       "<Figure size 1440x1080 with 36 Axes>"
      ]
     },
     "metadata": {
      "needs_background": "light"
     },
     "output_type": "display_data"
    }
   ],
   "source": [
    "#Part 1 - Explore the data\n",
    "\n",
    "import matplotlib.pyplot as plt\n",
    "df_train.hist(bins=50, figsize=(20,15))\n",
    "plt.show()"
   ]
  },
  {
   "cell_type": "markdown",
   "metadata": {},
   "source": [
    "# Splitting Data and Transformations"
   ]
  },
  {
   "cell_type": "code",
   "execution_count": 9,
   "metadata": {},
   "outputs": [
    {
     "name": "stdout",
     "output_type": "stream",
     "text": [
      "X_train.shape: (47999, 35)\n",
      "X_test.shape: (16000, 35)\n",
      "y_train.shape: (47999,)\n",
      "y_test.shape: (16000,)\n"
     ]
    }
   ],
   "source": [
    "X = df_train[columns_predictors]\n",
    "y = df_train[TARGET]\n",
    "\n",
    "from sklearn.model_selection import train_test_split\n",
    "X_train, X_test, y_train, y_test = train_test_split(X, y, test_size=0.25, random_state=10086, stratify=y) #stratified sampling based on the target\n",
    "print(f\"X_train.shape: {X_train.shape}\")\n",
    "print(f\"X_test.shape: {X_test.shape}\")\n",
    "print(f\"y_train.shape: {y_train.shape}\")\n",
    "print(f\"y_test.shape: {y_test.shape}\")"
   ]
  },
  {
   "cell_type": "code",
   "execution_count": 10,
   "metadata": {},
   "outputs": [],
   "source": [
    "#Create numerical pipeline to transform numerical values\n",
    "\n",
    "from sklearn.pipeline import Pipeline\n",
    "from sklearn.compose import ColumnTransformer \n",
    "from sklearn.preprocessing import MinMaxScaler, OneHotEncoder ,StandardScaler\n",
    "\n",
    "#Convert the non transformed Dataframe into list.\n",
    "columns_categorical_list = list(columns_categorical)\n",
    "columns_numerical_list = list(columns_numerical)\n",
    "\n",
    "pipeline_categorical = Pipeline([\n",
    "  ('onehot', OneHotEncoder(handle_unknown='error')),\n",
    "])\n",
    "\n",
    "pipeline_numerical = Pipeline([\n",
    "  ('scaler', StandardScaler()),\n",
    "])\n",
    "\n",
    "pipeline_full = ColumnTransformer([\n",
    "  (\"categorical\", pipeline_categorical, columns_categorical_list),\n",
    "  (\"numerical\", pipeline_numerical, columns_numerical_list),\n",
    "])"
   ]
  },
  {
   "cell_type": "code",
   "execution_count": 11,
   "metadata": {},
   "outputs": [
    {
     "name": "stdout",
     "output_type": "stream",
     "text": [
      "X_train_transformed.shape: (47999, 51)\n",
      "X_test_transformed.shape: (16000, 51)\n",
      "df_test_1_transformed.shape: (1480, 51)\n"
     ]
    }
   ],
   "source": [
    "pipeline_full = ColumnTransformer([\n",
    "  (\"categorical\", pipeline_categorical, columns_categorical),\n",
    "  (\"numerical\", pipeline_numerical, columns_numerical),\n",
    "])\n",
    "\n",
    "pipeline_full.fit(X_train)\n",
    "X_train_transformed = pipeline_full.transform(X_train)\n",
    "X_test_transformed = pipeline_full.transform(X_test)\n",
    "df_test_1_transformed = pipeline_full.transform(df_test_1)\n",
    "print(f\"X_train_transformed.shape: {X_train_transformed.shape}\")\n",
    "print(f\"X_test_transformed.shape: {X_test_transformed.shape}\")\n",
    "print(f\"df_test_1_transformed.shape: {df_test_1_transformed.shape}\")"
   ]
  },
  {
   "cell_type": "markdown",
   "metadata": {},
   "source": [
    "# Binary Classification "
   ]
  },
  {
   "cell_type": "code",
   "execution_count": 12,
   "metadata": {},
   "outputs": [
    {
     "data": {
      "text/plain": [
       "SGDClassifier(alpha=0.0001, average=False, class_weight=None,\n",
       "              early_stopping=False, epsilon=0.1, eta0=0.0, fit_intercept=True,\n",
       "              l1_ratio=0.15, learning_rate='optimal', loss='hinge',\n",
       "              max_iter=1000, n_iter_no_change=5, n_jobs=None, penalty='l2',\n",
       "              power_t=0.5, random_state=42, shuffle=True, tol=0.001,\n",
       "              validation_fraction=0.1, verbose=0, warm_start=False)"
      ]
     },
     "execution_count": 12,
     "metadata": {},
     "output_type": "execute_result"
    }
   ],
   "source": [
    "from sklearn.linear_model import SGDClassifier\n",
    "from sklearn.model_selection import StratifiedKFold\n",
    "\n",
    "sgd_clf = SGDClassifier(max_iter=1000, tol=1e-3, random_state=42)\n",
    "sgd_clf.fit(X_train_transformed, y_train)"
   ]
  },
  {
   "cell_type": "code",
   "execution_count": 13,
   "metadata": {},
   "outputs": [
    {
     "data": {
      "text/plain": [
       "array([0, 1, 1, ..., 1, 0, 0], dtype=int64)"
      ]
     },
     "execution_count": 13,
     "metadata": {},
     "output_type": "execute_result"
    }
   ],
   "source": [
    "sgd_clf.predict(X_test_transformed)"
   ]
  },
  {
   "cell_type": "code",
   "execution_count": 14,
   "metadata": {},
   "outputs": [
    {
     "data": {
      "text/plain": [
       "array([0.57855268, 0.55147197, 0.60022501])"
      ]
     },
     "execution_count": 14,
     "metadata": {},
     "output_type": "execute_result"
    }
   ],
   "source": [
    "from sklearn.model_selection import cross_val_score\n",
    "cross_val_score(sgd_clf, X_test_transformed, y_test, cv=3, scoring=\"accuracy\")"
   ]
  },
  {
   "cell_type": "code",
   "execution_count": 15,
   "metadata": {},
   "outputs": [],
   "source": [
    "from sklearn.base import BaseEstimator\n",
    "class ZeroClassifier(BaseEstimator):\n",
    "    def fit(self, X, y=None):\n",
    "        pass\n",
    "    def predict(self, X):\n",
    "        return np.zeros((len(X), 1), dtype=bool)"
   ]
  },
  {
   "cell_type": "code",
   "execution_count": 16,
   "metadata": {},
   "outputs": [
    {
     "data": {
      "text/plain": [
       "array([0.4964375 , 0.5056875 , 0.49853116])"
      ]
     },
     "execution_count": 16,
     "metadata": {},
     "output_type": "execute_result"
    }
   ],
   "source": [
    "Zero_clf = ZeroClassifier()\n",
    "cross_val_score(Zero_clf, X_train_transformed, y_train, cv=3, scoring=\"accuracy\")"
   ]
  },
  {
   "cell_type": "code",
   "execution_count": 17,
   "metadata": {},
   "outputs": [],
   "source": [
    "from sklearn.model_selection import cross_val_predict\n",
    "\n",
    "y_train_pred = cross_val_predict(sgd_clf, X_train_transformed, y_train, cv=3)"
   ]
  },
  {
   "cell_type": "code",
   "execution_count": 18,
   "metadata": {},
   "outputs": [
    {
     "data": {
      "text/plain": [
       "array([[17403,  6607],\n",
       "       [12456, 11533]], dtype=int64)"
      ]
     },
     "execution_count": 18,
     "metadata": {},
     "output_type": "execute_result"
    }
   ],
   "source": [
    "from sklearn.metrics import confusion_matrix\n",
    "\n",
    "confusion_matrix(y_train, y_train_pred)"
   ]
  },
  {
   "cell_type": "code",
   "execution_count": 19,
   "metadata": {},
   "outputs": [
    {
     "data": {
      "text/plain": [
       "array([[24010,     0],\n",
       "       [    0, 23989]], dtype=int64)"
      ]
     },
     "execution_count": 19,
     "metadata": {},
     "output_type": "execute_result"
    }
   ],
   "source": [
    "y_train_perfect_predictions = y_train  # pretend we reached perfection\n",
    "confusion_matrix(y_train, y_train_perfect_predictions)"
   ]
  },
  {
   "cell_type": "code",
   "execution_count": 20,
   "metadata": {},
   "outputs": [
    {
     "name": "stdout",
     "output_type": "stream",
     "text": [
      "Precision Score: 0.6357772877618523\n",
      "Recall Score: 0.48076201592396517\n"
     ]
    }
   ],
   "source": [
    "from sklearn.metrics import precision_score, recall_score\n",
    "\n",
    "print(\"Precision Score:\", precision_score(y_train, y_train_pred))\n",
    "print(\"Recall Score:\", recall_score(y_train, y_train_pred))"
   ]
  },
  {
   "cell_type": "code",
   "execution_count": 21,
   "metadata": {},
   "outputs": [
    {
     "name": "stdout",
     "output_type": "stream",
     "text": [
      "F1 Score: 0.5475088418903844\n"
     ]
    }
   ],
   "source": [
    "from sklearn.metrics import f1_score\n",
    "\n",
    "print(\"F1 Score:\", f1_score(y_train, y_train_pred))"
   ]
  },
  {
   "cell_type": "code",
   "execution_count": 22,
   "metadata": {},
   "outputs": [
    {
     "data": {
      "text/plain": [
       "array([-0.80986875, -0.88933091, -1.31001232, ..., -0.9635658 ,\n",
       "        0.00581489, -0.94112986])"
      ]
     },
     "execution_count": 22,
     "metadata": {},
     "output_type": "execute_result"
    }
   ],
   "source": [
    "y_scores = sgd_clf.decision_function(df_test_1_transformed)\n",
    "y_scores"
   ]
  },
  {
   "cell_type": "code",
   "execution_count": 23,
   "metadata": {},
   "outputs": [],
   "source": [
    "y_scores = cross_val_predict(sgd_clf, X_train_transformed, y_train, cv=3,\n",
    "                             method=\"decision_function\")"
   ]
  },
  {
   "cell_type": "code",
   "execution_count": 24,
   "metadata": {},
   "outputs": [],
   "source": [
    "from sklearn.metrics import precision_recall_curve\n",
    "\n",
    "precisions, recalls, thresholds = precision_recall_curve(y_train, y_scores)"
   ]
  },
  {
   "cell_type": "code",
   "execution_count": 25,
   "metadata": {},
   "outputs": [
    {
     "data": {
      "text/plain": [
       "True"
      ]
     },
     "execution_count": 25,
     "metadata": {},
     "output_type": "execute_result"
    }
   ],
   "source": [
    "(y_train_pred == (y_scores > 0)).all()"
   ]
  },
  {
   "cell_type": "code",
   "execution_count": 26,
   "metadata": {},
   "outputs": [
    {
     "data": {
      "text/plain": [
       "0.6402355956253655"
      ]
     },
     "execution_count": 26,
     "metadata": {},
     "output_type": "execute_result"
    }
   ],
   "source": [
    "from sklearn.metrics import roc_auc_score\n",
    "\n",
    "roc_auc_score(y_train, y_scores)"
   ]
  },
  {
   "cell_type": "code",
   "execution_count": 27,
   "metadata": {},
   "outputs": [
    {
     "data": {
      "text/plain": [
       "array([0, 0, 0, ..., 0, 1, 0], dtype=int64)"
      ]
     },
     "execution_count": 27,
     "metadata": {},
     "output_type": "execute_result"
    }
   ],
   "source": [
    "submission_SGDC = sgd_clf.predict(df_test_1_transformed)\n",
    "submission_SGDC"
   ]
  },
  {
   "cell_type": "code",
   "execution_count": 32,
   "metadata": {},
   "outputs": [],
   "source": [
    "\n",
    "\n",
    "Customer_ID = df_test['Customer_id']\n",
    "my_submission_SGDC = pd.DataFrame({\n",
    "                  \"Customer_id\": Customer_ID, \n",
    "                  \"Target\": submission_SGDC})\n",
    "my_submission_SGDC.to_csv('my_submission_SGDC.csv', index=False)\n",
    "\n",
    "#my_submission_SGDC = pd.DataFrame({'Customer_id': df_test.Customer_id, 'Target': submission_SGDC})\n",
    "#my_submission_SGDC.to_csv('my_submission_SGDC.csv', index=False)\n",
    "#from google.colab import files\n",
    "#files.download(\"my_submission_SGDC.csv\")"
   ]
  },
  {
   "cell_type": "code",
   "execution_count": null,
   "metadata": {},
   "outputs": [],
   "source": [
    "# Not sure about this, should we keep it?\n",
    "\n",
    "from sklearn.metrics import roc_curve\n",
    "\n",
    "#for random forest\n",
    "fpr, tpr, thresholds = roc_curve(y_train,y_scores)\n",
    "\n",
    "def plot_roc_curve(fpr, tpr, label=None):\n",
    "    plt.plot(fpr, tpr, linewidth=2, label=label)\n",
    "    plt.plot([0, 1], [0, 1], 'k--')\n",
    "    plt.axis([0, 1, 0, 1])\n",
    "    plt.xlabel('False Positive Rate', fontsize=16)\n",
    "    plt.ylabel('True Positive Rate', fontsize=16)\n",
    "    \n",
    "#Plot the Roc Curve\n",
    "plot_roc_curve(fpr, tpr, \"Binary Classification\")\n",
    "\n",
    "plt.legend(loc=\"lower right\", fontsize=16)\n",
    "plt.show()"
   ]
  },
  {
   "cell_type": "code",
   "execution_count": null,
   "metadata": {},
   "outputs": [],
   "source": [
    "# Not sure about this, should we keep it?\n",
    "\n",
    "# keep probabilities for the positive outcome only\n",
    "#y_binary_scores = y_train_pred[:, 1] # score = proba of positive class\n",
    "# calculate roc curves\n",
    "fpr, tpr, thresholds = roc_curve(y_train,y_train_pred)\n",
    "# get the best threshold\n",
    "J = tpr - fpr\n",
    "J.max()\n",
    "best_thresh = J.max()\n",
    "#J = J.astype(int)\n",
    "#ix = np.argmax(J)\n",
    "#best_thresh = thresholds[ix]\n",
    "best_thresh"
   ]
  },
  {
   "cell_type": "code",
   "execution_count": null,
   "metadata": {},
   "outputs": [],
   "source": [
    "# Not sure about this, should we keep it?\n",
    "\n",
    "#threshold = 0.11\n",
    "\n",
    "y_df_test_pred = (y_scores > best_thresh)\n",
    "\n",
    "print(precision_score(y_train, y_df_test_pred ))\n",
    "print(recall_score(y_train, y_df_test_pred ))\n",
    "y_df_test_pred"
   ]
  },
  {
   "cell_type": "code",
   "execution_count": null,
   "metadata": {},
   "outputs": [],
   "source": [
    "# Not sure about this, should we keep it?\n",
    "\n",
    "from sklearn.model_selection import cross_val_score\n",
    "\n",
    "Average_Score = cross_val_score(sgd_clf, X_train_transformed, y_df_test_pred, cv = 6, scoring = \"f1\")\n",
    "\n",
    "print(Average_Score) \n",
    "\n",
    "print(np.average(Average_Score))"
   ]
  },
  {
   "cell_type": "code",
   "execution_count": null,
   "metadata": {},
   "outputs": [],
   "source": [
    "# Not sure about this, should we keep it?\n",
    "\n",
    "NewR_Threshhold = y_df_test_pred.astype(int)\n",
    "\n",
    "sgd_clf_final = SGDClassifier(max_iter=1000, tol=1e-3, random_state=42)\n",
    "sgd_clf_final.fit(X_train_transformed, NewR_Threshhold)"
   ]
  },
  {
   "cell_type": "code",
   "execution_count": null,
   "metadata": {},
   "outputs": [],
   "source": [
    "# Not sure about this, should we keep it?\n",
    "\n",
    "submission_SGDC = sgd_clf.predict(df_test_1_transformed)\n",
    "submission_SGDC"
   ]
  },
  {
   "cell_type": "code",
   "execution_count": null,
   "metadata": {},
   "outputs": [],
   "source": [
    "# Not sure about this, should we keep it?\n",
    "\n",
    "my_submission_SGDC = pd.DataFrame({'Customer_id': df_test.Customer_id, 'Target': submission_SGDC})\n",
    "my_submission_SGDC.to_csv('my_submission_SGDC.csv', index=False)\n",
    "from google.colab import files\n",
    "files.download(\"my_submission_SGDC.csv\")"
   ]
  },
  {
   "cell_type": "markdown",
   "metadata": {},
   "source": [
    "# KNN"
   ]
  },
  {
   "cell_type": "code",
   "execution_count": 33,
   "metadata": {},
   "outputs": [
    {
     "data": {
      "text/plain": [
       "KNeighborsClassifier(algorithm='auto', leaf_size=30, metric='minkowski',\n",
       "                     metric_params=None, n_jobs=None, n_neighbors=4, p=2,\n",
       "                     weights='distance')"
      ]
     },
     "execution_count": 33,
     "metadata": {},
     "output_type": "execute_result"
    }
   ],
   "source": [
    "from sklearn.neighbors import KNeighborsClassifier\n",
    "knn_clf = KNeighborsClassifier(weights='distance', n_neighbors=4)\n",
    "knn_clf.fit(X_train_transformed, y_train)"
   ]
  },
  {
   "cell_type": "code",
   "execution_count": 34,
   "metadata": {},
   "outputs": [],
   "source": [
    "y_knn_pred = knn_clf.predict(X_test_transformed)"
   ]
  },
  {
   "cell_type": "code",
   "execution_count": 35,
   "metadata": {},
   "outputs": [
    {
     "data": {
      "text/plain": [
       "0.5538125"
      ]
     },
     "execution_count": 35,
     "metadata": {},
     "output_type": "execute_result"
    }
   ],
   "source": [
    "from sklearn.metrics import accuracy_score\n",
    "accuracy_score(y_test, y_knn_pred)"
   ]
  },
  {
   "cell_type": "code",
   "execution_count": 36,
   "metadata": {},
   "outputs": [
    {
     "data": {
      "text/plain": [
       "array([0, 1, 0, ..., 1, 1, 0], dtype=int64)"
      ]
     },
     "execution_count": 36,
     "metadata": {},
     "output_type": "execute_result"
    }
   ],
   "source": [
    "y_knn_pred_df_test = knn_clf.predict(df_test_1_transformed)\n",
    "y_knn_pred_df_test"
   ]
  },
  {
   "cell_type": "code",
   "execution_count": 37,
   "metadata": {},
   "outputs": [
    {
     "data": {
      "text/plain": [
       "array([0.5568054 , 0.54472155, 0.53478342])"
      ]
     },
     "execution_count": 37,
     "metadata": {},
     "output_type": "execute_result"
    }
   ],
   "source": [
    "from sklearn.model_selection import cross_val_score\n",
    "cross_val_score(knn_clf, X_test_transformed, y_test, cv=3, scoring=\"accuracy\")"
   ]
  },
  {
   "cell_type": "code",
   "execution_count": 38,
   "metadata": {},
   "outputs": [],
   "source": [
    "Customer_ID = df_test['Customer_id']\n",
    "my_submission_KNN = pd.DataFrame({\n",
    "                  \"Customer_id\": Customer_ID, \n",
    "                  \"Target\": y_knn_pred_df_test})\n",
    "my_submission_KNN.to_csv('my_submission_KNN.csv', index=False)\n",
    "\n",
    "#my_submission_KNN = pd.DataFrame({'Customer_id': df_test.Customer_id, 'Target': y_knn_pred_df_test})\n",
    "#my_submission_KNN.to_csv('my_submission_KNN.csv', index=False)\n",
    "#from google.colab import files\n",
    "#files.download(\"my_submission_KNN.csv\")"
   ]
  },
  {
   "cell_type": "markdown",
   "metadata": {},
   "source": [
    "# Voting Classifiers"
   ]
  },
  {
   "cell_type": "code",
   "execution_count": 39,
   "metadata": {},
   "outputs": [],
   "source": [
    "from sklearn.ensemble import RandomForestClassifier\n",
    "from sklearn.ensemble import VotingClassifier\n",
    "from sklearn.linear_model import LogisticRegression\n",
    "from sklearn.svm import SVC\n",
    "\n",
    "log_clf = LogisticRegression(solver=\"lbfgs\", random_state=42)\n",
    "rnd_clf = RandomForestClassifier(n_estimators=100, random_state=42)\n",
    "svm_clf = SVC(gamma=\"scale\", random_state=42)\n",
    "\n",
    "voting_clf = VotingClassifier(\n",
    "    estimators=[('lr', log_clf), ('rf', rnd_clf), ('svc', svm_clf)],\n",
    "    voting='hard')"
   ]
  },
  {
   "cell_type": "code",
   "execution_count": 40,
   "metadata": {},
   "outputs": [
    {
     "data": {
      "text/plain": [
       "VotingClassifier(estimators=[('lr',\n",
       "                              LogisticRegression(C=1.0, class_weight=None,\n",
       "                                                 dual=False, fit_intercept=True,\n",
       "                                                 intercept_scaling=1,\n",
       "                                                 l1_ratio=None, max_iter=100,\n",
       "                                                 multi_class='auto',\n",
       "                                                 n_jobs=None, penalty='l2',\n",
       "                                                 random_state=42,\n",
       "                                                 solver='lbfgs', tol=0.0001,\n",
       "                                                 verbose=0, warm_start=False)),\n",
       "                             ('rf',\n",
       "                              RandomForestClassifier(bootstrap=True,\n",
       "                                                     ccp_alpha=0.0,\n",
       "                                                     class_weight=None,\n",
       "                                                     crit...\n",
       "                                                     oob_score=False,\n",
       "                                                     random_state=42, verbose=0,\n",
       "                                                     warm_start=False)),\n",
       "                             ('svc',\n",
       "                              SVC(C=1.0, break_ties=False, cache_size=200,\n",
       "                                  class_weight=None, coef0=0.0,\n",
       "                                  decision_function_shape='ovr', degree=3,\n",
       "                                  gamma='scale', kernel='rbf', max_iter=-1,\n",
       "                                  probability=False, random_state=42,\n",
       "                                  shrinking=True, tol=0.001, verbose=False))],\n",
       "                 flatten_transform=True, n_jobs=None, voting='hard',\n",
       "                 weights=None)"
      ]
     },
     "execution_count": 40,
     "metadata": {},
     "output_type": "execute_result"
    }
   ],
   "source": [
    "voting_clf.fit(X_train_transformed, y_train)\n"
   ]
  },
  {
   "cell_type": "code",
   "execution_count": 41,
   "metadata": {},
   "outputs": [
    {
     "name": "stdout",
     "output_type": "stream",
     "text": [
      "LogisticRegression 0.6145\n",
      "RandomForestClassifier 0.59275\n",
      "SVC 0.6181875\n",
      "VotingClassifier 0.6216875\n"
     ]
    }
   ],
   "source": [
    "from sklearn.metrics import accuracy_score\n",
    "\n",
    "for clf in (log_clf, rnd_clf, svm_clf, voting_clf):\n",
    "    clf.fit(X_train_transformed, y_train)\n",
    "    y_pred = clf.predict(X_test_transformed)\n",
    "    print(clf.__class__.__name__, accuracy_score(y_test, y_pred))"
   ]
  },
  {
   "cell_type": "code",
   "execution_count": 42,
   "metadata": {},
   "outputs": [],
   "source": [
    "y_pred_final_HardVoting = voting_clf.predict(df_test_1_transformed)"
   ]
  },
  {
   "cell_type": "code",
   "execution_count": 43,
   "metadata": {},
   "outputs": [
    {
     "data": {
      "text/plain": [
       "array([0, 0, 0, ..., 0, 1, 0], dtype=int64)"
      ]
     },
     "execution_count": 43,
     "metadata": {},
     "output_type": "execute_result"
    }
   ],
   "source": [
    "y_pred_final_HardVoting"
   ]
  },
  {
   "cell_type": "code",
   "execution_count": 44,
   "metadata": {},
   "outputs": [],
   "source": [
    "Customer_ID = df_test['Customer_id']\n",
    "my_submission_HardVoting = pd.DataFrame({\n",
    "                  \"Customer_id\": Customer_ID, \n",
    "                  \"Target\": y_pred_final_HardVoting})\n",
    "my_submission_HardVoting.to_csv('my_submission_HardVoting.csv', index=False)\n",
    "\n",
    "#my_submission_HardVoting = pd.DataFrame({'Customer_id': df_test.Customer_id, 'Target': y_pred_final_HardVoting})\n",
    "#my_submission_HardVoting.to_csv('my_submission_HardVoting.csv', index=False)\n",
    "#from google.colab import files\n",
    "#files.download(\"my_submission_HardVoting.csv\")"
   ]
  },
  {
   "cell_type": "code",
   "execution_count": 45,
   "metadata": {},
   "outputs": [
    {
     "data": {
      "text/plain": [
       "VotingClassifier(estimators=[('lr',\n",
       "                              LogisticRegression(C=1.0, class_weight=None,\n",
       "                                                 dual=False, fit_intercept=True,\n",
       "                                                 intercept_scaling=1,\n",
       "                                                 l1_ratio=None, max_iter=100,\n",
       "                                                 multi_class='auto',\n",
       "                                                 n_jobs=None, penalty='l2',\n",
       "                                                 random_state=42,\n",
       "                                                 solver='lbfgs', tol=0.0001,\n",
       "                                                 verbose=0, warm_start=False)),\n",
       "                             ('rf',\n",
       "                              RandomForestClassifier(bootstrap=True,\n",
       "                                                     ccp_alpha=0.0,\n",
       "                                                     class_weight=None,\n",
       "                                                     crit...\n",
       "                                                     oob_score=False,\n",
       "                                                     random_state=42, verbose=0,\n",
       "                                                     warm_start=False)),\n",
       "                             ('svc',\n",
       "                              SVC(C=1.0, break_ties=False, cache_size=200,\n",
       "                                  class_weight=None, coef0=0.0,\n",
       "                                  decision_function_shape='ovr', degree=3,\n",
       "                                  gamma='scale', kernel='rbf', max_iter=-1,\n",
       "                                  probability=True, random_state=42,\n",
       "                                  shrinking=True, tol=0.001, verbose=False))],\n",
       "                 flatten_transform=True, n_jobs=None, voting='soft',\n",
       "                 weights=None)"
      ]
     },
     "execution_count": 45,
     "metadata": {},
     "output_type": "execute_result"
    }
   ],
   "source": [
    "# soft voting\n",
    "\n",
    "log_clf = LogisticRegression(solver=\"lbfgs\", random_state=42)\n",
    "rnd_clf = RandomForestClassifier(n_estimators=100, random_state=42)\n",
    "svm_clf = SVC(gamma=\"scale\", probability=True, random_state=42)\n",
    "\n",
    "voting_clf2 = VotingClassifier(\n",
    "    estimators=[('lr', log_clf), ('rf', rnd_clf), ('svc', svm_clf)],\n",
    "    voting='soft')\n",
    "voting_clf2.fit(X_train_transformed, y_train)"
   ]
  },
  {
   "cell_type": "code",
   "execution_count": 46,
   "metadata": {},
   "outputs": [
    {
     "name": "stdout",
     "output_type": "stream",
     "text": [
      "LogisticRegression 0.6145\n",
      "RandomForestClassifier 0.59275\n",
      "SVC 0.6181875\n",
      "VotingClassifier 0.6165\n"
     ]
    }
   ],
   "source": [
    "from sklearn.metrics import accuracy_score\n",
    "\n",
    "for clf in (log_clf, rnd_clf, svm_clf, voting_clf2):\n",
    "    clf.fit(X_train_transformed, y_train)\n",
    "    y_pred = clf.predict(X_test_transformed)\n",
    "    print(clf.__class__.__name__, accuracy_score(y_test, y_pred))"
   ]
  },
  {
   "cell_type": "code",
   "execution_count": 47,
   "metadata": {},
   "outputs": [
    {
     "data": {
      "text/plain": [
       "array([0, 0, 0, ..., 0, 1, 0], dtype=int64)"
      ]
     },
     "execution_count": 47,
     "metadata": {},
     "output_type": "execute_result"
    }
   ],
   "source": [
    "y_pred_final_SoftVoting = svm_clf.predict(df_test_1_transformed)\n",
    "y_pred_final_SoftVoting"
   ]
  },
  {
   "cell_type": "code",
   "execution_count": 48,
   "metadata": {},
   "outputs": [],
   "source": [
    "Customer_ID = df_test['Customer_id']\n",
    "my_submission_SoftVoting = pd.DataFrame({\n",
    "                  \"Customer_id\": Customer_ID, \n",
    "                  \"Target\": y_pred_final_SoftVoting})\n",
    "my_submission_SoftVoting.to_csv('my_submission_SoftVoting.csv', index=False)\n",
    "\n",
    "#my_submission_SoftVoting = pd.DataFrame({'Customer_id': df_test.Customer_id, 'Target': y_pred_final_SoftVoting})\n",
    "#my_submission_SoftVoting.to_csv('my_submission_SoftVoting.csv', index=False)\n",
    "#from google.colab import files\n",
    "#files.download(\"my_submission_SoftVoting.csv\")"
   ]
  },
  {
   "cell_type": "markdown",
   "metadata": {},
   "source": [
    "# Bagging Ensembles"
   ]
  },
  {
   "cell_type": "code",
   "execution_count": 49,
   "metadata": {},
   "outputs": [],
   "source": [
    "from sklearn.ensemble import BaggingClassifier\n",
    "from sklearn.tree import DecisionTreeClassifier\n",
    "\n",
    "bag_clf = BaggingClassifier(\n",
    "    DecisionTreeClassifier(), n_estimators=500,\n",
    "    max_samples=100, bootstrap=True, random_state=42)\n",
    "bag_clf.fit(X_train_transformed, y_train)\n",
    "y_pred = bag_clf.predict(X_test_transformed)"
   ]
  },
  {
   "cell_type": "code",
   "execution_count": 50,
   "metadata": {},
   "outputs": [
    {
     "name": "stdout",
     "output_type": "stream",
     "text": [
      "0.6258125\n"
     ]
    }
   ],
   "source": [
    "from sklearn.metrics import accuracy_score\n",
    "print(accuracy_score(y_test, y_pred))"
   ]
  },
  {
   "cell_type": "code",
   "execution_count": 51,
   "metadata": {},
   "outputs": [
    {
     "name": "stdout",
     "output_type": "stream",
     "text": [
      "0.5380625\n"
     ]
    }
   ],
   "source": [
    "tree_clf = DecisionTreeClassifier(random_state=42)\n",
    "tree_clf.fit(X_train_transformed, y_train)\n",
    "y_pred_tree = tree_clf.predict(X_test_transformed)\n",
    "print(accuracy_score(y_test, y_pred_tree))"
   ]
  },
  {
   "cell_type": "markdown",
   "metadata": {},
   "source": [
    "Regular decision tree model performed worse comapared to the bagging classifier model. "
   ]
  },
  {
   "cell_type": "code",
   "execution_count": 52,
   "metadata": {},
   "outputs": [],
   "source": [
    "# Make a random forest\n",
    "\n",
    "#bag_clf = BaggingClassifier(\n",
    "#    DecisionTreeClassifier(max_features=\"sqrt\", max_leaf_nodes=16),\n",
    "#    n_estimators=500, random_state=42)"
   ]
  },
  {
   "cell_type": "code",
   "execution_count": 53,
   "metadata": {},
   "outputs": [],
   "source": [
    "#bag_clf.fit(X_train_transformed, y_train)\n",
    "#y_pred = bag_clf.predict(X_test_transformed)"
   ]
  },
  {
   "cell_type": "code",
   "execution_count": 54,
   "metadata": {},
   "outputs": [],
   "source": [
    "from sklearn.ensemble import RandomForestClassifier\n",
    "\n",
    "rnd_clf = RandomForestClassifier(n_estimators=500, max_leaf_nodes=16, random_state=42)\n",
    "rnd_clf.fit(X_train_transformed, y_train)\n",
    "\n",
    "y_pred_rf = rnd_clf.predict(X_test_transformed)"
   ]
  },
  {
   "cell_type": "code",
   "execution_count": 55,
   "metadata": {},
   "outputs": [
    {
     "name": "stdout",
     "output_type": "stream",
     "text": [
      "CompetitiveRate6 0.05462171186889403\n",
      "Product6 0.04131108578202509\n",
      "Transaction1 0.033896152424196066\n",
      "ReferenceRate 0.02121643817948723\n",
      "Product5 0.015514924114890619\n",
      "Product4 0.013592736614498446\n",
      "RateBefore 0.004902373763064334\n",
      "CompetitiveRate7 0.002802080170774556\n",
      "RegularInteractionIndicator 0.0014850213358336818\n",
      "CompetitiveRate1 0.0014377070543896333\n",
      "Transaction7 0.0013803698439623167\n",
      "Transaction6 0.0011638021397245627\n",
      "Transaction8 0.0009176747820424043\n",
      "Transaction9 0.0008188891120991244\n",
      "ExternalAccount3 0.000528174155948301\n",
      "Transaction4 0.0005192690731184816\n",
      "Transaction5 0.0004427886450015501\n",
      "CompetitiveRate5 0.00029670008606727457\n",
      "ExternalAccount4 0.00027512644316477175\n",
      "CompetitiveRate4 0.00022273755747741612\n",
      "ExternalAccount5 0.0001820814055819906\n",
      "ExternalAccount6 0.00017895275909870793\n",
      "ExternalAccount2 0.0001407275458108239\n",
      "Transaction2 0.00013319869747337084\n",
      "Transaction3 9.472171784079228e-05\n",
      "ExternalAccount1 9.357551957313676e-05\n",
      "CompetitiveRate2 9.284632889143638e-05\n",
      "PreviousCampaignResult 8.406986769228049e-05\n",
      "ExternalAccount7 8.139755186539307e-05\n",
      "CompetitiveRate3 8.131495861426132e-05\n",
      "Product2 6.987466024579746e-05\n",
      "Balance 3.809185701012639e-05\n",
      "Product1 3.6490281076590684e-05\n",
      "ActivityIndicator 3.6240483538162925e-05\n",
      "Product3 0.0\n"
     ]
    }
   ],
   "source": [
    "for name, score in sorted(zip(X_train.columns, rnd_clf.feature_importances_), key=lambda x: x[1],reverse=True):\n",
    "    print(name, score)"
   ]
  },
  {
   "cell_type": "code",
   "execution_count": 56,
   "metadata": {},
   "outputs": [
    {
     "data": {
      "text/plain": [
       "array([3.80918570e-05, 8.40698677e-05, 3.64902811e-05, 6.98746602e-05,\n",
       "       0.00000000e+00, 1.35927366e-02, 1.55149241e-02, 4.13110858e-02,\n",
       "       3.38961524e-02, 1.33198697e-04, 9.47217178e-05, 5.19269073e-04,\n",
       "       4.42788645e-04, 1.16380214e-03, 1.38036984e-03, 9.17674782e-04,\n",
       "       8.18889112e-04, 9.35755196e-05, 1.40727546e-04, 5.28174156e-04,\n",
       "       2.75126443e-04, 1.82081406e-04, 1.78952759e-04, 8.13975519e-05,\n",
       "       3.62404835e-05, 1.48502134e-03, 1.43770705e-03, 9.28463289e-05,\n",
       "       8.13149586e-05, 2.22737557e-04, 2.96700086e-04, 5.46217119e-02,\n",
       "       2.80208017e-03, 4.90237376e-03, 2.12164382e-02, 3.77397494e-01,\n",
       "       9.24129754e-02, 3.50222870e-02, 5.91657273e-03, 8.81054605e-03,\n",
       "       2.22587035e-02, 2.54819589e-01, 3.30799134e-03, 1.82485045e-04,\n",
       "       3.06736979e-04, 1.02441695e-04, 2.35088114e-04, 1.01078039e-04,\n",
       "       9.93450904e-05, 6.42870067e-05, 2.73032248e-04])"
      ]
     },
     "execution_count": 56,
     "metadata": {},
     "output_type": "execute_result"
    }
   ],
   "source": [
    "rnd_clf.feature_importances_"
   ]
  },
  {
   "cell_type": "code",
   "execution_count": 57,
   "metadata": {},
   "outputs": [
    {
     "data": {
      "text/plain": [
       "0.6218125"
      ]
     },
     "execution_count": 57,
     "metadata": {},
     "output_type": "execute_result"
    }
   ],
   "source": [
    "accuracy_score(y_test, y_pred_rf)"
   ]
  },
  {
   "cell_type": "code",
   "execution_count": 58,
   "metadata": {},
   "outputs": [
    {
     "data": {
      "text/plain": [
       "array([0, 0, 0, ..., 0, 1, 0], dtype=int64)"
      ]
     },
     "execution_count": 58,
     "metadata": {},
     "output_type": "execute_result"
    }
   ],
   "source": [
    "y_pred_final_Bagging = bag_clf.predict(df_test_1_transformed)\n",
    "y_pred_final_Bagging"
   ]
  },
  {
   "cell_type": "code",
   "execution_count": 59,
   "metadata": {},
   "outputs": [],
   "source": [
    "Customer_ID = df_test['Customer_id']\n",
    "my_submission_Bagging = pd.DataFrame({\n",
    "                  \"Customer_id\": Customer_ID, \n",
    "                  \"Target\": y_pred_final_Bagging})\n",
    "my_submission_Bagging.to_csv('my_submission_Bagging.csv', index=False)\n",
    "\n",
    "#my_submission_Bagging = pd.DataFrame({'Customer_id': df_test.Customer_id, 'Target': y_pred_final_Bagging})\n",
    "#my_submission_Bagging.to_csv('my_submission_Bagging.csv', index=False)\n",
    "#from google.colab import files\n",
    "#files.download(\"my_submission_Bagging.csv\")"
   ]
  },
  {
   "cell_type": "code",
   "execution_count": 60,
   "metadata": {},
   "outputs": [
    {
     "data": {
      "text/plain": [
       "0.5995124898435384"
      ]
     },
     "execution_count": 60,
     "metadata": {},
     "output_type": "execute_result"
    }
   ],
   "source": [
    "out_bag_clf = BaggingClassifier(\n",
    "    DecisionTreeClassifier(), n_estimators=500,\n",
    "    bootstrap=True, oob_score=True, random_state=40)\n",
    "out_bag_clf.fit(X_train_transformed, y_train)\n",
    "out_bag_clf.oob_score_"
   ]
  },
  {
   "cell_type": "code",
   "execution_count": 61,
   "metadata": {},
   "outputs": [
    {
     "data": {
      "text/plain": [
       "array([[0.39306358, 0.60693642],\n",
       "       [0.52525253, 0.47474747],\n",
       "       [0.36686391, 0.63313609],\n",
       "       ...,\n",
       "       [0.43684211, 0.56315789],\n",
       "       [0.89534884, 0.10465116],\n",
       "       [0.51851852, 0.48148148]])"
      ]
     },
     "execution_count": 61,
     "metadata": {},
     "output_type": "execute_result"
    }
   ],
   "source": [
    "out_bag_clf.oob_decision_function_"
   ]
  },
  {
   "cell_type": "code",
   "execution_count": 62,
   "metadata": {},
   "outputs": [
    {
     "data": {
      "text/plain": [
       "0.602125"
      ]
     },
     "execution_count": 62,
     "metadata": {},
     "output_type": "execute_result"
    }
   ],
   "source": [
    "y_pred_outofbag = out_bag_clf.predict(X_test_transformed)\n",
    "accuracy_score(y_test, y_pred_outofbag)"
   ]
  },
  {
   "cell_type": "code",
   "execution_count": 63,
   "metadata": {},
   "outputs": [
    {
     "data": {
      "text/plain": [
       "array([0, 0, 0, ..., 1, 1, 0], dtype=int64)"
      ]
     },
     "execution_count": 63,
     "metadata": {},
     "output_type": "execute_result"
    }
   ],
   "source": [
    "y_pred_final_outofbag = out_bag_clf.predict(df_test_1_transformed)\n",
    "y_pred_final_outofbag"
   ]
  },
  {
   "cell_type": "code",
   "execution_count": 97,
   "metadata": {},
   "outputs": [],
   "source": [
    "Customer_ID = df_test['Customer_id']\n",
    "my_submission_outofbag = pd.DataFrame({\n",
    "                  \"Customer_id\": Customer_ID, \n",
    "                  \"Target\": y_pred_final_outofbag})\n",
    "my_submission_outofbag.to_csv('my_submission_outofbag.csv', index=False)\n",
    "\n",
    "\n",
    "#my_submission_outofbag = pd.DataFrame({'Customer_id': df_test.Customer_id, 'Target': y_pred_final_outofbag})\n",
    "#my_submission_outofbag.to_csv('my_submission_outofbag.csv', index=False)\n",
    "#from google.colab import files\n",
    "#files.download(\"my_submission_outofbag.csv\")"
   ]
  },
  {
   "cell_type": "markdown",
   "metadata": {},
   "source": [
    "# In-Depth Import Libraries "
   ]
  },
  {
   "cell_type": "code",
   "execution_count": 65,
   "metadata": {},
   "outputs": [],
   "source": [
    "#import the libraries for all the classifiers.\n",
    "\n",
    "from sklearn.ensemble import RandomForestClassifier\n",
    "from sklearn.ensemble import AdaBoostClassifier\n",
    "from sklearn.ensemble import ExtraTreesClassifier\n",
    "from sklearn.ensemble import GradientBoostingClassifier\n",
    "from sklearn.linear_model import LogisticRegression\n",
    "from sklearn.model_selection import GridSearchCV\n",
    "from sklearn.model_selection import StratifiedShuffleSplit"
   ]
  },
  {
   "cell_type": "markdown",
   "metadata": {},
   "source": [
    "# Random Forest - In depth"
   ]
  },
  {
   "cell_type": "code",
   "execution_count": 66,
   "metadata": {},
   "outputs": [
    {
     "name": "stdout",
     "output_type": "stream",
     "text": [
      "X_train.shape: (47999, 35)\n",
      "X_nontrain.shape: (16000, 35)\n",
      "y_train.shape: (47999,)\n",
      "y_nontrain.shape: (16000,)\n",
      "X_stack.shape: (12000, 35)\n",
      "X_test.shape: (4000, 35)\n",
      "y_stack.shape: (12000,)\n",
      "y_test.shape: (4000,)\n"
     ]
    }
   ],
   "source": [
    "X_train, X_nontrain, y_train, y_nontrain = train_test_split(X, y, test_size=0.25, random_state=10086, stratify=y) #stratified sampling based on the target\n",
    "print(f\"X_train.shape: {X_train.shape}\")\n",
    "print(f\"X_nontrain.shape: {X_nontrain.shape}\")\n",
    "print(f\"y_train.shape: {y_train.shape}\")\n",
    "print(f\"y_nontrain.shape: {y_nontrain.shape}\")\n",
    "\n",
    "X_stack, X_test, y_stack, y_test = train_test_split(X_nontrain, y_nontrain, test_size=0.25, random_state=10086, stratify=y_nontrain) #stratified sampling based on the target\n",
    "print(f\"X_stack.shape: {X_stack.shape}\")\n",
    "print(f\"X_test.shape: {X_test.shape}\")\n",
    "print(f\"y_stack.shape: {y_stack.shape}\")\n",
    "print(f\"y_test.shape: {y_test.shape}\")"
   ]
  },
  {
   "cell_type": "code",
   "execution_count": 67,
   "metadata": {},
   "outputs": [
    {
     "name": "stdout",
     "output_type": "stream",
     "text": [
      "X_train_transformed.shape: (47999, 51)\n",
      "X_test_transformed.shape: (4000, 51)\n",
      "X_stack_transformed.shape: (12000, 51)\n"
     ]
    }
   ],
   "source": [
    "pipeline_full.fit(X_train)\n",
    "X_train_transformed = pipeline_full.transform(X_train)\n",
    "X_stack_transformed = pipeline_full.transform(X_stack)\n",
    "X_test_transformed = pipeline_full.transform(X_test)\n",
    "\n",
    "\n",
    "print(f\"X_train_transformed.shape: {X_train_transformed.shape}\")\n",
    "print(f\"X_test_transformed.shape: {X_test_transformed.shape}\")\n",
    "print(f\"X_stack_transformed.shape: {X_stack_transformed.shape}\")\n"
   ]
  },
  {
   "cell_type": "code",
   "execution_count": 68,
   "metadata": {},
   "outputs": [
    {
     "name": "stdout",
     "output_type": "stream",
     "text": [
      "Fitting 4 folds for each of 288 candidates, totalling 1152 fits\n"
     ]
    },
    {
     "name": "stderr",
     "output_type": "stream",
     "text": [
      "[Parallel(n_jobs=-1)]: Using backend LokyBackend with 24 concurrent workers.\n",
      "[Parallel(n_jobs=-1)]: Done 114 tasks      | elapsed:   10.0s\n",
      "[Parallel(n_jobs=-1)]: Done 317 tasks      | elapsed:   30.8s\n",
      "[Parallel(n_jobs=-1)]: Done 600 tasks      | elapsed:   53.3s\n",
      "[Parallel(n_jobs=-1)]: Done 965 tasks      | elapsed:  1.5min\n",
      "[Parallel(n_jobs=-1)]: Done 1152 out of 1152 | elapsed:  1.9min finished\n"
     ]
    },
    {
     "name": "stdout",
     "output_type": "stream",
     "text": [
      "{'max_depth': 10, 'max_features': 0.5, 'max_leaf_nodes': 10, 'min_samples_leaf': 0.1, 'min_samples_split': 0.1, 'n_estimators': 200, 'oob_score': True}\n",
      "RandomForestClassifier(bootstrap=True, ccp_alpha=0.0, class_weight=None,\n",
      "                       criterion='gini', max_depth=10, max_features=0.5,\n",
      "                       max_leaf_nodes=10, max_samples=None,\n",
      "                       min_impurity_decrease=0.0, min_impurity_split=None,\n",
      "                       min_samples_leaf=0.1, min_samples_split=0.1,\n",
      "                       min_weight_fraction_leaf=0.0, n_estimators=200,\n",
      "                       n_jobs=None, oob_score=True, random_state=42, verbose=0,\n",
      "                       warm_start=False)\n"
     ]
    }
   ],
   "source": [
    "# Design the random forest classifier\n",
    "\n",
    "# Random Forest Classifier\n",
    "\n",
    "n_estimators = [10, 200]\n",
    "max_features = [0.1, 0.5]\n",
    "max_depth = [2, 10, 20] \n",
    "oob_score = [True, False]\n",
    "min_samples_split = [0.1, 0.5]\n",
    "min_samples_leaf = [0.1, 0.5]\n",
    "max_leaf_nodes = [2, 10, 100]\n",
    "\n",
    "parameter_random_forest = {'n_estimators' : n_estimators, 'max_features' : max_features,\n",
    "                     'max_depth' : max_depth, 'min_samples_split' : min_samples_split,\n",
    "                    'oob_score' : oob_score, 'min_samples_leaf': min_samples_leaf, \n",
    "                     'max_leaf_nodes' : max_leaf_nodes}\n",
    "             \n",
    "Random_Forest_Classifier = RandomForestClassifier(random_state = 42)\n",
    "\n",
    "#use grid search to tune the model|\n",
    "\n",
    "grid_search_RndmForest = GridSearchCV(Random_Forest_Classifier,parameter_random_forest, cv = 4, scoring='roc_auc', refit = True,\n",
    "                                     n_jobs = -1, verbose=2)\n",
    "\n",
    "grid_search_RndmForest.fit(X_train_transformed,y_train)\n",
    "             \n",
    "forest_best_params_ = grid_search_RndmForest.best_params_\n",
    "forest_best_estimators_ = grid_search_RndmForest.best_estimator_\n",
    "\n",
    "print(forest_best_params_)\n",
    "print(forest_best_estimators_)"
   ]
  },
  {
   "cell_type": "code",
   "execution_count": 69,
   "metadata": {},
   "outputs": [
    {
     "name": "stdout",
     "output_type": "stream",
     "text": [
      "0.6150833333333333\n"
     ]
    }
   ],
   "source": [
    "#Now Predict on the Stack Dataset\n",
    "from sklearn.metrics import accuracy_score\n",
    "Random_Forest_estimators = forest_best_estimators_\n",
    "y_estimator_forest = Random_Forest_estimators.predict(X_stack_transformed)\n",
    "print(accuracy_score(y_stack, y_estimator_forest))"
   ]
  },
  {
   "cell_type": "code",
   "execution_count": 70,
   "metadata": {},
   "outputs": [
    {
     "name": "stdout",
     "output_type": "stream",
     "text": [
      "0.61175\n"
     ]
    }
   ],
   "source": [
    "# Test on the Test Data\n",
    "y_final_estimator_forest = Random_Forest_estimators.predict(X_test_transformed)\n",
    "print(accuracy_score(y_test, y_final_estimator_forest))"
   ]
  },
  {
   "cell_type": "code",
   "execution_count": 71,
   "metadata": {},
   "outputs": [
    {
     "name": "stdout",
     "output_type": "stream",
     "text": [
      "CompetitiveRate6 0.03562162916470827\n",
      "Transaction1 0.009497092610830232\n",
      "Product6 0.003737951983880884\n",
      "Product5 0.0006075055141721476\n",
      "Product4 0.00021801763059957672\n",
      "CompetitiveRate1 9.426543030141179e-05\n",
      "ExternalAccount3 2.9683134903385734e-05\n",
      "Balance 0.0\n",
      "PreviousCampaignResult 0.0\n",
      "Product1 0.0\n",
      "Product2 0.0\n",
      "Product3 0.0\n",
      "Transaction2 0.0\n",
      "Transaction3 0.0\n",
      "Transaction4 0.0\n",
      "Transaction5 0.0\n",
      "Transaction6 0.0\n",
      "Transaction7 0.0\n",
      "Transaction8 0.0\n",
      "Transaction9 0.0\n",
      "ExternalAccount1 0.0\n",
      "ExternalAccount2 0.0\n",
      "ExternalAccount4 0.0\n",
      "ExternalAccount5 0.0\n",
      "ExternalAccount6 0.0\n",
      "ExternalAccount7 0.0\n",
      "ActivityIndicator 0.0\n",
      "RegularInteractionIndicator 0.0\n",
      "CompetitiveRate2 0.0\n",
      "CompetitiveRate3 0.0\n",
      "CompetitiveRate4 0.0\n",
      "CompetitiveRate5 0.0\n",
      "CompetitiveRate7 0.0\n",
      "RateBefore 0.0\n",
      "ReferenceRate 0.0\n"
     ]
    }
   ],
   "source": [
    "for name, score in sorted(zip(X_stack.columns, Random_Forest_estimators.feature_importances_), key=lambda x: x[1],reverse=True):\n",
    "    print(name, score)"
   ]
  },
  {
   "cell_type": "code",
   "execution_count": 72,
   "metadata": {},
   "outputs": [],
   "source": [
    "y_final_stack_estimator_forest = Random_Forest_estimators.predict(df_test_1_transformed)"
   ]
  },
  {
   "cell_type": "code",
   "execution_count": null,
   "metadata": {},
   "outputs": [],
   "source": []
  },
  {
   "cell_type": "code",
   "execution_count": null,
   "metadata": {},
   "outputs": [],
   "source": []
  },
  {
   "cell_type": "markdown",
   "metadata": {},
   "source": [
    "# Adaboost - In Depth"
   ]
  },
  {
   "cell_type": "code",
   "execution_count": 73,
   "metadata": {},
   "outputs": [
    {
     "name": "stdout",
     "output_type": "stream",
     "text": [
      "Fitting 4 folds for each of 12 candidates, totalling 48 fits\n"
     ]
    },
    {
     "name": "stderr",
     "output_type": "stream",
     "text": [
      "[Parallel(n_jobs=-1)]: Using backend LokyBackend with 24 concurrent workers.\n",
      "[Parallel(n_jobs=-1)]: Done  26 out of  48 | elapsed:  1.7min remaining:  1.5min\n",
      "[Parallel(n_jobs=-1)]: Done  48 out of  48 | elapsed:  2.1min finished\n"
     ]
    },
    {
     "name": "stdout",
     "output_type": "stream",
     "text": [
      "{'algorithm': 'SAMME.R', 'learning_rate': 0.1, 'n_estimators': 700}\n",
      "AdaBoostClassifier(algorithm='SAMME.R', base_estimator=None, learning_rate=0.1,\n",
      "                   n_estimators=700, random_state=42)\n"
     ]
    }
   ],
   "source": [
    "from sklearn.ensemble import AdaBoostClassifier\n",
    "\n",
    "n_estimators = [700, 100]\n",
    "learning_rate = [0.001, 0.01, 0.1]\n",
    "algorithm = ['SAMME', 'SAMME.R']\n",
    "\n",
    "Ada_Classifer = AdaBoostClassifier(random_state = 42)\n",
    "parameter_Ada_Classifer = {'n_estimators' : n_estimators, 'learning_rate' : learning_rate, 'algorithm' : algorithm}\n",
    "grid_search_AdaClassifier = GridSearchCV(Ada_Classifer, parameter_Ada_Classifer, cv = 4, scoring='roc_auc', refit = True, n_jobs = -1, verbose = 2)\n",
    "grid_search_AdaClassifier.fit(X_train_transformed,y_train)\n",
    "\n",
    "AdaClassifier_best_params_ = grid_search_AdaClassifier.best_params_\n",
    "AdaClassifier_best_estimators_ = grid_search_AdaClassifier.best_estimator_\n",
    "print(AdaClassifier_best_params_)\n",
    "print(AdaClassifier_best_estimators_)"
   ]
  },
  {
   "cell_type": "code",
   "execution_count": 74,
   "metadata": {},
   "outputs": [
    {
     "name": "stdout",
     "output_type": "stream",
     "text": [
      "0.6235833333333334\n"
     ]
    }
   ],
   "source": [
    "#check accuracy on stack dataset\n",
    "AdaClassifier_Estimators = AdaClassifier_best_estimators_\n",
    "y_estimator_ada = AdaClassifier_Estimators.predict(X_stack_transformed)\n",
    "print(accuracy_score(y_stack, y_estimator_ada))"
   ]
  },
  {
   "cell_type": "code",
   "execution_count": 75,
   "metadata": {},
   "outputs": [
    {
     "name": "stdout",
     "output_type": "stream",
     "text": [
      "0.62\n"
     ]
    }
   ],
   "source": [
    "# Check the accuracy on the Test Data\n",
    "y_final_estimator_ada = AdaClassifier_Estimators.predict(X_test_transformed)\n",
    "print(accuracy_score(y_test, y_final_estimator_ada))"
   ]
  },
  {
   "cell_type": "code",
   "execution_count": 76,
   "metadata": {},
   "outputs": [
    {
     "name": "stdout",
     "output_type": "stream",
     "text": [
      "CompetitiveRate6 0.11714285714285715\n",
      "ReferenceRate 0.047142857142857146\n",
      "RateBefore 0.045714285714285714\n",
      "CompetitiveRate7 0.027142857142857142\n",
      "Product2 0.018571428571428572\n",
      "Product4 0.018571428571428572\n",
      "Product5 0.014285714285714285\n",
      "Transaction1 0.014285714285714285\n",
      "Transaction6 0.007142857142857143\n",
      "CompetitiveRate1 0.007142857142857143\n",
      "ExternalAccount6 0.005714285714285714\n",
      "RegularInteractionIndicator 0.005714285714285714\n",
      "CompetitiveRate4 0.005714285714285714\n",
      "Transaction9 0.004285714285714286\n",
      "CompetitiveRate5 0.004285714285714286\n",
      "Product6 0.002857142857142857\n",
      "Transaction3 0.002857142857142857\n",
      "Transaction5 0.002857142857142857\n",
      "Transaction4 0.0014285714285714286\n",
      "Transaction7 0.0014285714285714286\n",
      "Transaction8 0.0014285714285714286\n",
      "ExternalAccount5 0.0014285714285714286\n",
      "Balance 0.0\n",
      "PreviousCampaignResult 0.0\n",
      "Product1 0.0\n",
      "Product3 0.0\n",
      "Transaction2 0.0\n",
      "ExternalAccount1 0.0\n",
      "ExternalAccount2 0.0\n",
      "ExternalAccount3 0.0\n",
      "ExternalAccount4 0.0\n",
      "ExternalAccount7 0.0\n",
      "ActivityIndicator 0.0\n",
      "CompetitiveRate2 0.0\n",
      "CompetitiveRate3 0.0\n"
     ]
    }
   ],
   "source": [
    "for name, score in sorted(zip(X_stack.columns, AdaClassifier_Estimators.feature_importances_), key=lambda x: x[1],reverse=True):\n",
    "    print(name, score)"
   ]
  },
  {
   "cell_type": "code",
   "execution_count": 77,
   "metadata": {},
   "outputs": [],
   "source": [
    "y_final_stack_estimator_adaboost = AdaClassifier_Estimators.predict(df_test_1_transformed)"
   ]
  },
  {
   "cell_type": "code",
   "execution_count": null,
   "metadata": {},
   "outputs": [],
   "source": []
  },
  {
   "cell_type": "code",
   "execution_count": null,
   "metadata": {},
   "outputs": [],
   "source": []
  },
  {
   "cell_type": "markdown",
   "metadata": {},
   "source": [
    "# Extra Trees Classifier - In Depth"
   ]
  },
  {
   "cell_type": "code",
   "execution_count": 78,
   "metadata": {},
   "outputs": [
    {
     "name": "stdout",
     "output_type": "stream",
     "text": [
      "Fitting 4 folds for each of 384 candidates, totalling 1536 fits\n"
     ]
    },
    {
     "name": "stderr",
     "output_type": "stream",
     "text": [
      "[Parallel(n_jobs=-1)]: Using backend LokyBackend with 24 concurrent workers.\n",
      "[Parallel(n_jobs=-1)]: Done 114 tasks      | elapsed:  1.1min\n",
      "[Parallel(n_jobs=-1)]: Done 317 tasks      | elapsed:  3.8min\n",
      "[Parallel(n_jobs=-1)]: Done 600 tasks      | elapsed: 10.5min\n",
      "[Parallel(n_jobs=-1)]: Done 965 tasks      | elapsed: 19.1min\n",
      "[Parallel(n_jobs=-1)]: Done 1410 tasks      | elapsed: 35.7min\n",
      "[Parallel(n_jobs=-1)]: Done 1536 out of 1536 | elapsed: 40.5min finished\n"
     ]
    },
    {
     "name": "stdout",
     "output_type": "stream",
     "text": [
      "{'max_depth': 5, 'max_features': 1.0, 'min_samples_leaf': 0.0001, 'min_samples_split': 0.1, 'n_estimators': 400}\n",
      "ExtraTreesClassifier(bootstrap=False, ccp_alpha=0.0, class_weight=None,\n",
      "                     criterion='gini', max_depth=5, max_features=1.0,\n",
      "                     max_leaf_nodes=None, max_samples=None,\n",
      "                     min_impurity_decrease=0.0, min_impurity_split=None,\n",
      "                     min_samples_leaf=0.0001, min_samples_split=0.1,\n",
      "                     min_weight_fraction_leaf=0.0, n_estimators=400,\n",
      "                     n_jobs=None, oob_score=False, random_state=42, verbose=0,\n",
      "                     warm_start=False)\n"
     ]
    }
   ],
   "source": [
    "Extra_Classifier = ExtraTreesClassifier(random_state = 42)\n",
    "\n",
    "n_estimators = [400, 700, 1000]\n",
    "max_features = [0.1, 0.3, 0.5, 1.0]\n",
    "max_depth = [2, 5]\n",
    "min_samples_split = [0.1, 0.3, 0.5, 1.0]\n",
    "min_samples_leaf = [0.0001, 0.001, 0.1, 1.0] # Mhm, this one leads to accuracy of test and train sets being the same.|\n",
    "\n",
    "parameter_Extra_Classifier = {'n_estimators' : n_estimators, 'max_features' : max_features,\n",
    "                         'max_depth' : max_depth, 'min_samples_split' : min_samples_split,\n",
    "                         'min_samples_leaf' : min_samples_leaf}\n",
    "\n",
    "grid_search_ExtraClassifier = GridSearchCV(Extra_Classifier, parameter_Extra_Classifier, cv = 4, scoring='roc_auc', \n",
    "                               refit = True, n_jobs = -1, verbose = 2)\n",
    "grid_search_ExtraClassifier.fit(X_train_transformed,y_train)\n",
    "\n",
    "Extra_Classifier_best_params_ = grid_search_ExtraClassifier.best_params_\n",
    "Extra_Classifier_best_estimators_ = grid_search_ExtraClassifier.best_estimator_\n",
    "print(Extra_Classifier_best_params_)\n",
    "print(Extra_Classifier_best_estimators_)"
   ]
  },
  {
   "cell_type": "code",
   "execution_count": 79,
   "metadata": {},
   "outputs": [
    {
     "name": "stdout",
     "output_type": "stream",
     "text": [
      "0.6020833333333333\n"
     ]
    }
   ],
   "source": [
    "#check accuracy on stack data\n",
    "ExtraClassifier_Estimators = Extra_Classifier_best_estimators_\n",
    "y_estimator_extra = ExtraClassifier_Estimators.predict(X_stack_transformed)\n",
    "print(accuracy_score(y_stack, y_estimator_extra))"
   ]
  },
  {
   "cell_type": "code",
   "execution_count": 80,
   "metadata": {},
   "outputs": [
    {
     "name": "stdout",
     "output_type": "stream",
     "text": [
      "0.6045\n"
     ]
    }
   ],
   "source": [
    "# check the accuracy on the Test Data\n",
    "y_final_estimator_extra = ExtraClassifier_Estimators.predict(X_test_transformed)\n",
    "print(accuracy_score(y_test, y_final_estimator_extra))"
   ]
  },
  {
   "cell_type": "code",
   "execution_count": 81,
   "metadata": {},
   "outputs": [
    {
     "name": "stdout",
     "output_type": "stream",
     "text": [
      "Product6 0.20966374947192437\n",
      "Transaction1 0.19908086209271433\n",
      "CompetitiveRate6 0.1351370508862961\n",
      "Product5 0.03932865975993817\n",
      "Product4 0.03607610716999099\n",
      "Transaction7 0.005829291222279885\n",
      "Transaction6 0.005559208278822481\n",
      "ExternalAccount3 0.0022787168063889206\n",
      "ExternalAccount4 0.0021001084232334885\n",
      "Transaction4 0.0019145898901727324\n",
      "Transaction5 0.0012037246900454912\n",
      "Transaction8 0.0005860904590217055\n",
      "Transaction9 0.0005641156718250319\n",
      "RegularInteractionIndicator 0.00043649209158801687\n",
      "RateBefore 0.0004357850201825488\n",
      "ReferenceRate 0.0003715801217798446\n",
      "CompetitiveRate1 0.00025190173056178155\n",
      "PreviousCampaignResult 9.429736843790148e-05\n",
      "Balance 7.967911851821333e-05\n",
      "Transaction2 5.655490376298945e-05\n",
      "CompetitiveRate7 4.2327480642043035e-05\n",
      "CompetitiveRate5 3.149062105837833e-05\n",
      "CompetitiveRate4 2.183617741656478e-05\n",
      "Transaction3 1.5280183079541534e-05\n",
      "CompetitiveRate3 6.29870833298017e-06\n",
      "ExternalAccount5 3.406464912741153e-06\n",
      "Product1 0.0\n",
      "Product2 0.0\n",
      "Product3 0.0\n",
      "ExternalAccount1 0.0\n",
      "ExternalAccount2 0.0\n",
      "ExternalAccount6 0.0\n",
      "ExternalAccount7 0.0\n",
      "ActivityIndicator 0.0\n",
      "CompetitiveRate2 0.0\n"
     ]
    }
   ],
   "source": [
    "for name, score in sorted(zip(X_stack.columns, ExtraClassifier_Estimators.feature_importances_), key=lambda x: x[1],reverse=True):\n",
    "    print(name, score)"
   ]
  },
  {
   "cell_type": "code",
   "execution_count": 82,
   "metadata": {},
   "outputs": [],
   "source": [
    "y_final_stack_estimator_extra = ExtraClassifier_Estimators.predict(df_test_1_transformed)"
   ]
  },
  {
   "cell_type": "code",
   "execution_count": null,
   "metadata": {},
   "outputs": [],
   "source": []
  },
  {
   "cell_type": "markdown",
   "metadata": {},
   "source": [
    "# Gradient Boosting Classifier - In Depth"
   ]
  },
  {
   "cell_type": "code",
   "execution_count": 83,
   "metadata": {},
   "outputs": [
    {
     "name": "stdout",
     "output_type": "stream",
     "text": [
      "Fitting 4 folds for each of 384 candidates, totalling 1536 fits\n"
     ]
    },
    {
     "name": "stderr",
     "output_type": "stream",
     "text": [
      "[Parallel(n_jobs=-1)]: Using backend LokyBackend with 24 concurrent workers.\n",
      "[Parallel(n_jobs=-1)]: Done 114 tasks      | elapsed:  2.6min\n",
      "[Parallel(n_jobs=-1)]: Done 317 tasks      | elapsed:  8.0min\n",
      "[Parallel(n_jobs=-1)]: Done 600 tasks      | elapsed: 15.3min\n",
      "[Parallel(n_jobs=-1)]: Done 965 tasks      | elapsed: 24.5min\n",
      "[Parallel(n_jobs=-1)]: Done 1410 tasks      | elapsed: 35.7min\n",
      "[Parallel(n_jobs=-1)]: Done 1536 out of 1536 | elapsed: 39.5min finished\n"
     ]
    },
    {
     "name": "stdout",
     "output_type": "stream",
     "text": [
      "{'learning_rate': 0.1, 'max_depth': 2, 'max_features': 7, 'max_leaf_nodes': 3, 'min_samples_leaf': 3, 'min_samples_split': 0.1, 'n_estimators': 1200}\n",
      "GradientBoostingClassifier(ccp_alpha=0.0, criterion='friedman_mse', init=None,\n",
      "                           learning_rate=0.1, loss='deviance', max_depth=2,\n",
      "                           max_features=7, max_leaf_nodes=3,\n",
      "                           min_impurity_decrease=0.0, min_impurity_split=None,\n",
      "                           min_samples_leaf=3, min_samples_split=0.1,\n",
      "                           min_weight_fraction_leaf=0.0, n_estimators=1200,\n",
      "                           n_iter_no_change=None, presort='deprecated',\n",
      "                           random_state=42, subsample=1.0, tol=0.0001,\n",
      "                           validation_fraction=0.1, verbose=0,\n",
      "                           warm_start=False)\n"
     ]
    }
   ],
   "source": [
    "# Gradient Boosting Classifier\n",
    "\n",
    "GB_Classifier = GradientBoostingClassifier(random_state = 42)\n",
    "\n",
    "n_estimators = [500, 1200, 2000]\n",
    "learning_rate = [0.1, 0.0001, 0.001, 0.1]\n",
    "max_depth = [2, 20]\n",
    "min_samples_split = [0.1, 0.4]\n",
    "min_samples_leaf = [2, 3]\n",
    "max_features = [4, 7]\n",
    "max_leaf_nodes = [2, 3]\n",
    "                            \n",
    "parameter_GB_Classifier = {'n_estimators' : n_estimators, 'learning_rate' : learning_rate,\n",
    "                              'max_depth' : max_depth, 'min_samples_split' : min_samples_split,\n",
    "                              'min_samples_leaf' : min_samples_leaf, 'max_features' : max_features,\n",
    "                              'max_leaf_nodes' : max_leaf_nodes}\n",
    "\n",
    "grid_search_GB_Classifier = GridSearchCV(GB_Classifier, parameter_GB_Classifier, cv = 4, scoring='roc_auc', \n",
    "                               refit = True, n_jobs = -1, verbose = 2)\n",
    "\n",
    "grid_search_GB_Classifier.fit(X_train_transformed,y_train)\n",
    "\n",
    "GB_Classifier_best_params_ = grid_search_GB_Classifier.best_params_\n",
    "\n",
    "GB_Classifier_best_estimators_ = grid_search_GB_Classifier.best_estimator_\n",
    "\n",
    "print(GB_Classifier_best_params_)\n",
    "\n",
    "print(GB_Classifier_best_estimators_)"
   ]
  },
  {
   "cell_type": "code",
   "execution_count": 84,
   "metadata": {},
   "outputs": [
    {
     "name": "stdout",
     "output_type": "stream",
     "text": [
      "0.6268333333333334\n"
     ]
    }
   ],
   "source": [
    "#Now Predict on the Stack Dataset\n",
    "GB_estimators = GB_Classifier_best_estimators_\n",
    "y_estimator_GB = GB_estimators.predict(X_stack_transformed)\n",
    "print(accuracy_score(y_stack, y_estimator_GB))"
   ]
  },
  {
   "cell_type": "code",
   "execution_count": 85,
   "metadata": {},
   "outputs": [
    {
     "name": "stdout",
     "output_type": "stream",
     "text": [
      "0.6255\n"
     ]
    }
   ],
   "source": [
    "# check the accuracy on the Test Data\n",
    "y_final_estimator_GB = GB_estimators.predict(X_test_transformed)\n",
    "print(accuracy_score(y_test, y_final_estimator_GB))"
   ]
  },
  {
   "cell_type": "code",
   "execution_count": 86,
   "metadata": {},
   "outputs": [],
   "source": [
    "y_final_stack_estimator_GB = GB_estimators.predict(df_test_1_transformed)"
   ]
  },
  {
   "cell_type": "code",
   "execution_count": null,
   "metadata": {},
   "outputs": [],
   "source": []
  },
  {
   "cell_type": "markdown",
   "metadata": {},
   "source": [
    "# Combining Models"
   ]
  },
  {
   "cell_type": "code",
   "execution_count": 87,
   "metadata": {},
   "outputs": [
    {
     "name": "stdout",
     "output_type": "stream",
     "text": [
      "(12000,)\n",
      "(12000,)\n",
      "(12000,)\n",
      "(12000,)\n"
     ]
    }
   ],
   "source": [
    "print(y_estimator_forest.shape)\n",
    "print(y_estimator_ada.shape)\n",
    "print(y_estimator_extra.shape)\n",
    "print(y_estimator_GB.shape)"
   ]
  },
  {
   "cell_type": "code",
   "execution_count": 88,
   "metadata": {},
   "outputs": [
    {
     "data": {
      "text/plain": [
       "(4000, 4)"
      ]
     },
     "execution_count": 88,
     "metadata": {},
     "output_type": "execute_result"
    }
   ],
   "source": [
    "# Now build the Stacking model\n",
    "import numpy as np\n",
    "\n",
    "Final_test_X = np.vstack((y_final_estimator_forest, y_final_estimator_ada, y_final_estimator_extra, y_final_estimator_GB))\n",
    "\n",
    "Final_test_X = Final_test_X.T\n",
    "Final_test_X.shape # now we get the right number of rows and columns"
   ]
  },
  {
   "cell_type": "code",
   "execution_count": 89,
   "metadata": {},
   "outputs": [
    {
     "data": {
      "text/plain": [
       "(12000, 4)"
      ]
     },
     "execution_count": 89,
     "metadata": {},
     "output_type": "execute_result"
    }
   ],
   "source": [
    "# Now build the Stacking model\n",
    "import numpy as np\n",
    "\n",
    "Final_Stacking_X = np.vstack((y_estimator_forest, y_estimator_ada, y_estimator_extra, y_estimator_GB))\n",
    "\n",
    "Final_Stacking_X = Final_Stacking_X.T\n",
    "Final_Stacking_X.shape # now we get the right number of rows and columns"
   ]
  },
  {
   "cell_type": "code",
   "execution_count": 90,
   "metadata": {},
   "outputs": [
    {
     "name": "stdout",
     "output_type": "stream",
     "text": [
      "Fitting 9 folds for each of 6 candidates, totalling 54 fits\n",
      "{'C': 0.0001}\n",
      "LogisticRegression(C=0.0001, class_weight=None, dual=False, fit_intercept=True,\n",
      "                   intercept_scaling=1, l1_ratio=None, max_iter=100,\n",
      "                   multi_class='auto', n_jobs=None, penalty='l2',\n",
      "                   random_state=42, solver='lbfgs', tol=0.0001, verbose=0,\n",
      "                   warm_start=False)\n"
     ]
    },
    {
     "name": "stderr",
     "output_type": "stream",
     "text": [
      "[Parallel(n_jobs=-1)]: Using backend LokyBackend with 24 concurrent workers.\n",
      "[Parallel(n_jobs=-1)]: Done  35 out of  54 | elapsed:    0.0s remaining:    0.0s\n",
      "[Parallel(n_jobs=-1)]: Done  54 out of  54 | elapsed:    0.0s finished\n"
     ]
    }
   ],
   "source": [
    "# Additionally we can check the Stack performance on the Logistic Regression model, \n",
    "\n",
    "Logistic_Regression = LogisticRegression(random_state = 42)\n",
    "C = [0.0001, 0.001, 0.01, 0.1, 0.2, 0.3]\n",
    "                            \n",
    "parameter_LogReg = {'C' : C}\n",
    "grid_search_LogReg = GridSearchCV(Logistic_Regression, parameter_LogReg, cv = 9, scoring='roc_auc', \n",
    "                               refit = True, n_jobs = -1, verbose = 2)\n",
    "\n",
    "grid_search_LogReg.fit(Final_Stacking_X,y_stack)\n",
    "LogReg_New_best_params = grid_search_LogReg.best_params_\n",
    "LogReg_New_best_estimators = grid_search_LogReg.best_estimator_\n",
    "\n",
    "print(LogReg_New_best_params)\n",
    "print(LogReg_New_best_estimators)"
   ]
  },
  {
   "cell_type": "code",
   "execution_count": 91,
   "metadata": {},
   "outputs": [
    {
     "name": "stdout",
     "output_type": "stream",
     "text": [
      "0.6253333333333333\n"
     ]
    }
   ],
   "source": [
    "# Now check the accuracy of the Stacked Training set with the original Model Stacking Y.\n",
    "y_estimator_LogReg = LogReg_New_best_estimators.predict(Final_Stacking_X)\n",
    "print(accuracy_score(y_stack, y_estimator_LogReg))"
   ]
  },
  {
   "cell_type": "code",
   "execution_count": 92,
   "metadata": {},
   "outputs": [
    {
     "name": "stdout",
     "output_type": "stream",
     "text": [
      "0.61775\n"
     ]
    }
   ],
   "source": [
    "# Now check the accuracy of the Stacked Training set with the original Test Y\n",
    "y_final_estimator_LogReg = LogReg_New_best_estimators.predict(Final_test_X)\n",
    "print(accuracy_score(y_test,y_final_estimator_LogReg))"
   ]
  },
  {
   "cell_type": "code",
   "execution_count": 93,
   "metadata": {},
   "outputs": [
    {
     "data": {
      "text/plain": [
       "(1480, 4)"
      ]
     },
     "execution_count": 93,
     "metadata": {},
     "output_type": "execute_result"
    }
   ],
   "source": [
    "Final_df_test = np.vstack((y_final_stack_estimator_forest, y_final_stack_estimator_adaboost, y_final_stack_estimator_extra, y_final_stack_estimator_GB))\n",
    "\n",
    "Final_df_test = Final_df_test.T\n",
    "Final_df_test.shape # now we get the right number of rows and columns"
   ]
  },
  {
   "cell_type": "code",
   "execution_count": 94,
   "metadata": {},
   "outputs": [
    {
     "data": {
      "text/plain": [
       "array([0, 0, 0, ..., 0, 1, 0], dtype=int64)"
      ]
     },
     "execution_count": 94,
     "metadata": {},
     "output_type": "execute_result"
    }
   ],
   "source": [
    "submission_FinalStackX = LogReg_New_best_estimators.predict(Final_df_test)\n",
    "submission_FinalStackX"
   ]
  },
  {
   "cell_type": "code",
   "execution_count": null,
   "metadata": {},
   "outputs": [],
   "source": []
  },
  {
   "cell_type": "code",
   "execution_count": 96,
   "metadata": {},
   "outputs": [],
   "source": [
    "Customer_ID = df_test['Customer_id']\n",
    "my_submission_FinalStackX = pd.DataFrame({\n",
    "                  \"Customer_id\": Customer_ID, \n",
    "                  \"Target\": submission_FinalStackX})\n",
    "my_submission_FinalStackX.to_csv('my_submission_FinalStackX.csv', index=False)\n",
    "\n",
    "#my_submission_FinalStackX = pd.DataFrame({'Customer_id': df_test.Customer_id, 'Target': submission_FinalStackX})\n",
    "#my_submission_FinalStackX.to_csv('my_submission_FinalStackX.csv', index=False)\n",
    "#from google.colab import files\n",
    "#files.download(\"my_submission_FinalStackX.csv\")"
   ]
  },
  {
   "cell_type": "code",
   "execution_count": null,
   "metadata": {},
   "outputs": [],
   "source": []
  }
 ],
 "metadata": {
  "kernelspec": {
   "display_name": "Python 3 (ipykernel)",
   "language": "python",
   "name": "python3"
  },
  "language_info": {
   "codemirror_mode": {
    "name": "ipython",
    "version": 3
   },
   "file_extension": ".py",
   "mimetype": "text/x-python",
   "name": "python",
   "nbconvert_exporter": "python",
   "pygments_lexer": "ipython3",
   "version": "3.7.6"
  }
 },
 "nbformat": 4,
 "nbformat_minor": 4
}
