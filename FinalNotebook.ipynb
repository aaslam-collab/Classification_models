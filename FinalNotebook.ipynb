{
 "cells": [
  {
   "cell_type": "markdown",
   "metadata": {
    "id": "YNzkQHO3iABK"
   },
   "source": [
    "# Features\n",
    "* customer_id - an anonymous id unique to a given customer\n",
    "* Balance : - Current + Savings Account Balance\n",
    "* PreviousCampaignResult - Last Campaign Results\n",
    "* Product1...Product6 - List of different products owned by the customer\n",
    "* Transaction1...Transaction9 - Last 9 transactions made by the customer\n",
    "* External Accounts 1...External Accounts 7 - * External accounts held by the customer, including bills\n",
    "* Activity Indicator - Number of activities done the customer, including telebanking, going to the bank\n",
    "* Regular Interaction Indicator - How frequent the customer is interacting with the bank (Rating Scale)\n",
    "* CompetitiveRate1 ... CompetitiveRate7 - Interest rates offered to the customer\n",
    "* RateBefore - Interest rates on the products, customer have before the competitive rates being offered\n",
    "* ReferenceRate -Interest rates on the products, the customer have after the negotiations made to the competitive rates being offered"
   ]
  },
  {
   "cell_type": "markdown",
   "metadata": {
    "id": "KI07nvnqieTn"
   },
   "source": [
    "# Import Data from Google Drive"
   ]
  },
  {
   "cell_type": "markdown",
   "metadata": {},
   "source": [
    "# My Attempt - Abdullah"
   ]
  },
  {
   "cell_type": "code",
   "execution_count": null,
   "metadata": {
    "id": "Aw-UZxfa89QL"
   },
   "outputs": [],
   "source": [
    "import pandas as pd\n",
    "import numpy as np\n",
    "import scipy as sp\n",
    "import seaborn as sns\n",
    "import matplotlib.pyplot as plt\n",
    "%matplotlib inline"
   ]
  },
  {
   "cell_type": "code",
   "execution_count": null,
   "metadata": {
    "id": "zTlJILLJ4m-t"
   },
   "outputs": [],
   "source": [
    "# Code to read csv file into Colaboratory:\n",
    "!pip install -U -q PyDrive\n",
    "from pydrive.auth import GoogleAuth\n",
    "from pydrive.drive import GoogleDrive\n",
    "from google.colab import auth\n",
    "from oauth2client.client import GoogleCredentials\n",
    "\n",
    "# Authenticate and create the PyDrive client.\n",
    "auth.authenticate_user()\n",
    "gauth = GoogleAuth()\n",
    "gauth.credentials = GoogleCredentials.get_application_default()\n",
    "drive = GoogleDrive(gauth)"
   ]
  },
  {
   "cell_type": "code",
   "execution_count": null,
   "metadata": {
    "id": "L8hKANLW7V4t"
   },
   "outputs": [],
   "source": [
    "# shareable link for test.csv\n",
    "test_link = 'https://drive.google.com/file/d/15HIeCkM4rZ92umIzdeHcEjOxfB-VE_SI/view?usp=sharing'\n",
    "\n",
    "# shareable link for train.csv\n",
    "train_link = 'https://drive.google.com/file/d/1ctQvBW6zPi1Ki2N7ZHo9722QJeU0TyP3/view?usp=sharing'\n",
    "\n",
    "# get the location id for test and train datasets\n",
    "test_link_id = test_link.split('/')[5]\n",
    "train_link_id = train_link.split('/')[5]\n",
    "\n",
    "test_downloaded = drive.CreateFile({'id': test_link_id})\n",
    "train_downloaded = drive.CreateFile({'id': train_link_id})\n",
    "\n",
    "test_downloaded.GetContentFile('test.csv')\n",
    "train_downloaded.GetContentFile('train.csv')\n",
    "\n",
    "# create test and train dataframe\n",
    "df_test = pd.read_csv('test.csv')\n",
    "df_train = pd.read_csv('train.csv')"
   ]
  },
  {
   "cell_type": "markdown",
   "metadata": {
    "id": "8ZwEl6PqMaR2"
   },
   "source": [
    "# Check if data loaded"
   ]
  },
  {
   "cell_type": "code",
   "execution_count": null,
   "metadata": {
    "colab": {
     "base_uri": "https://localhost:8080/",
     "height": 224
    },
    "id": "zbvPc3LH4HJu",
    "outputId": "504e5394-ad0f-4d4d-e3fd-48589e6ae4fb"
   },
   "outputs": [
    {
     "data": {
      "text/html": [
       "<div>\n",
       "<style scoped>\n",
       "    .dataframe tbody tr th:only-of-type {\n",
       "        vertical-align: middle;\n",
       "    }\n",
       "\n",
       "    .dataframe tbody tr th {\n",
       "        vertical-align: top;\n",
       "    }\n",
       "\n",
       "    .dataframe thead th {\n",
       "        text-align: right;\n",
       "    }\n",
       "</style>\n",
       "<table border=\"1\" class=\"dataframe\">\n",
       "  <thead>\n",
       "    <tr style=\"text-align: right;\">\n",
       "      <th></th>\n",
       "      <th>Customer_id</th>\n",
       "      <th>Balance</th>\n",
       "      <th>PreviousCampaignResult</th>\n",
       "      <th>Product1</th>\n",
       "      <th>Product2</th>\n",
       "      <th>Product3</th>\n",
       "      <th>Product4</th>\n",
       "      <th>Product5</th>\n",
       "      <th>Product6</th>\n",
       "      <th>Transaction1</th>\n",
       "      <th>Transaction2</th>\n",
       "      <th>Transaction3</th>\n",
       "      <th>Transaction4</th>\n",
       "      <th>Transaction5</th>\n",
       "      <th>Transaction6</th>\n",
       "      <th>Transaction7</th>\n",
       "      <th>Transaction8</th>\n",
       "      <th>Transaction9</th>\n",
       "      <th>ExternalAccount1</th>\n",
       "      <th>ExternalAccount2</th>\n",
       "      <th>ExternalAccount3</th>\n",
       "      <th>ExternalAccount4</th>\n",
       "      <th>ExternalAccount5</th>\n",
       "      <th>ExternalAccount6</th>\n",
       "      <th>ExternalAccount7</th>\n",
       "      <th>ActivityIndicator</th>\n",
       "      <th>RegularInteractionIndicator</th>\n",
       "      <th>CompetitiveRate1</th>\n",
       "      <th>CompetitiveRate2</th>\n",
       "      <th>CompetitiveRate3</th>\n",
       "      <th>CompetitiveRate4</th>\n",
       "      <th>CompetitiveRate5</th>\n",
       "      <th>CompetitiveRate6</th>\n",
       "      <th>CompetitiveRate7</th>\n",
       "      <th>RateBefore</th>\n",
       "      <th>ReferenceRate</th>\n",
       "    </tr>\n",
       "  </thead>\n",
       "  <tbody>\n",
       "    <tr>\n",
       "      <th>0</th>\n",
       "      <td>CTSP063999</td>\n",
       "      <td>13341.55</td>\n",
       "      <td>0</td>\n",
       "      <td>0</td>\n",
       "      <td>0</td>\n",
       "      <td>0</td>\n",
       "      <td>0</td>\n",
       "      <td>0</td>\n",
       "      <td>0</td>\n",
       "      <td>0.0</td>\n",
       "      <td>0.0</td>\n",
       "      <td>0.0</td>\n",
       "      <td>0.0</td>\n",
       "      <td>0.0</td>\n",
       "      <td>0.00</td>\n",
       "      <td>0.0</td>\n",
       "      <td>0.0</td>\n",
       "      <td>0.0</td>\n",
       "      <td>0</td>\n",
       "      <td>0</td>\n",
       "      <td>0</td>\n",
       "      <td>1</td>\n",
       "      <td>0</td>\n",
       "      <td>0</td>\n",
       "      <td>0</td>\n",
       "      <td>0</td>\n",
       "      <td>0</td>\n",
       "      <td>1.475</td>\n",
       "      <td>1.425</td>\n",
       "      <td>1.425</td>\n",
       "      <td>1.425</td>\n",
       "      <td>2.375</td>\n",
       "      <td>1.725</td>\n",
       "      <td>2.125</td>\n",
       "      <td>1.725</td>\n",
       "      <td>1.375</td>\n",
       "    </tr>\n",
       "    <tr>\n",
       "      <th>1</th>\n",
       "      <td>CTSP064000</td>\n",
       "      <td>18649.81</td>\n",
       "      <td>0</td>\n",
       "      <td>1</td>\n",
       "      <td>0</td>\n",
       "      <td>0</td>\n",
       "      <td>0</td>\n",
       "      <td>0</td>\n",
       "      <td>0</td>\n",
       "      <td>0.0</td>\n",
       "      <td>0.0</td>\n",
       "      <td>0.0</td>\n",
       "      <td>0.0</td>\n",
       "      <td>0.0</td>\n",
       "      <td>31188.04</td>\n",
       "      <td>0.0</td>\n",
       "      <td>0.0</td>\n",
       "      <td>0.0</td>\n",
       "      <td>0</td>\n",
       "      <td>0</td>\n",
       "      <td>0</td>\n",
       "      <td>1</td>\n",
       "      <td>0</td>\n",
       "      <td>0</td>\n",
       "      <td>0</td>\n",
       "      <td>0</td>\n",
       "      <td>0</td>\n",
       "      <td>1.025</td>\n",
       "      <td>1.925</td>\n",
       "      <td>1.125</td>\n",
       "      <td>2.375</td>\n",
       "      <td>1.175</td>\n",
       "      <td>1.425</td>\n",
       "      <td>1.475</td>\n",
       "      <td>1.425</td>\n",
       "      <td>1.125</td>\n",
       "    </tr>\n",
       "    <tr>\n",
       "      <th>2</th>\n",
       "      <td>CTSP064001</td>\n",
       "      <td>28311.30</td>\n",
       "      <td>0</td>\n",
       "      <td>1</td>\n",
       "      <td>0</td>\n",
       "      <td>0</td>\n",
       "      <td>1</td>\n",
       "      <td>0</td>\n",
       "      <td>0</td>\n",
       "      <td>0.0</td>\n",
       "      <td>0.0</td>\n",
       "      <td>0.0</td>\n",
       "      <td>120.0</td>\n",
       "      <td>0.0</td>\n",
       "      <td>0.00</td>\n",
       "      <td>0.0</td>\n",
       "      <td>0.0</td>\n",
       "      <td>0.0</td>\n",
       "      <td>0</td>\n",
       "      <td>1</td>\n",
       "      <td>0</td>\n",
       "      <td>0</td>\n",
       "      <td>0</td>\n",
       "      <td>0</td>\n",
       "      <td>0</td>\n",
       "      <td>0</td>\n",
       "      <td>1</td>\n",
       "      <td>1.425</td>\n",
       "      <td>2.375</td>\n",
       "      <td>1.425</td>\n",
       "      <td>1.675</td>\n",
       "      <td>2.375</td>\n",
       "      <td>1.675</td>\n",
       "      <td>1.575</td>\n",
       "      <td>1.675</td>\n",
       "      <td>1.375</td>\n",
       "    </tr>\n",
       "    <tr>\n",
       "      <th>3</th>\n",
       "      <td>CTSP064002</td>\n",
       "      <td>18066.61</td>\n",
       "      <td>0</td>\n",
       "      <td>1</td>\n",
       "      <td>0</td>\n",
       "      <td>0</td>\n",
       "      <td>0</td>\n",
       "      <td>0</td>\n",
       "      <td>0</td>\n",
       "      <td>0.0</td>\n",
       "      <td>0.0</td>\n",
       "      <td>0.0</td>\n",
       "      <td>5000.0</td>\n",
       "      <td>0.0</td>\n",
       "      <td>0.00</td>\n",
       "      <td>0.0</td>\n",
       "      <td>0.0</td>\n",
       "      <td>0.0</td>\n",
       "      <td>0</td>\n",
       "      <td>0</td>\n",
       "      <td>0</td>\n",
       "      <td>0</td>\n",
       "      <td>0</td>\n",
       "      <td>1</td>\n",
       "      <td>0</td>\n",
       "      <td>0</td>\n",
       "      <td>0</td>\n",
       "      <td>1.025</td>\n",
       "      <td>1.925</td>\n",
       "      <td>1.125</td>\n",
       "      <td>2.375</td>\n",
       "      <td>1.175</td>\n",
       "      <td>1.425</td>\n",
       "      <td>1.475</td>\n",
       "      <td>1.425</td>\n",
       "      <td>1.125</td>\n",
       "    </tr>\n",
       "    <tr>\n",
       "      <th>4</th>\n",
       "      <td>CTSP064003</td>\n",
       "      <td>10512.30</td>\n",
       "      <td>0</td>\n",
       "      <td>0</td>\n",
       "      <td>0</td>\n",
       "      <td>0</td>\n",
       "      <td>0</td>\n",
       "      <td>0</td>\n",
       "      <td>0</td>\n",
       "      <td>0.0</td>\n",
       "      <td>0.0</td>\n",
       "      <td>0.0</td>\n",
       "      <td>1300.0</td>\n",
       "      <td>1400.0</td>\n",
       "      <td>0.00</td>\n",
       "      <td>0.0</td>\n",
       "      <td>0.0</td>\n",
       "      <td>0.0</td>\n",
       "      <td>0</td>\n",
       "      <td>1</td>\n",
       "      <td>0</td>\n",
       "      <td>0</td>\n",
       "      <td>0</td>\n",
       "      <td>0</td>\n",
       "      <td>0</td>\n",
       "      <td>10</td>\n",
       "      <td>1</td>\n",
       "      <td>1.425</td>\n",
       "      <td>2.375</td>\n",
       "      <td>1.425</td>\n",
       "      <td>1.675</td>\n",
       "      <td>2.375</td>\n",
       "      <td>1.675</td>\n",
       "      <td>1.575</td>\n",
       "      <td>1.675</td>\n",
       "      <td>1.375</td>\n",
       "    </tr>\n",
       "  </tbody>\n",
       "</table>\n",
       "</div>"
      ],
      "text/plain": [
       "  Customer_id   Balance  ...  RateBefore  ReferenceRate\n",
       "0  CTSP063999  13341.55  ...       1.725          1.375\n",
       "1  CTSP064000  18649.81  ...       1.425          1.125\n",
       "2  CTSP064001  28311.30  ...       1.675          1.375\n",
       "3  CTSP064002  18066.61  ...       1.425          1.125\n",
       "4  CTSP064003  10512.30  ...       1.675          1.375\n",
       "\n",
       "[5 rows x 36 columns]"
      ]
     },
     "execution_count": 4,
     "metadata": {
      "tags": []
     },
     "output_type": "execute_result"
    }
   ],
   "source": [
    "df_test.head()"
   ]
  },
  {
   "cell_type": "code",
   "execution_count": null,
   "metadata": {
    "colab": {
     "base_uri": "https://localhost:8080/",
     "height": 224
    },
    "id": "KXQ30q1j7U3e",
    "outputId": "7cb65d74-3389-4d23-a241-b6269caf0bd2"
   },
   "outputs": [
    {
     "data": {
      "text/html": [
       "<div>\n",
       "<style scoped>\n",
       "    .dataframe tbody tr th:only-of-type {\n",
       "        vertical-align: middle;\n",
       "    }\n",
       "\n",
       "    .dataframe tbody tr th {\n",
       "        vertical-align: top;\n",
       "    }\n",
       "\n",
       "    .dataframe thead th {\n",
       "        text-align: right;\n",
       "    }\n",
       "</style>\n",
       "<table border=\"1\" class=\"dataframe\">\n",
       "  <thead>\n",
       "    <tr style=\"text-align: right;\">\n",
       "      <th></th>\n",
       "      <th>Customer_id</th>\n",
       "      <th>Target</th>\n",
       "      <th>Balance</th>\n",
       "      <th>PreviousCampaignResult</th>\n",
       "      <th>Product1</th>\n",
       "      <th>Product2</th>\n",
       "      <th>Product3</th>\n",
       "      <th>Product4</th>\n",
       "      <th>Product5</th>\n",
       "      <th>Product6</th>\n",
       "      <th>Transaction1</th>\n",
       "      <th>Transaction2</th>\n",
       "      <th>Transaction3</th>\n",
       "      <th>Transaction4</th>\n",
       "      <th>Transaction5</th>\n",
       "      <th>Transaction6</th>\n",
       "      <th>Transaction7</th>\n",
       "      <th>Transaction8</th>\n",
       "      <th>Transaction9</th>\n",
       "      <th>ExternalAccount1</th>\n",
       "      <th>ExternalAccount2</th>\n",
       "      <th>ExternalAccount3</th>\n",
       "      <th>ExternalAccount4</th>\n",
       "      <th>ExternalAccount5</th>\n",
       "      <th>ExternalAccount6</th>\n",
       "      <th>ExternalAccount7</th>\n",
       "      <th>ActivityIndicator</th>\n",
       "      <th>RegularInteractionIndicator</th>\n",
       "      <th>CompetitiveRate1</th>\n",
       "      <th>CompetitiveRate2</th>\n",
       "      <th>CompetitiveRate3</th>\n",
       "      <th>CompetitiveRate4</th>\n",
       "      <th>CompetitiveRate5</th>\n",
       "      <th>CompetitiveRate6</th>\n",
       "      <th>CompetitiveRate7</th>\n",
       "      <th>RateBefore</th>\n",
       "      <th>ReferenceRate</th>\n",
       "    </tr>\n",
       "  </thead>\n",
       "  <tbody>\n",
       "    <tr>\n",
       "      <th>0</th>\n",
       "      <td>CTSP000001</td>\n",
       "      <td>0</td>\n",
       "      <td>43824.59</td>\n",
       "      <td>0</td>\n",
       "      <td>0</td>\n",
       "      <td>0</td>\n",
       "      <td>0</td>\n",
       "      <td>0</td>\n",
       "      <td>0</td>\n",
       "      <td>0</td>\n",
       "      <td>0.00</td>\n",
       "      <td>0.0</td>\n",
       "      <td>0.0</td>\n",
       "      <td>0.0</td>\n",
       "      <td>0.0</td>\n",
       "      <td>0.00</td>\n",
       "      <td>0.0</td>\n",
       "      <td>0.0</td>\n",
       "      <td>0.0</td>\n",
       "      <td>0</td>\n",
       "      <td>0</td>\n",
       "      <td>0</td>\n",
       "      <td>0</td>\n",
       "      <td>0</td>\n",
       "      <td>0</td>\n",
       "      <td>0</td>\n",
       "      <td>0</td>\n",
       "      <td>0</td>\n",
       "      <td>1.025</td>\n",
       "      <td>1.925</td>\n",
       "      <td>1.125</td>\n",
       "      <td>2.375</td>\n",
       "      <td>1.175</td>\n",
       "      <td>1.425</td>\n",
       "      <td>1.475</td>\n",
       "      <td>1.425</td>\n",
       "      <td>1.125</td>\n",
       "    </tr>\n",
       "    <tr>\n",
       "      <th>1</th>\n",
       "      <td>CTSP000002</td>\n",
       "      <td>1</td>\n",
       "      <td>11256.21</td>\n",
       "      <td>0</td>\n",
       "      <td>0</td>\n",
       "      <td>0</td>\n",
       "      <td>0</td>\n",
       "      <td>0</td>\n",
       "      <td>0</td>\n",
       "      <td>0</td>\n",
       "      <td>0.00</td>\n",
       "      <td>0.0</td>\n",
       "      <td>0.0</td>\n",
       "      <td>8525.0</td>\n",
       "      <td>0.0</td>\n",
       "      <td>0.00</td>\n",
       "      <td>0.0</td>\n",
       "      <td>0.0</td>\n",
       "      <td>0.0</td>\n",
       "      <td>0</td>\n",
       "      <td>0</td>\n",
       "      <td>0</td>\n",
       "      <td>0</td>\n",
       "      <td>0</td>\n",
       "      <td>1</td>\n",
       "      <td>0</td>\n",
       "      <td>11</td>\n",
       "      <td>3</td>\n",
       "      <td>1.475</td>\n",
       "      <td>1.425</td>\n",
       "      <td>1.425</td>\n",
       "      <td>1.425</td>\n",
       "      <td>2.375</td>\n",
       "      <td>1.725</td>\n",
       "      <td>2.125</td>\n",
       "      <td>1.725</td>\n",
       "      <td>1.375</td>\n",
       "    </tr>\n",
       "    <tr>\n",
       "      <th>2</th>\n",
       "      <td>CTSP000003</td>\n",
       "      <td>1</td>\n",
       "      <td>18795.11</td>\n",
       "      <td>0</td>\n",
       "      <td>1</td>\n",
       "      <td>1</td>\n",
       "      <td>0</td>\n",
       "      <td>0</td>\n",
       "      <td>0</td>\n",
       "      <td>0</td>\n",
       "      <td>13422.35</td>\n",
       "      <td>800.0</td>\n",
       "      <td>0.0</td>\n",
       "      <td>0.0</td>\n",
       "      <td>0.0</td>\n",
       "      <td>13123.28</td>\n",
       "      <td>0.0</td>\n",
       "      <td>0.0</td>\n",
       "      <td>0.0</td>\n",
       "      <td>0</td>\n",
       "      <td>0</td>\n",
       "      <td>0</td>\n",
       "      <td>0</td>\n",
       "      <td>0</td>\n",
       "      <td>0</td>\n",
       "      <td>0</td>\n",
       "      <td>6</td>\n",
       "      <td>0</td>\n",
       "      <td>1.425</td>\n",
       "      <td>2.375</td>\n",
       "      <td>1.425</td>\n",
       "      <td>1.675</td>\n",
       "      <td>2.375</td>\n",
       "      <td>1.675</td>\n",
       "      <td>1.575</td>\n",
       "      <td>1.675</td>\n",
       "      <td>1.375</td>\n",
       "    </tr>\n",
       "    <tr>\n",
       "      <th>3</th>\n",
       "      <td>CTSP000004</td>\n",
       "      <td>0</td>\n",
       "      <td>22274.72</td>\n",
       "      <td>0</td>\n",
       "      <td>0</td>\n",
       "      <td>0</td>\n",
       "      <td>0</td>\n",
       "      <td>0</td>\n",
       "      <td>0</td>\n",
       "      <td>0</td>\n",
       "      <td>0.00</td>\n",
       "      <td>0.0</td>\n",
       "      <td>0.0</td>\n",
       "      <td>1000.0</td>\n",
       "      <td>23900.0</td>\n",
       "      <td>0.00</td>\n",
       "      <td>0.0</td>\n",
       "      <td>0.0</td>\n",
       "      <td>0.0</td>\n",
       "      <td>0</td>\n",
       "      <td>0</td>\n",
       "      <td>0</td>\n",
       "      <td>0</td>\n",
       "      <td>0</td>\n",
       "      <td>1</td>\n",
       "      <td>0</td>\n",
       "      <td>14</td>\n",
       "      <td>0</td>\n",
       "      <td>1.475</td>\n",
       "      <td>1.425</td>\n",
       "      <td>1.425</td>\n",
       "      <td>1.425</td>\n",
       "      <td>2.375</td>\n",
       "      <td>1.725</td>\n",
       "      <td>2.125</td>\n",
       "      <td>1.725</td>\n",
       "      <td>1.375</td>\n",
       "    </tr>\n",
       "    <tr>\n",
       "      <th>4</th>\n",
       "      <td>CTSP000005</td>\n",
       "      <td>0</td>\n",
       "      <td>47923.40</td>\n",
       "      <td>0</td>\n",
       "      <td>1</td>\n",
       "      <td>0</td>\n",
       "      <td>0</td>\n",
       "      <td>0</td>\n",
       "      <td>0</td>\n",
       "      <td>0</td>\n",
       "      <td>0.00</td>\n",
       "      <td>0.0</td>\n",
       "      <td>0.0</td>\n",
       "      <td>0.0</td>\n",
       "      <td>2000.0</td>\n",
       "      <td>27629.11</td>\n",
       "      <td>0.0</td>\n",
       "      <td>0.0</td>\n",
       "      <td>0.0</td>\n",
       "      <td>0</td>\n",
       "      <td>1</td>\n",
       "      <td>0</td>\n",
       "      <td>0</td>\n",
       "      <td>0</td>\n",
       "      <td>0</td>\n",
       "      <td>0</td>\n",
       "      <td>2</td>\n",
       "      <td>0</td>\n",
       "      <td>1.475</td>\n",
       "      <td>1.425</td>\n",
       "      <td>1.425</td>\n",
       "      <td>1.425</td>\n",
       "      <td>2.375</td>\n",
       "      <td>1.725</td>\n",
       "      <td>2.125</td>\n",
       "      <td>1.725</td>\n",
       "      <td>1.375</td>\n",
       "    </tr>\n",
       "  </tbody>\n",
       "</table>\n",
       "</div>"
      ],
      "text/plain": [
       "  Customer_id  Target   Balance  ...  CompetitiveRate7  RateBefore  ReferenceRate\n",
       "0  CTSP000001       0  43824.59  ...             1.475       1.425          1.125\n",
       "1  CTSP000002       1  11256.21  ...             2.125       1.725          1.375\n",
       "2  CTSP000003       1  18795.11  ...             1.575       1.675          1.375\n",
       "3  CTSP000004       0  22274.72  ...             2.125       1.725          1.375\n",
       "4  CTSP000005       0  47923.40  ...             2.125       1.725          1.375\n",
       "\n",
       "[5 rows x 37 columns]"
      ]
     },
     "execution_count": 5,
     "metadata": {
      "tags": []
     },
     "output_type": "execute_result"
    }
   ],
   "source": [
    "df_train.head()"
   ]
  },
  {
   "cell_type": "markdown",
   "metadata": {
    "id": "fEF68ZCrN0Wx"
   },
   "source": [
    "# Useful Functions"
   ]
  },
  {
   "cell_type": "code",
   "execution_count": null,
   "metadata": {
    "id": "HGIfNy3vI5Xb"
   },
   "outputs": [],
   "source": [
    "# a function that creates a dictionary of dataframes \n",
    "# where each key is the df's features and the values are the features respective df\n",
    "def feat_dict(df):\n",
    "  feature_dict = {}\n",
    "\n",
    "  for i in df.columns:\n",
    "    \n",
    "    # create a df for each feature by subsetting df containing a certain literal string\n",
    "    feature_dict[i] = df[df.columns[df.columns.str.contains(f'{i}', regex = False)]]\n",
    "\n",
    "  return feature_dict"
   ]
  },
  {
   "cell_type": "code",
   "execution_count": null,
   "metadata": {
    "id": "PrZzp0ayKhBS"
   },
   "outputs": [],
   "source": [
    "# create feature dict for train dataset\n",
    "feature_dict = feat_dict(df_train)"
   ]
  },
  {
   "cell_type": "markdown",
   "metadata": {
    "id": "nnvDHaygilvC"
   },
   "source": [
    "# Inspect data"
   ]
  },
  {
   "cell_type": "markdown",
   "metadata": {
    "id": "-iwU1pfZ-9sg"
   },
   "source": [
    "## Inspect train dataframe\n",
    "* 63999 rows\n",
    "* 37 features\n",
    "* no null/missing values but there are NaNs"
   ]
  },
  {
   "cell_type": "code",
   "execution_count": null,
   "metadata": {
    "colab": {
     "base_uri": "https://localhost:8080/"
    },
    "id": "lxRNhfg0APij",
    "outputId": "a32eaefd-eaf6-4276-de22-850e4a91b8dc"
   },
   "outputs": [
    {
     "data": {
      "text/plain": [
       "(63999, 37)"
      ]
     },
     "execution_count": 10,
     "metadata": {
      "tags": []
     },
     "output_type": "execute_result"
    }
   ],
   "source": [
    "df_train.shape"
   ]
  },
  {
   "cell_type": "code",
   "execution_count": null,
   "metadata": {
    "colab": {
     "base_uri": "https://localhost:8080/"
    },
    "id": "J1fRKqPR7VbV",
    "outputId": "5a0b870c-5038-4099-837b-3150847ca676"
   },
   "outputs": [
    {
     "name": "stdout",
     "output_type": "stream",
     "text": [
      "<class 'pandas.core.frame.DataFrame'>\n",
      "RangeIndex: 63999 entries, 0 to 63998\n",
      "Data columns (total 37 columns):\n",
      " #   Column                       Non-Null Count  Dtype  \n",
      "---  ------                       --------------  -----  \n",
      " 0   Customer_id                  63999 non-null  object \n",
      " 1   Target                       63999 non-null  int64  \n",
      " 2   Balance                      63999 non-null  float64\n",
      " 3   PreviousCampaignResult       63999 non-null  int64  \n",
      " 4   Product1                     63999 non-null  int64  \n",
      " 5   Product2                     63999 non-null  int64  \n",
      " 6   Product3                     63999 non-null  int64  \n",
      " 7   Product4                     63999 non-null  int64  \n",
      " 8   Product5                     63999 non-null  int64  \n",
      " 9   Product6                     63999 non-null  int64  \n",
      " 10  Transaction1                 63999 non-null  float64\n",
      " 11  Transaction2                 63999 non-null  float64\n",
      " 12  Transaction3                 63999 non-null  float64\n",
      " 13  Transaction4                 63999 non-null  float64\n",
      " 14  Transaction5                 63999 non-null  float64\n",
      " 15  Transaction6                 63999 non-null  float64\n",
      " 16  Transaction7                 63999 non-null  float64\n",
      " 17  Transaction8                 63999 non-null  float64\n",
      " 18  Transaction9                 63999 non-null  float64\n",
      " 19  ExternalAccount1             63999 non-null  int64  \n",
      " 20  ExternalAccount2             63999 non-null  int64  \n",
      " 21  ExternalAccount3             63999 non-null  int64  \n",
      " 22  ExternalAccount4             63999 non-null  int64  \n",
      " 23  ExternalAccount5             63999 non-null  int64  \n",
      " 24  ExternalAccount6             63999 non-null  int64  \n",
      " 25  ExternalAccount7             63999 non-null  int64  \n",
      " 26  ActivityIndicator            63999 non-null  int64  \n",
      " 27  RegularInteractionIndicator  63999 non-null  int64  \n",
      " 28  CompetitiveRate1             63999 non-null  float64\n",
      " 29  CompetitiveRate2             63999 non-null  float64\n",
      " 30  CompetitiveRate3             63999 non-null  float64\n",
      " 31  CompetitiveRate4             63999 non-null  float64\n",
      " 32  CompetitiveRate5             63999 non-null  float64\n",
      " 33  CompetitiveRate6             63999 non-null  float64\n",
      " 34  CompetitiveRate7             63999 non-null  float64\n",
      " 35  RateBefore                   63999 non-null  float64\n",
      " 36  ReferenceRate                63999 non-null  float64\n",
      "dtypes: float64(19), int64(17), object(1)\n",
      "memory usage: 18.1+ MB\n"
     ]
    }
   ],
   "source": [
    "df_train.info()"
   ]
  },
  {
   "cell_type": "code",
   "execution_count": null,
   "metadata": {
    "colab": {
     "base_uri": "https://localhost:8080/"
    },
    "id": "qRwOCZmY-8Si",
    "outputId": "ad52166c-5cba-4319-9646-2c29fb91a94f"
   },
   "outputs": [
    {
     "data": {
      "text/plain": [
       "Customer_id                    False\n",
       "Target                         False\n",
       "Balance                        False\n",
       "PreviousCampaignResult         False\n",
       "Product1                       False\n",
       "Product2                       False\n",
       "Product3                       False\n",
       "Product4                       False\n",
       "Product5                       False\n",
       "Product6                       False\n",
       "Transaction1                   False\n",
       "Transaction2                   False\n",
       "Transaction3                   False\n",
       "Transaction4                   False\n",
       "Transaction5                   False\n",
       "Transaction6                   False\n",
       "Transaction7                   False\n",
       "Transaction8                   False\n",
       "Transaction9                   False\n",
       "ExternalAccount1               False\n",
       "ExternalAccount2               False\n",
       "ExternalAccount3               False\n",
       "ExternalAccount4               False\n",
       "ExternalAccount5               False\n",
       "ExternalAccount6               False\n",
       "ExternalAccount7               False\n",
       "ActivityIndicator              False\n",
       "RegularInteractionIndicator    False\n",
       "CompetitiveRate1               False\n",
       "CompetitiveRate2               False\n",
       "CompetitiveRate3               False\n",
       "CompetitiveRate4               False\n",
       "CompetitiveRate5               False\n",
       "CompetitiveRate6               False\n",
       "CompetitiveRate7               False\n",
       "RateBefore                     False\n",
       "ReferenceRate                  False\n",
       "dtype: bool"
      ]
     },
     "execution_count": 12,
     "metadata": {
      "tags": []
     },
     "output_type": "execute_result"
    }
   ],
   "source": [
    "# check for null values - no null values\n",
    "df_train.isnull().any()"
   ]
  },
  {
   "cell_type": "code",
   "execution_count": null,
   "metadata": {
    "colab": {
     "base_uri": "https://localhost:8080/"
    },
    "id": "Bey7CCZrFJvu",
    "outputId": "a80a3570-3922-407a-9584-d6c6157e7a71"
   },
   "outputs": [
    {
     "data": {
      "text/plain": [
       "False"
      ]
     },
     "execution_count": 13,
     "metadata": {
      "tags": []
     },
     "output_type": "execute_result"
    }
   ],
   "source": [
    "# check for null values - no null values\n",
    "df_train.duplicated().any()"
   ]
  },
  {
   "cell_type": "code",
   "execution_count": null,
   "metadata": {
    "colab": {
     "base_uri": "https://localhost:8080/"
    },
    "id": "qs6OTz_6hq9i",
    "outputId": "2f08ae85-5662-4b1a-e81e-c0e1d571f8f7"
   },
   "outputs": [
    {
     "data": {
      "text/plain": [
       "0        0\n",
       "1        0\n",
       "2        0\n",
       "3        0\n",
       "4        0\n",
       "        ..\n",
       "63994    0\n",
       "63995    0\n",
       "63996    0\n",
       "63997    0\n",
       "63998    0\n",
       "Name: Product3, Length: 63999, dtype: int64"
      ]
     },
     "execution_count": 14,
     "metadata": {
      "tags": []
     },
     "output_type": "execute_result"
    }
   ],
   "source": [
    "df_train['Product3']"
   ]
  },
  {
   "cell_type": "markdown",
   "metadata": {
    "id": "o28s5FdhH03e"
   },
   "source": [
    "## Train Data Histogram"
   ]
  },
  {
   "cell_type": "code",
   "execution_count": null,
   "metadata": {
    "colab": {
     "base_uri": "https://localhost:8080/"
    },
    "id": "hqrPKnGmAWKZ",
    "outputId": "917b29b8-18ad-4feb-8798-c9560f5e766c"
   },
   "outputs": [
    {
     "data": {
      "text/plain": [
       "array([[<matplotlib.axes._subplots.AxesSubplot object at 0x7fae94a5e210>,\n",
       "        <matplotlib.axes._subplots.AxesSubplot object at 0x7fae94a30b50>,\n",
       "        <matplotlib.axes._subplots.AxesSubplot object at 0x7fae949f41d0>,\n",
       "        <matplotlib.axes._subplots.AxesSubplot object at 0x7fae949ab850>,\n",
       "        <matplotlib.axes._subplots.AxesSubplot object at 0x7fae9495eed0>,\n",
       "        <matplotlib.axes._subplots.AxesSubplot object at 0x7fae94921590>],\n",
       "       [<matplotlib.axes._subplots.AxesSubplot object at 0x7fae94955c90>,\n",
       "        <matplotlib.axes._subplots.AxesSubplot object at 0x7fae94918290>,\n",
       "        <matplotlib.axes._subplots.AxesSubplot object at 0x7fae949182d0>,\n",
       "        <matplotlib.axes._subplots.AxesSubplot object at 0x7fae948cca50>,\n",
       "        <matplotlib.axes._subplots.AxesSubplot object at 0x7fae94847690>,\n",
       "        <matplotlib.axes._subplots.AxesSubplot object at 0x7fae947fcd10>],\n",
       "       [<matplotlib.axes._subplots.AxesSubplot object at 0x7fae947be3d0>,\n",
       "        <matplotlib.axes._subplots.AxesSubplot object at 0x7fae94772a50>,\n",
       "        <matplotlib.axes._subplots.AxesSubplot object at 0x7fae94734110>,\n",
       "        <matplotlib.axes._subplots.AxesSubplot object at 0x7fae946e8790>,\n",
       "        <matplotlib.axes._subplots.AxesSubplot object at 0x7fae946a0e10>,\n",
       "        <matplotlib.axes._subplots.AxesSubplot object at 0x7fae946614d0>],\n",
       "       [<matplotlib.axes._subplots.AxesSubplot object at 0x7fae94696b50>,\n",
       "        <matplotlib.axes._subplots.AxesSubplot object at 0x7fae94658210>,\n",
       "        <matplotlib.axes._subplots.AxesSubplot object at 0x7fae9460d890>,\n",
       "        <matplotlib.axes._subplots.AxesSubplot object at 0x7fae945c2f10>,\n",
       "        <matplotlib.axes._subplots.AxesSubplot object at 0x7fae945845d0>,\n",
       "        <matplotlib.axes._subplots.AxesSubplot object at 0x7fae9453ac50>],\n",
       "       [<matplotlib.axes._subplots.AxesSubplot object at 0x7fae944fe310>,\n",
       "        <matplotlib.axes._subplots.AxesSubplot object at 0x7fae944b2990>,\n",
       "        <matplotlib.axes._subplots.AxesSubplot object at 0x7fae94469fd0>,\n",
       "        <matplotlib.axes._subplots.AxesSubplot object at 0x7fae9442a6d0>,\n",
       "        <matplotlib.axes._subplots.AxesSubplot object at 0x7fae943dfd50>,\n",
       "        <matplotlib.axes._subplots.AxesSubplot object at 0x7fae943a2410>],\n",
       "       [<matplotlib.axes._subplots.AxesSubplot object at 0x7fae943dc610>,\n",
       "        <matplotlib.axes._subplots.AxesSubplot object at 0x7fae9438fb90>,\n",
       "        <matplotlib.axes._subplots.AxesSubplot object at 0x7fae94351150>,\n",
       "        <matplotlib.axes._subplots.AxesSubplot object at 0x7fae943056d0>,\n",
       "        <matplotlib.axes._subplots.AxesSubplot object at 0x7fae942b9c50>,\n",
       "        <matplotlib.axes._subplots.AxesSubplot object at 0x7fae9427f210>]],\n",
       "      dtype=object)"
      ]
     },
     "execution_count": 13,
     "metadata": {
      "tags": []
     },
     "output_type": "execute_result"
    },
    {
     "data": {
      "image/png": "[encoded data removed]",
      "text/plain": [
       "<Figure size 1440x2160 with 36 Axes>"
      ]
     },
     "metadata": {
      "needs_background": "light",
      "tags": []
     },
     "output_type": "display_data"
    }
   ],
   "source": [
    "df_train.hist(figsize = (20,30))"
   ]
  },
  {
   "cell_type": "code",
   "execution_count": null,
   "metadata": {
    "colab": {
     "base_uri": "https://localhost:8080/",
     "height": 193
    },
    "id": "lC08H1HOpP6X",
    "outputId": "ca8bc331-56a8-4dd1-b965-317fe24fbc26"
   },
   "outputs": [
    {
     "data": {
      "text/html": [
       "<div>\n",
       "<style scoped>\n",
       "    .dataframe tbody tr th:only-of-type {\n",
       "        vertical-align: middle;\n",
       "    }\n",
       "\n",
       "    .dataframe tbody tr th {\n",
       "        vertical-align: top;\n",
       "    }\n",
       "\n",
       "    .dataframe thead th {\n",
       "        text-align: right;\n",
       "    }\n",
       "</style>\n",
       "<table border=\"1\" class=\"dataframe\">\n",
       "  <thead>\n",
       "    <tr style=\"text-align: right;\">\n",
       "      <th></th>\n",
       "      <th>Target</th>\n",
       "      <th>Balance</th>\n",
       "      <th>PreviousCampaignResult</th>\n",
       "      <th>Product1</th>\n",
       "      <th>Product2</th>\n",
       "      <th>Product3</th>\n",
       "      <th>Product4</th>\n",
       "      <th>Product5</th>\n",
       "      <th>Product6</th>\n",
       "      <th>Transaction1</th>\n",
       "      <th>Transaction2</th>\n",
       "      <th>Transaction3</th>\n",
       "      <th>Transaction4</th>\n",
       "      <th>Transaction5</th>\n",
       "      <th>Transaction6</th>\n",
       "      <th>Transaction7</th>\n",
       "      <th>Transaction8</th>\n",
       "      <th>Transaction9</th>\n",
       "      <th>ExternalAccount1</th>\n",
       "      <th>ExternalAccount2</th>\n",
       "      <th>ExternalAccount3</th>\n",
       "      <th>ExternalAccount4</th>\n",
       "      <th>ExternalAccount5</th>\n",
       "      <th>ExternalAccount6</th>\n",
       "      <th>ExternalAccount7</th>\n",
       "      <th>ActivityIndicator</th>\n",
       "      <th>RegularInteractionIndicator</th>\n",
       "      <th>CompetitiveRate1</th>\n",
       "      <th>CompetitiveRate2</th>\n",
       "      <th>CompetitiveRate3</th>\n",
       "      <th>CompetitiveRate4</th>\n",
       "      <th>CompetitiveRate6</th>\n",
       "      <th>CompetitiveRate7</th>\n",
       "      <th>RateBefore</th>\n",
       "      <th>ReferenceRate</th>\n",
       "    </tr>\n",
       "    <tr>\n",
       "      <th>CompetitiveRate5</th>\n",
       "      <th></th>\n",
       "      <th></th>\n",
       "      <th></th>\n",
       "      <th></th>\n",
       "      <th></th>\n",
       "      <th></th>\n",
       "      <th></th>\n",
       "      <th></th>\n",
       "      <th></th>\n",
       "      <th></th>\n",
       "      <th></th>\n",
       "      <th></th>\n",
       "      <th></th>\n",
       "      <th></th>\n",
       "      <th></th>\n",
       "      <th></th>\n",
       "      <th></th>\n",
       "      <th></th>\n",
       "      <th></th>\n",
       "      <th></th>\n",
       "      <th></th>\n",
       "      <th></th>\n",
       "      <th></th>\n",
       "      <th></th>\n",
       "      <th></th>\n",
       "      <th></th>\n",
       "      <th></th>\n",
       "      <th></th>\n",
       "      <th></th>\n",
       "      <th></th>\n",
       "      <th></th>\n",
       "      <th></th>\n",
       "      <th></th>\n",
       "      <th></th>\n",
       "      <th></th>\n",
       "    </tr>\n",
       "  </thead>\n",
       "  <tbody>\n",
       "    <tr>\n",
       "      <th>1.175</th>\n",
       "      <td>7562</td>\n",
       "      <td>3.468550e+08</td>\n",
       "      <td>20</td>\n",
       "      <td>3022</td>\n",
       "      <td>2370</td>\n",
       "      <td>26</td>\n",
       "      <td>1417</td>\n",
       "      <td>344</td>\n",
       "      <td>632</td>\n",
       "      <td>4654494.30</td>\n",
       "      <td>1352082.42</td>\n",
       "      <td>14318349.09</td>\n",
       "      <td>2.018475e+08</td>\n",
       "      <td>9.224841e+07</td>\n",
       "      <td>1.339004e+08</td>\n",
       "      <td>1323370.08</td>\n",
       "      <td>22031860.15</td>\n",
       "      <td>17254858.07</td>\n",
       "      <td>3080</td>\n",
       "      <td>4566</td>\n",
       "      <td>1304</td>\n",
       "      <td>1914</td>\n",
       "      <td>2955</td>\n",
       "      <td>1493</td>\n",
       "      <td>298</td>\n",
       "      <td>293418</td>\n",
       "      <td>9307</td>\n",
       "      <td>15684.550</td>\n",
       "      <td>29456.350</td>\n",
       "      <td>17214.750</td>\n",
       "      <td>36342.250</td>\n",
       "      <td>21805.350</td>\n",
       "      <td>22570.450</td>\n",
       "      <td>21805.350</td>\n",
       "      <td>17214.750</td>\n",
       "    </tr>\n",
       "    <tr>\n",
       "      <th>1.575</th>\n",
       "      <td>8207</td>\n",
       "      <td>3.738786e+08</td>\n",
       "      <td>34</td>\n",
       "      <td>3290</td>\n",
       "      <td>2656</td>\n",
       "      <td>31</td>\n",
       "      <td>1539</td>\n",
       "      <td>349</td>\n",
       "      <td>690</td>\n",
       "      <td>4800890.34</td>\n",
       "      <td>1571019.12</td>\n",
       "      <td>16087908.56</td>\n",
       "      <td>2.178962e+08</td>\n",
       "      <td>9.541787e+07</td>\n",
       "      <td>1.499613e+08</td>\n",
       "      <td>1672006.07</td>\n",
       "      <td>24894181.87</td>\n",
       "      <td>19923344.30</td>\n",
       "      <td>3288</td>\n",
       "      <td>4980</td>\n",
       "      <td>1311</td>\n",
       "      <td>1979</td>\n",
       "      <td>3064</td>\n",
       "      <td>1716</td>\n",
       "      <td>307</td>\n",
       "      <td>346292</td>\n",
       "      <td>9773</td>\n",
       "      <td>25870.950</td>\n",
       "      <td>25870.950</td>\n",
       "      <td>25870.950</td>\n",
       "      <td>25870.950</td>\n",
       "      <td>30798.750</td>\n",
       "      <td>8623.650</td>\n",
       "      <td>30798.750</td>\n",
       "      <td>22585.750</td>\n",
       "    </tr>\n",
       "    <tr>\n",
       "      <th>2.375</th>\n",
       "      <td>16216</td>\n",
       "      <td>7.318526e+08</td>\n",
       "      <td>41</td>\n",
       "      <td>6516</td>\n",
       "      <td>5243</td>\n",
       "      <td>56</td>\n",
       "      <td>2942</td>\n",
       "      <td>723</td>\n",
       "      <td>1358</td>\n",
       "      <td>10566858.71</td>\n",
       "      <td>3368420.00</td>\n",
       "      <td>31828872.80</td>\n",
       "      <td>4.344322e+08</td>\n",
       "      <td>1.881672e+08</td>\n",
       "      <td>2.813762e+08</td>\n",
       "      <td>3480799.94</td>\n",
       "      <td>50503171.88</td>\n",
       "      <td>34736365.10</td>\n",
       "      <td>6242</td>\n",
       "      <td>9776</td>\n",
       "      <td>2667</td>\n",
       "      <td>4029</td>\n",
       "      <td>6260</td>\n",
       "      <td>3218</td>\n",
       "      <td>631</td>\n",
       "      <td>625984</td>\n",
       "      <td>19018</td>\n",
       "      <td>46746.225</td>\n",
       "      <td>62202.675</td>\n",
       "      <td>45986.175</td>\n",
       "      <td>50253.675</td>\n",
       "      <td>54813.975</td>\n",
       "      <td>59187.375</td>\n",
       "      <td>54813.975</td>\n",
       "      <td>44372.625</td>\n",
       "    </tr>\n",
       "  </tbody>\n",
       "</table>\n",
       "</div>"
      ],
      "text/plain": [
       "                  Target       Balance  ...  RateBefore  ReferenceRate\n",
       "CompetitiveRate5                        ...                           \n",
       "1.175               7562  3.468550e+08  ...   21805.350      17214.750\n",
       "1.575               8207  3.738786e+08  ...   30798.750      22585.750\n",
       "2.375              16216  7.318526e+08  ...   54813.975      44372.625\n",
       "\n",
       "[3 rows x 35 columns]"
      ]
     },
     "execution_count": 14,
     "metadata": {
      "tags": []
     },
     "output_type": "execute_result"
    }
   ],
   "source": [
    "df_train.groupby(['CompetitiveRate5']).sum()"
   ]
  },
  {
   "cell_type": "markdown",
   "metadata": {
    "id": "cOp3tTGQZZF2"
   },
   "source": [
    "## Inspect Target Feature\n",
    "* almost a 50/50 chance of customers responding and not responding to campaign"
   ]
  },
  {
   "cell_type": "code",
   "execution_count": null,
   "metadata": {
    "colab": {
     "base_uri": "https://localhost:8080/"
    },
    "id": "iqTnvQGFbajQ",
    "outputId": "d7807c44-0608-45d1-8796-9e6431900cd0"
   },
   "outputs": [
    {
     "data": {
      "text/plain": [
       "Target\n",
       "0         32014\n",
       "1         31985\n",
       "dtype: int64"
      ]
     },
     "execution_count": 78,
     "metadata": {
      "tags": []
     },
     "output_type": "execute_result"
    }
   ],
   "source": [
    "feature_dict['Target'].value_counts()"
   ]
  },
  {
   "cell_type": "markdown",
   "metadata": {
    "id": "050AXlDDHU-P"
   },
   "source": [
    "## Target Distribution"
   ]
  },
  {
   "cell_type": "code",
   "execution_count": null,
   "metadata": {
    "colab": {
     "base_uri": "https://localhost:8080/"
    },
    "id": "rTsJymWGaUrJ",
    "outputId": "7917ab7c-d18b-4a55-a83e-e17772d925d1"
   },
   "outputs": [
    {
     "data": {
      "image/png": "[encoded data removed]",
      "text/plain": [
       "<Figure size 720x432 with 1 Axes>"
      ]
     },
     "metadata": {
      "needs_background": "light",
      "tags": []
     },
     "output_type": "display_data"
    }
   ],
   "source": [
    "total = len(feature_dict['Target'])\n",
    "\n",
    "plt.figure(figsize = (10,6))\n",
    "\n",
    "count_plot = sns.countplot(x = 'Target', data = feature_dict['Target'])\n",
    "count_plot.set_title('Customers responding to campaign \\n 0: No Response | 1: Yes Response', fontsize = 15)\n",
    "\n",
    "for i in count_plot.patches:                    # get plot axis locations\n",
    "  height = i.get_height()\n",
    "  count_plot.text(\n",
    "      i.get_x() + i.get_width() / 2,            # location of text\n",
    "      height + 3,\n",
    "      '{:.2f}%'.format(height / total * 100),   # proportion of total target sample size (2 sigfigs)\n",
    "      ha = 'center',                            # center alignment\n",
    "      fontsize = 10\n",
    "  )"
   ]
  },
  {
   "cell_type": "markdown",
   "metadata": {
    "id": "5ns7s3ViLCnS"
   },
   "source": [
    "### Inspect Customer's Balance info\n",
    "* a lot of customer's do not have large accounts with Bank \"A\"\n",
    "* majority of the customers have accounts with less than $15000 in their accounts (chequing + savings)"
   ]
  },
  {
   "cell_type": "code",
   "execution_count": null,
   "metadata": {
    "colab": {
     "base_uri": "https://localhost:8080/"
    },
    "id": "RlNCacvlIayP",
    "outputId": "604024ce-72b5-43df-9578-ff486f123162"
   },
   "outputs": [
    {
     "data": {
      "text/plain": [
       "array([[<matplotlib.axes._subplots.AxesSubplot object at 0x7fae938ecdd0>]],\n",
       "      dtype=object)"
      ]
     },
     "execution_count": 16,
     "metadata": {
      "tags": []
     },
     "output_type": "execute_result"
    },
    {
     "data": {
      "image/png": "[encoded data removed]",
      "text/plain": [
       "<Figure size 432x288 with 1 Axes>"
      ]
     },
     "metadata": {
      "needs_background": "light",
      "tags": []
     },
     "output_type": "display_data"
    }
   ],
   "source": [
    "feature_dict['Balance'].hist()"
   ]
  },
  {
   "cell_type": "markdown",
   "metadata": {
    "id": "FDULPFKloqBl"
   },
   "source": [
    "## Summary Statistics Notes on interest rate offers:\n",
    "* interest rate offers never went higher than 2.4%\n",
    "* interest rate offer were as low as 0.6% \n",
    "* CompRate6 has the same rates as RateBefore\n",
    "\n",
    "For RateBefore\n",
    "* avg interest rate of Bank \"A\" customers were 1.7% \n",
    "\n",
    "For ReferenceRate\n",
    "* have two extremes, either 1.1% interest rate or 1.4% interest rate after negotiations and seeing the competitive rates offer\n",
    "* customers end up negotiating for a 1.4% rate on products"
   ]
  },
  {
   "cell_type": "markdown",
   "metadata": {
    "id": "OIH0ccB4ohEP"
   },
   "source": [
    "### Summary Statistics of Competitive Rates"
   ]
  },
  {
   "cell_type": "code",
   "execution_count": null,
   "metadata": {
    "colab": {
     "base_uri": "https://localhost:8080/"
    },
    "id": "A29ehwn1jsd2",
    "outputId": "09582ceb-1de8-4d97-e66b-5c5f3c4de45b"
   },
   "outputs": [
    {
     "data": {
      "text/html": [
       "<div>\n",
       "<style scoped>\n",
       "    .dataframe tbody tr th:only-of-type {\n",
       "        vertical-align: middle;\n",
       "    }\n",
       "\n",
       "    .dataframe tbody tr th {\n",
       "        vertical-align: top;\n",
       "    }\n",
       "\n",
       "    .dataframe thead th {\n",
       "        text-align: right;\n",
       "    }\n",
       "</style>\n",
       "<table border=\"1\" class=\"dataframe\">\n",
       "  <thead>\n",
       "    <tr style=\"text-align: right;\">\n",
       "      <th></th>\n",
       "      <th>CompetitiveRate1</th>\n",
       "      <th>CompetitiveRate2</th>\n",
       "      <th>CompetitiveRate3</th>\n",
       "      <th>CompetitiveRate4</th>\n",
       "      <th>CompetitiveRate5</th>\n",
       "      <th>CompetitiveRate6</th>\n",
       "      <th>CompetitiveRate7</th>\n",
       "    </tr>\n",
       "  </thead>\n",
       "  <tbody>\n",
       "    <tr>\n",
       "      <th>count</th>\n",
       "      <td>63999.000000</td>\n",
       "      <td>63999.000000</td>\n",
       "      <td>63999.000000</td>\n",
       "      <td>63999.000000</td>\n",
       "      <td>63999.000000</td>\n",
       "      <td>63999.000000</td>\n",
       "      <td>63999.000000</td>\n",
       "    </tr>\n",
       "    <tr>\n",
       "      <th>mean</th>\n",
       "      <td>1.379736</td>\n",
       "      <td>1.836435</td>\n",
       "      <td>1.391770</td>\n",
       "      <td>1.757322</td>\n",
       "      <td>1.882755</td>\n",
       "      <td>1.678434</td>\n",
       "      <td>1.412233</td>\n",
       "    </tr>\n",
       "    <tr>\n",
       "      <th>std</th>\n",
       "      <td>0.206340</td>\n",
       "      <td>0.370122</td>\n",
       "      <td>0.161833</td>\n",
       "      <td>0.357483</td>\n",
       "      <td>0.516006</td>\n",
       "      <td>0.160600</td>\n",
       "      <td>0.575083</td>\n",
       "    </tr>\n",
       "    <tr>\n",
       "      <th>min</th>\n",
       "      <td>1.025000</td>\n",
       "      <td>1.425000</td>\n",
       "      <td>1.125000</td>\n",
       "      <td>1.425000</td>\n",
       "      <td>1.175000</td>\n",
       "      <td>1.425000</td>\n",
       "      <td>0.525000</td>\n",
       "    </tr>\n",
       "    <tr>\n",
       "      <th>25%</th>\n",
       "      <td>1.425000</td>\n",
       "      <td>1.575000</td>\n",
       "      <td>1.425000</td>\n",
       "      <td>1.575000</td>\n",
       "      <td>1.575000</td>\n",
       "      <td>1.675000</td>\n",
       "      <td>0.525000</td>\n",
       "    </tr>\n",
       "    <tr>\n",
       "      <th>50%</th>\n",
       "      <td>1.425000</td>\n",
       "      <td>1.925000</td>\n",
       "      <td>1.425000</td>\n",
       "      <td>1.675000</td>\n",
       "      <td>2.375000</td>\n",
       "      <td>1.675000</td>\n",
       "      <td>1.575000</td>\n",
       "    </tr>\n",
       "    <tr>\n",
       "      <th>75%</th>\n",
       "      <td>1.575000</td>\n",
       "      <td>2.375000</td>\n",
       "      <td>1.575000</td>\n",
       "      <td>1.675000</td>\n",
       "      <td>2.375000</td>\n",
       "      <td>1.875000</td>\n",
       "      <td>1.575000</td>\n",
       "    </tr>\n",
       "    <tr>\n",
       "      <th>max</th>\n",
       "      <td>1.575000</td>\n",
       "      <td>2.375000</td>\n",
       "      <td>1.575000</td>\n",
       "      <td>2.375000</td>\n",
       "      <td>2.375000</td>\n",
       "      <td>1.875000</td>\n",
       "      <td>2.125000</td>\n",
       "    </tr>\n",
       "  </tbody>\n",
       "</table>\n",
       "</div>"
      ],
      "text/plain": [
       "       CompetitiveRate1  CompetitiveRate2  ...  CompetitiveRate6  CompetitiveRate7\n",
       "count      63999.000000      63999.000000  ...      63999.000000      63999.000000\n",
       "mean           1.379736          1.836435  ...          1.678434          1.412233\n",
       "std            0.206340          0.370122  ...          0.160600          0.575083\n",
       "min            1.025000          1.425000  ...          1.425000          0.525000\n",
       "25%            1.425000          1.575000  ...          1.675000          0.525000\n",
       "50%            1.425000          1.925000  ...          1.675000          1.575000\n",
       "75%            1.575000          2.375000  ...          1.875000          1.575000\n",
       "max            1.575000          2.375000  ...          1.875000          2.125000\n",
       "\n",
       "[8 rows x 7 columns]"
      ]
     },
     "execution_count": 17,
     "metadata": {
      "tags": []
     },
     "output_type": "execute_result"
    }
   ],
   "source": [
    "# utilize list comprehension to get CompRate dataframes from feature_dict funciton\n",
    "# use concat to convert list of df into one df\n",
    "df_comp_rate = pd.concat([value for (key, value) in feature_dict.items() if 'CompetitiveRate' in key])\n",
    "\n",
    "# get summary statistics of CompRates\n",
    "df_comp_rate.describe()"
   ]
  },
  {
   "cell_type": "markdown",
   "metadata": {
    "id": "35mmkP2tDmIB"
   },
   "source": [
    "### Summary Statistics of RateBefore"
   ]
  },
  {
   "cell_type": "code",
   "execution_count": null,
   "metadata": {
    "colab": {
     "base_uri": "https://localhost:8080/",
     "height": 297
    },
    "id": "wCV0UXi_oexx",
    "outputId": "7b27403c-7838-4829-885b-ac29c1ced30c"
   },
   "outputs": [
    {
     "data": {
      "text/html": [
       "<div>\n",
       "<style scoped>\n",
       "    .dataframe tbody tr th:only-of-type {\n",
       "        vertical-align: middle;\n",
       "    }\n",
       "\n",
       "    .dataframe tbody tr th {\n",
       "        vertical-align: top;\n",
       "    }\n",
       "\n",
       "    .dataframe thead th {\n",
       "        text-align: right;\n",
       "    }\n",
       "</style>\n",
       "<table border=\"1\" class=\"dataframe\">\n",
       "  <thead>\n",
       "    <tr style=\"text-align: right;\">\n",
       "      <th></th>\n",
       "      <th>RateBefore</th>\n",
       "    </tr>\n",
       "  </thead>\n",
       "  <tbody>\n",
       "    <tr>\n",
       "      <th>count</th>\n",
       "      <td>63999.000000</td>\n",
       "    </tr>\n",
       "    <tr>\n",
       "      <th>mean</th>\n",
       "      <td>1.678434</td>\n",
       "    </tr>\n",
       "    <tr>\n",
       "      <th>std</th>\n",
       "      <td>0.160600</td>\n",
       "    </tr>\n",
       "    <tr>\n",
       "      <th>min</th>\n",
       "      <td>1.425000</td>\n",
       "    </tr>\n",
       "    <tr>\n",
       "      <th>25%</th>\n",
       "      <td>1.675000</td>\n",
       "    </tr>\n",
       "    <tr>\n",
       "      <th>50%</th>\n",
       "      <td>1.675000</td>\n",
       "    </tr>\n",
       "    <tr>\n",
       "      <th>75%</th>\n",
       "      <td>1.875000</td>\n",
       "    </tr>\n",
       "    <tr>\n",
       "      <th>max</th>\n",
       "      <td>1.875000</td>\n",
       "    </tr>\n",
       "  </tbody>\n",
       "</table>\n",
       "</div>"
      ],
      "text/plain": [
       "         RateBefore\n",
       "count  63999.000000\n",
       "mean       1.678434\n",
       "std        0.160600\n",
       "min        1.425000\n",
       "25%        1.675000\n",
       "50%        1.675000\n",
       "75%        1.875000\n",
       "max        1.875000"
      ]
     },
     "execution_count": 58,
     "metadata": {
      "tags": []
     },
     "output_type": "execute_result"
    }
   ],
   "source": [
    "# utilize list comprehension to get CompRate dataframes from feature_dict funciton\n",
    "# use concat to convert list of df into one df\n",
    "df_rate_before = pd.concat([value for (key, value) in feature_dict.items() if 'RateBefore' in key])\n",
    "\n",
    "# get summary statistics for RateBefore\n",
    "df_rate_before.describe()"
   ]
  },
  {
   "cell_type": "markdown",
   "metadata": {
    "id": "FnSwCtcxF69v"
   },
   "source": [
    "### Summary Statistics of Reference Rate"
   ]
  },
  {
   "cell_type": "code",
   "execution_count": null,
   "metadata": {
    "colab": {
     "base_uri": "https://localhost:8080/"
    },
    "id": "rn5YredBrqXx",
    "outputId": "1135ead7-535c-4f1b-c27f-98b7fbc770e6"
   },
   "outputs": [
    {
     "data": {
      "text/html": [
       "<div>\n",
       "<style scoped>\n",
       "    .dataframe tbody tr th:only-of-type {\n",
       "        vertical-align: middle;\n",
       "    }\n",
       "\n",
       "    .dataframe tbody tr th {\n",
       "        vertical-align: top;\n",
       "    }\n",
       "\n",
       "    .dataframe thead th {\n",
       "        text-align: right;\n",
       "    }\n",
       "</style>\n",
       "<table border=\"1\" class=\"dataframe\">\n",
       "  <thead>\n",
       "    <tr style=\"text-align: right;\">\n",
       "      <th></th>\n",
       "      <th>ReferenceRate</th>\n",
       "    </tr>\n",
       "  </thead>\n",
       "  <tbody>\n",
       "    <tr>\n",
       "      <th>count</th>\n",
       "      <td>63999.000000</td>\n",
       "    </tr>\n",
       "    <tr>\n",
       "      <th>mean</th>\n",
       "      <td>1.315226</td>\n",
       "    </tr>\n",
       "    <tr>\n",
       "      <th>std</th>\n",
       "      <td>0.106634</td>\n",
       "    </tr>\n",
       "    <tr>\n",
       "      <th>min</th>\n",
       "      <td>1.125000</td>\n",
       "    </tr>\n",
       "    <tr>\n",
       "      <th>25%</th>\n",
       "      <td>1.375000</td>\n",
       "    </tr>\n",
       "    <tr>\n",
       "      <th>50%</th>\n",
       "      <td>1.375000</td>\n",
       "    </tr>\n",
       "    <tr>\n",
       "      <th>75%</th>\n",
       "      <td>1.375000</td>\n",
       "    </tr>\n",
       "    <tr>\n",
       "      <th>max</th>\n",
       "      <td>1.375000</td>\n",
       "    </tr>\n",
       "  </tbody>\n",
       "</table>\n",
       "</div>"
      ],
      "text/plain": [
       "       ReferenceRate\n",
       "count   63999.000000\n",
       "mean        1.315226\n",
       "std         0.106634\n",
       "min         1.125000\n",
       "25%         1.375000\n",
       "50%         1.375000\n",
       "75%         1.375000\n",
       "max         1.375000"
      ]
     },
     "execution_count": 19,
     "metadata": {
      "tags": []
     },
     "output_type": "execute_result"
    }
   ],
   "source": [
    "# utilize list comprehension to get CompRate dataframes from feature_dict funciton\n",
    "# use concat to convert list of df into one df\n",
    "df_ref_rate = pd.concat([value for (key, value) in feature_dict.items() if 'ReferenceRate' in key], axis = 1)\n",
    "\n",
    "# get summary statistics for RateBefore\n",
    "df_ref_rate.describe()"
   ]
  },
  {
   "cell_type": "markdown",
   "metadata": {
    "id": "-36SLS9Sg1VN"
   },
   "source": [
    "## Inspect Product\n",
    "* not a lot of customers own product 3, only 0.18% of Bank \"A\" customers own product 3"
   ]
  },
  {
   "cell_type": "code",
   "execution_count": null,
   "metadata": {
    "colab": {
     "base_uri": "https://localhost:8080/"
    },
    "id": "YBYLPNU0g0Xj",
    "outputId": "25054762-f2d2-4617-e7e2-1995819c71d2"
   },
   "outputs": [
    {
     "data": {
      "text/html": [
       "<div>\n",
       "<style scoped>\n",
       "    .dataframe tbody tr th:only-of-type {\n",
       "        vertical-align: middle;\n",
       "    }\n",
       "\n",
       "    .dataframe tbody tr th {\n",
       "        vertical-align: top;\n",
       "    }\n",
       "\n",
       "    .dataframe thead th {\n",
       "        text-align: right;\n",
       "    }\n",
       "</style>\n",
       "<table border=\"1\" class=\"dataframe\">\n",
       "  <thead>\n",
       "    <tr style=\"text-align: right;\">\n",
       "      <th></th>\n",
       "      <th>Product1</th>\n",
       "      <th>Product2</th>\n",
       "      <th>Product3</th>\n",
       "      <th>Product4</th>\n",
       "      <th>Product5</th>\n",
       "      <th>Product6</th>\n",
       "    </tr>\n",
       "  </thead>\n",
       "  <tbody>\n",
       "    <tr>\n",
       "      <th>0</th>\n",
       "      <td>51171</td>\n",
       "      <td>53730</td>\n",
       "      <td>63886</td>\n",
       "      <td>58101</td>\n",
       "      <td>62583</td>\n",
       "      <td>61319</td>\n",
       "    </tr>\n",
       "    <tr>\n",
       "      <th>1</th>\n",
       "      <td>12828</td>\n",
       "      <td>10269</td>\n",
       "      <td>113</td>\n",
       "      <td>5898</td>\n",
       "      <td>1416</td>\n",
       "      <td>2680</td>\n",
       "    </tr>\n",
       "  </tbody>\n",
       "</table>\n",
       "</div>"
      ],
      "text/plain": [
       "   Product1  Product2  Product3  Product4  Product5  Product6\n",
       "0     51171     53730     63886     58101     62583     61319\n",
       "1     12828     10269       113      5898      1416      2680"
      ]
     },
     "execution_count": 20,
     "metadata": {
      "tags": []
     },
     "output_type": "execute_result"
    }
   ],
   "source": [
    "# need to include axis = 1 to avoid autofill of NaN for indices that do not align\n",
    "df_product = pd.concat([value for (key, value) in feature_dict.items() if 'Product' in key], axis = 1)\n",
    "\n",
    "product_dict = {}\n",
    "\n",
    "# count the number of 0 and 1 for each product\n",
    "# save results in a dict \n",
    "for (k,v) in df_product.items():\n",
    "  product_dict[f'{k}'] = df_product[f'{k}'].value_counts()\n",
    "\n",
    "# convert dict to dataframe\n",
    "df_product_count = pd.DataFrame.from_dict(data = product_dict)\n",
    "\n",
    "df_product_count"
   ]
  },
  {
   "cell_type": "markdown",
   "metadata": {
    "id": "IyGSz5BpRsDH"
   },
   "source": [
    "## Product Distribution"
   ]
  },
  {
   "cell_type": "code",
   "execution_count": null,
   "metadata": {
    "colab": {
     "base_uri": "https://localhost:8080/"
    },
    "id": "_0WGN0aO7nV8",
    "outputId": "b5b228ac-e479-4d0e-f108-4a7b08255ff1"
   },
   "outputs": [
    {
     "data": {
      "image/png": "[encoded data removed]",
      "text/plain": [
       "<Figure size 1440x1800 with 6 Axes>"
      ]
     },
     "metadata": {
      "needs_background": "light",
      "tags": []
     },
     "output_type": "display_data"
    }
   ],
   "source": [
    "# 3 x 2 subplots\n",
    "fig, ax = plt.subplots(3, 2, figsize = (20,25))\n",
    "\n",
    "total = df_product_count.sum()[0]\n",
    "i = 1\n",
    "\n",
    "axis_label_size = 15\n",
    "title_size = 25\n",
    "\n",
    "for axis in ax.flat:\n",
    "\n",
    "  # make countplots for each product and place plot on the subplot axis created \n",
    "  plot = sns.countplot(data = feature_dict[f'Product{i}'], x = f'Product{i}', ax = axis)\n",
    "  plot.set_title(f'Product{i} Count', fontsize = title_size)\n",
    "  plot.set_xlabel('Customer owning product or not', fontsize = axis_label_size)\n",
    "  plot.set_ylabel('Count', fontsize = axis_label_size)\n",
    "\n",
    "  for n in plot.patches:                    # get plot info\n",
    "    height = n.get_height()\n",
    "    plot.text(\n",
    "        n.get_x() + n.get_width() / 2,            # location of text\n",
    "        height + 3,\n",
    "        '{:.2f}%'.format(height / total * 100),   # proportion of total target sample size (2 sigfigs)\n",
    "        ha = 'center',                            # center alignment\n",
    "        fontsize = 20\n",
    "    )\n",
    "\n",
    "  i += 1\n",
    "\n",
    "fig.show()"
   ]
  },
  {
   "cell_type": "markdown",
   "metadata": {
    "id": "sTSUlAV7sLww"
   },
   "source": [
    "## Inspect Transaction (txn)"
   ]
  },
  {
   "cell_type": "code",
   "execution_count": null,
   "metadata": {
    "colab": {
     "base_uri": "https://localhost:8080/"
    },
    "id": "-tAMLIQYsPKI",
    "outputId": "b7e6477a-920f-4926-d64f-15e3b076e715"
   },
   "outputs": [
    {
     "data": {
      "text/html": [
       "<div>\n",
       "<style scoped>\n",
       "    .dataframe tbody tr th:only-of-type {\n",
       "        vertical-align: middle;\n",
       "    }\n",
       "\n",
       "    .dataframe tbody tr th {\n",
       "        vertical-align: top;\n",
       "    }\n",
       "\n",
       "    .dataframe thead th {\n",
       "        text-align: right;\n",
       "    }\n",
       "</style>\n",
       "<table border=\"1\" class=\"dataframe\">\n",
       "  <thead>\n",
       "    <tr style=\"text-align: right;\">\n",
       "      <th></th>\n",
       "      <th>Transaction1</th>\n",
       "      <th>Transaction2</th>\n",
       "      <th>Transaction3</th>\n",
       "      <th>Transaction4</th>\n",
       "      <th>Transaction5</th>\n",
       "      <th>Transaction6</th>\n",
       "      <th>Transaction7</th>\n",
       "      <th>Transaction8</th>\n",
       "      <th>Transaction9</th>\n",
       "    </tr>\n",
       "  </thead>\n",
       "  <tbody>\n",
       "    <tr>\n",
       "      <th>0</th>\n",
       "      <td>0.00</td>\n",
       "      <td>0.00</td>\n",
       "      <td>0.0</td>\n",
       "      <td>0.0</td>\n",
       "      <td>0.00</td>\n",
       "      <td>0.00</td>\n",
       "      <td>0.0</td>\n",
       "      <td>0.0</td>\n",
       "      <td>0.0</td>\n",
       "    </tr>\n",
       "    <tr>\n",
       "      <th>1</th>\n",
       "      <td>0.00</td>\n",
       "      <td>0.00</td>\n",
       "      <td>0.0</td>\n",
       "      <td>8525.0</td>\n",
       "      <td>0.00</td>\n",
       "      <td>0.00</td>\n",
       "      <td>0.0</td>\n",
       "      <td>0.0</td>\n",
       "      <td>0.0</td>\n",
       "    </tr>\n",
       "    <tr>\n",
       "      <th>2</th>\n",
       "      <td>13422.35</td>\n",
       "      <td>800.00</td>\n",
       "      <td>0.0</td>\n",
       "      <td>0.0</td>\n",
       "      <td>0.00</td>\n",
       "      <td>13123.28</td>\n",
       "      <td>0.0</td>\n",
       "      <td>0.0</td>\n",
       "      <td>0.0</td>\n",
       "    </tr>\n",
       "    <tr>\n",
       "      <th>3</th>\n",
       "      <td>0.00</td>\n",
       "      <td>0.00</td>\n",
       "      <td>0.0</td>\n",
       "      <td>1000.0</td>\n",
       "      <td>23900.00</td>\n",
       "      <td>0.00</td>\n",
       "      <td>0.0</td>\n",
       "      <td>0.0</td>\n",
       "      <td>0.0</td>\n",
       "    </tr>\n",
       "    <tr>\n",
       "      <th>4</th>\n",
       "      <td>0.00</td>\n",
       "      <td>0.00</td>\n",
       "      <td>0.0</td>\n",
       "      <td>0.0</td>\n",
       "      <td>2000.00</td>\n",
       "      <td>27629.11</td>\n",
       "      <td>0.0</td>\n",
       "      <td>0.0</td>\n",
       "      <td>0.0</td>\n",
       "    </tr>\n",
       "    <tr>\n",
       "      <th>...</th>\n",
       "      <td>...</td>\n",
       "      <td>...</td>\n",
       "      <td>...</td>\n",
       "      <td>...</td>\n",
       "      <td>...</td>\n",
       "      <td>...</td>\n",
       "      <td>...</td>\n",
       "      <td>...</td>\n",
       "      <td>...</td>\n",
       "    </tr>\n",
       "    <tr>\n",
       "      <th>63994</th>\n",
       "      <td>0.00</td>\n",
       "      <td>747.18</td>\n",
       "      <td>0.0</td>\n",
       "      <td>0.0</td>\n",
       "      <td>11496.44</td>\n",
       "      <td>22242.00</td>\n",
       "      <td>0.0</td>\n",
       "      <td>0.0</td>\n",
       "      <td>0.0</td>\n",
       "    </tr>\n",
       "    <tr>\n",
       "      <th>63995</th>\n",
       "      <td>0.00</td>\n",
       "      <td>0.00</td>\n",
       "      <td>0.0</td>\n",
       "      <td>300.0</td>\n",
       "      <td>0.00</td>\n",
       "      <td>0.00</td>\n",
       "      <td>0.0</td>\n",
       "      <td>0.0</td>\n",
       "      <td>0.0</td>\n",
       "    </tr>\n",
       "    <tr>\n",
       "      <th>63996</th>\n",
       "      <td>0.00</td>\n",
       "      <td>0.00</td>\n",
       "      <td>0.0</td>\n",
       "      <td>0.0</td>\n",
       "      <td>0.00</td>\n",
       "      <td>0.00</td>\n",
       "      <td>0.0</td>\n",
       "      <td>0.0</td>\n",
       "      <td>0.0</td>\n",
       "    </tr>\n",
       "    <tr>\n",
       "      <th>63997</th>\n",
       "      <td>0.00</td>\n",
       "      <td>0.00</td>\n",
       "      <td>0.0</td>\n",
       "      <td>14300.0</td>\n",
       "      <td>0.00</td>\n",
       "      <td>0.00</td>\n",
       "      <td>0.0</td>\n",
       "      <td>0.0</td>\n",
       "      <td>0.0</td>\n",
       "    </tr>\n",
       "    <tr>\n",
       "      <th>63998</th>\n",
       "      <td>0.00</td>\n",
       "      <td>0.00</td>\n",
       "      <td>0.0</td>\n",
       "      <td>0.0</td>\n",
       "      <td>0.00</td>\n",
       "      <td>0.00</td>\n",
       "      <td>0.0</td>\n",
       "      <td>0.0</td>\n",
       "      <td>0.0</td>\n",
       "    </tr>\n",
       "  </tbody>\n",
       "</table>\n",
       "<p>63999 rows × 9 columns</p>\n",
       "</div>"
      ],
      "text/plain": [
       "       Transaction1  Transaction2  ...  Transaction8  Transaction9\n",
       "0              0.00          0.00  ...           0.0           0.0\n",
       "1              0.00          0.00  ...           0.0           0.0\n",
       "2          13422.35        800.00  ...           0.0           0.0\n",
       "3              0.00          0.00  ...           0.0           0.0\n",
       "4              0.00          0.00  ...           0.0           0.0\n",
       "...             ...           ...  ...           ...           ...\n",
       "63994          0.00        747.18  ...           0.0           0.0\n",
       "63995          0.00          0.00  ...           0.0           0.0\n",
       "63996          0.00          0.00  ...           0.0           0.0\n",
       "63997          0.00          0.00  ...           0.0           0.0\n",
       "63998          0.00          0.00  ...           0.0           0.0\n",
       "\n",
       "[63999 rows x 9 columns]"
      ]
     },
     "execution_count": 22,
     "metadata": {
      "tags": []
     },
     "output_type": "execute_result"
    }
   ],
   "source": [
    "# need to include axis = 1 to avoid autofill of NaN for indices that do not align\n",
    "df_txn = pd.concat([value for (key, value) in feature_dict.items() if 'Transaction' in key], axis = 1)\n",
    "df_txn"
   ]
  },
  {
   "cell_type": "markdown",
   "metadata": {
    "id": "_aOcqn5RKLg3"
   },
   "source": [
    "# Categorical Feature Assessment "
   ]
  },
  {
   "cell_type": "code",
   "execution_count": null,
   "metadata": {
    "id": "TV8B7LXXQPX-"
   },
   "outputs": [],
   "source": [
    "from scipy.stats import chi2_contingency"
   ]
  },
  {
   "cell_type": "code",
   "execution_count": null,
   "metadata": {
    "colab": {
     "base_uri": "https://localhost:8080/",
     "height": 162
    },
    "id": "wEaQjdPEKbS7",
    "outputId": "9cabaf89-6c8f-4c5e-9409-3eac2330e90f"
   },
   "outputs": [
    {
     "data": {
      "text/html": [
       "<div>\n",
       "<style scoped>\n",
       "    .dataframe tbody tr th:only-of-type {\n",
       "        vertical-align: middle;\n",
       "    }\n",
       "\n",
       "    .dataframe tbody tr th {\n",
       "        vertical-align: top;\n",
       "    }\n",
       "\n",
       "    .dataframe thead th {\n",
       "        text-align: right;\n",
       "    }\n",
       "</style>\n",
       "<table border=\"1\" class=\"dataframe\">\n",
       "  <thead>\n",
       "    <tr style=\"text-align: right;\">\n",
       "      <th></th>\n",
       "      <th>PreviousCampaignResult</th>\n",
       "      <th>Product1</th>\n",
       "      <th>Product2</th>\n",
       "      <th>Product3</th>\n",
       "      <th>Product4</th>\n",
       "      <th>Product5</th>\n",
       "      <th>Product6</th>\n",
       "      <th>ExternalAccount1</th>\n",
       "      <th>ExternalAccount2</th>\n",
       "      <th>ExternalAccount3</th>\n",
       "      <th>ExternalAccount4</th>\n",
       "      <th>ExternalAccount5</th>\n",
       "      <th>ExternalAccount6</th>\n",
       "      <th>ExternalAccount7</th>\n",
       "    </tr>\n",
       "    <tr>\n",
       "      <th>ReferenceRate</th>\n",
       "      <th></th>\n",
       "      <th></th>\n",
       "      <th></th>\n",
       "      <th></th>\n",
       "      <th></th>\n",
       "      <th></th>\n",
       "      <th></th>\n",
       "      <th></th>\n",
       "      <th></th>\n",
       "      <th></th>\n",
       "      <th></th>\n",
       "      <th></th>\n",
       "      <th></th>\n",
       "      <th></th>\n",
       "    </tr>\n",
       "  </thead>\n",
       "  <tbody>\n",
       "    <tr>\n",
       "      <th>1.125</th>\n",
       "      <td>20</td>\n",
       "      <td>3022</td>\n",
       "      <td>2370</td>\n",
       "      <td>26</td>\n",
       "      <td>1417</td>\n",
       "      <td>344</td>\n",
       "      <td>632</td>\n",
       "      <td>3080</td>\n",
       "      <td>4566</td>\n",
       "      <td>1304</td>\n",
       "      <td>1914</td>\n",
       "      <td>2955</td>\n",
       "      <td>1493</td>\n",
       "      <td>298</td>\n",
       "    </tr>\n",
       "    <tr>\n",
       "      <th>1.375</th>\n",
       "      <td>75</td>\n",
       "      <td>9806</td>\n",
       "      <td>7899</td>\n",
       "      <td>87</td>\n",
       "      <td>4481</td>\n",
       "      <td>1072</td>\n",
       "      <td>2048</td>\n",
       "      <td>9530</td>\n",
       "      <td>14756</td>\n",
       "      <td>3978</td>\n",
       "      <td>6008</td>\n",
       "      <td>9324</td>\n",
       "      <td>4934</td>\n",
       "      <td>938</td>\n",
       "    </tr>\n",
       "  </tbody>\n",
       "</table>\n",
       "</div>"
      ],
      "text/plain": [
       "               PreviousCampaignResult  ...  ExternalAccount7\n",
       "ReferenceRate                          ...                  \n",
       "1.125                              20  ...               298\n",
       "1.375                              75  ...               938\n",
       "\n",
       "[2 rows x 14 columns]"
      ]
     },
     "execution_count": 7,
     "metadata": {
      "tags": []
     },
     "output_type": "execute_result"
    }
   ],
   "source": [
    "df_cat1 = pd.concat([value for (key, value) in feature_dict.items() if 'PreviousCampaignResult' in key], axis=1)\n",
    "df_cat2 = pd.concat([value for (key, value) in feature_dict.items() if 'Product' in key], axis=1)\n",
    "df_cat3 = pd.concat([value for (key, value) in feature_dict.items() if 'ExternalAccount' in key], axis=1)\n",
    "df_cat4 = pd.concat([value for (key, value) in feature_dict.items() if 'ReferenceRate' in key], axis=1)\n",
    "df_cat = pd.concat([df_cat1, df_cat2, df_cat3, df_cat4], axis = 1)\n",
    "df_cat.groupby(['ReferenceRate']).sum()"
   ]
  },
  {
   "cell_type": "markdown",
   "metadata": {
    "id": "gLvfovqriUJa"
   },
   "source": [
    "### 'PreviousCampaignresult' vs. 'Product'"
   ]
  },
  {
   "cell_type": "markdown",
   "metadata": {
    "id": "wkiUlsa0Qy0t"
   },
   "source": [
    "Already I'm seeing that if option two of 'PreviousCampaignResult' is returned, then the client likely has Product 2. Additionally, based on the chi squared test Products 1, 3, 4, 5 & 6 have little evidence against the null hypothesis while the p value for Product 3 suggests a total rejection of the null hypothesis."
   ]
  },
  {
   "cell_type": "code",
   "execution_count": null,
   "metadata": {
    "colab": {
     "base_uri": "https://localhost:8080/",
     "height": 207
    },
    "id": "WE16jVmN3WD8",
    "outputId": "4bef6518-7bca-4cd1-a134-a97b5409fc06"
   },
   "outputs": [
    {
     "name": "stdout",
     "output_type": "stream",
     "text": [
      "Product1\n",
      "chi_sqrd stat 3.176 p_value 0.204\n"
     ]
    },
    {
     "data": {
      "text/html": [
       "<div>\n",
       "<style scoped>\n",
       "    .dataframe tbody tr th:only-of-type {\n",
       "        vertical-align: middle;\n",
       "    }\n",
       "\n",
       "    .dataframe tbody tr th {\n",
       "        vertical-align: top;\n",
       "    }\n",
       "\n",
       "    .dataframe thead th {\n",
       "        text-align: right;\n",
       "    }\n",
       "</style>\n",
       "<table border=\"1\" class=\"dataframe\">\n",
       "  <thead>\n",
       "    <tr style=\"text-align: right;\">\n",
       "      <th>Product1</th>\n",
       "      <th>0</th>\n",
       "      <th>1</th>\n",
       "    </tr>\n",
       "    <tr>\n",
       "      <th>PreviousCampaignResult</th>\n",
       "      <th></th>\n",
       "      <th></th>\n",
       "    </tr>\n",
       "  </thead>\n",
       "  <tbody>\n",
       "    <tr>\n",
       "      <th>0</th>\n",
       "      <td>51090</td>\n",
       "      <td>12816</td>\n",
       "    </tr>\n",
       "    <tr>\n",
       "      <th>1</th>\n",
       "      <td>79</td>\n",
       "      <td>12</td>\n",
       "    </tr>\n",
       "    <tr>\n",
       "      <th>2</th>\n",
       "      <td>2</td>\n",
       "      <td>0</td>\n",
       "    </tr>\n",
       "  </tbody>\n",
       "</table>\n",
       "</div>"
      ],
      "text/plain": [
       "Product1                    0      1\n",
       "PreviousCampaignResult              \n",
       "0                       51090  12816\n",
       "1                          79     12\n",
       "2                           2      0"
      ]
     },
     "execution_count": 8,
     "metadata": {
      "tags": []
     },
     "output_type": "execute_result"
    }
   ],
   "source": [
    "print('Product1')\n",
    "tab01 = pd.crosstab(df_cat['PreviousCampaignResult'] , df_cat['Product1'])\n",
    "\n",
    "chi2, p, dof, exp = chi2_contingency(tab01.values)\n",
    "print('chi_sqrd stat %0.3f p_value %0.3f'%(chi2, p))\n",
    "tab01"
   ]
  },
  {
   "cell_type": "code",
   "execution_count": null,
   "metadata": {
    "colab": {
     "base_uri": "https://localhost:8080/",
     "height": 207
    },
    "id": "nBbodm6O6T2Y",
    "outputId": "178a0463-5d00-4978-a850-d77f908bbad1"
   },
   "outputs": [
    {
     "name": "stdout",
     "output_type": "stream",
     "text": [
      "Product2\n",
      "chi_sqrd stat 150.487 p_value 0.000\n"
     ]
    },
    {
     "data": {
      "text/html": [
       "<div>\n",
       "<style scoped>\n",
       "    .dataframe tbody tr th:only-of-type {\n",
       "        vertical-align: middle;\n",
       "    }\n",
       "\n",
       "    .dataframe tbody tr th {\n",
       "        vertical-align: top;\n",
       "    }\n",
       "\n",
       "    .dataframe thead th {\n",
       "        text-align: right;\n",
       "    }\n",
       "</style>\n",
       "<table border=\"1\" class=\"dataframe\">\n",
       "  <thead>\n",
       "    <tr style=\"text-align: right;\">\n",
       "      <th>Product2</th>\n",
       "      <th>0</th>\n",
       "      <th>1</th>\n",
       "    </tr>\n",
       "    <tr>\n",
       "      <th>PreviousCampaignResult</th>\n",
       "      <th></th>\n",
       "      <th></th>\n",
       "    </tr>\n",
       "  </thead>\n",
       "  <tbody>\n",
       "    <tr>\n",
       "      <th>0</th>\n",
       "      <td>53695</td>\n",
       "      <td>10211</td>\n",
       "    </tr>\n",
       "    <tr>\n",
       "      <th>1</th>\n",
       "      <td>35</td>\n",
       "      <td>56</td>\n",
       "    </tr>\n",
       "    <tr>\n",
       "      <th>2</th>\n",
       "      <td>0</td>\n",
       "      <td>2</td>\n",
       "    </tr>\n",
       "  </tbody>\n",
       "</table>\n",
       "</div>"
      ],
      "text/plain": [
       "Product2                    0      1\n",
       "PreviousCampaignResult              \n",
       "0                       53695  10211\n",
       "1                          35     56\n",
       "2                           0      2"
      ]
     },
     "execution_count": 9,
     "metadata": {
      "tags": []
     },
     "output_type": "execute_result"
    }
   ],
   "source": [
    "print('Product2')\n",
    "tab02 = pd.crosstab(df_cat['PreviousCampaignResult'] , df_cat['Product2'])\n",
    "\n",
    "chi2, p, dof, exp = chi2_contingency(tab02.values)\n",
    "print('chi_sqrd stat %0.3f p_value %0.3f'%(chi2, p))\n",
    "tab02"
   ]
  },
  {
   "cell_type": "code",
   "execution_count": null,
   "metadata": {
    "colab": {
     "base_uri": "https://localhost:8080/",
     "height": 207
    },
    "id": "MNFUPp9c6Xgn",
    "outputId": "a96d5b02-8c78-40ad-9473-a7371cb8435a"
   },
   "outputs": [
    {
     "name": "stdout",
     "output_type": "stream",
     "text": [
      "Product3\n",
      "chi_sqrd stat 0.165 p_value 0.921\n"
     ]
    },
    {
     "data": {
      "text/html": [
       "<div>\n",
       "<style scoped>\n",
       "    .dataframe tbody tr th:only-of-type {\n",
       "        vertical-align: middle;\n",
       "    }\n",
       "\n",
       "    .dataframe tbody tr th {\n",
       "        vertical-align: top;\n",
       "    }\n",
       "\n",
       "    .dataframe thead th {\n",
       "        text-align: right;\n",
       "    }\n",
       "</style>\n",
       "<table border=\"1\" class=\"dataframe\">\n",
       "  <thead>\n",
       "    <tr style=\"text-align: right;\">\n",
       "      <th>Product3</th>\n",
       "      <th>0</th>\n",
       "      <th>1</th>\n",
       "    </tr>\n",
       "    <tr>\n",
       "      <th>PreviousCampaignResult</th>\n",
       "      <th></th>\n",
       "      <th></th>\n",
       "    </tr>\n",
       "  </thead>\n",
       "  <tbody>\n",
       "    <tr>\n",
       "      <th>0</th>\n",
       "      <td>63793</td>\n",
       "      <td>113</td>\n",
       "    </tr>\n",
       "    <tr>\n",
       "      <th>1</th>\n",
       "      <td>91</td>\n",
       "      <td>0</td>\n",
       "    </tr>\n",
       "    <tr>\n",
       "      <th>2</th>\n",
       "      <td>2</td>\n",
       "      <td>0</td>\n",
       "    </tr>\n",
       "  </tbody>\n",
       "</table>\n",
       "</div>"
      ],
      "text/plain": [
       "Product3                    0    1\n",
       "PreviousCampaignResult            \n",
       "0                       63793  113\n",
       "1                          91    0\n",
       "2                           2    0"
      ]
     },
     "execution_count": 10,
     "metadata": {
      "tags": []
     },
     "output_type": "execute_result"
    }
   ],
   "source": [
    "print('Product3')\n",
    "tab03 = pd.crosstab(df_cat['PreviousCampaignResult'] , df_cat['Product3'])\n",
    "\n",
    "chi2, p, dof, exp = chi2_contingency(tab03.values)\n",
    "print('chi_sqrd stat %0.3f p_value %0.3f'%(chi2, p))\n",
    "tab03"
   ]
  },
  {
   "cell_type": "code",
   "execution_count": null,
   "metadata": {
    "colab": {
     "base_uri": "https://localhost:8080/",
     "height": 207
    },
    "id": "SZdpHKkn6YOX",
    "outputId": "78499539-f50f-446a-e844-e858a682ac3d"
   },
   "outputs": [
    {
     "name": "stdout",
     "output_type": "stream",
     "text": [
      "Product4\n",
      "chi_sqrd stat 1.920 p_value 0.383\n"
     ]
    },
    {
     "data": {
      "text/html": [
       "<div>\n",
       "<style scoped>\n",
       "    .dataframe tbody tr th:only-of-type {\n",
       "        vertical-align: middle;\n",
       "    }\n",
       "\n",
       "    .dataframe tbody tr th {\n",
       "        vertical-align: top;\n",
       "    }\n",
       "\n",
       "    .dataframe thead th {\n",
       "        text-align: right;\n",
       "    }\n",
       "</style>\n",
       "<table border=\"1\" class=\"dataframe\">\n",
       "  <thead>\n",
       "    <tr style=\"text-align: right;\">\n",
       "      <th>Product4</th>\n",
       "      <th>0</th>\n",
       "      <th>1</th>\n",
       "    </tr>\n",
       "    <tr>\n",
       "      <th>PreviousCampaignResult</th>\n",
       "      <th></th>\n",
       "      <th></th>\n",
       "    </tr>\n",
       "  </thead>\n",
       "  <tbody>\n",
       "    <tr>\n",
       "      <th>0</th>\n",
       "      <td>58020</td>\n",
       "      <td>5886</td>\n",
       "    </tr>\n",
       "    <tr>\n",
       "      <th>1</th>\n",
       "      <td>79</td>\n",
       "      <td>12</td>\n",
       "    </tr>\n",
       "    <tr>\n",
       "      <th>2</th>\n",
       "      <td>2</td>\n",
       "      <td>0</td>\n",
       "    </tr>\n",
       "  </tbody>\n",
       "</table>\n",
       "</div>"
      ],
      "text/plain": [
       "Product4                    0     1\n",
       "PreviousCampaignResult             \n",
       "0                       58020  5886\n",
       "1                          79    12\n",
       "2                           2     0"
      ]
     },
     "execution_count": 11,
     "metadata": {
      "tags": []
     },
     "output_type": "execute_result"
    }
   ],
   "source": [
    "print('Product4')\n",
    "tab04 = pd.crosstab(df_cat['PreviousCampaignResult'] , df_cat['Product4'])\n",
    "\n",
    "chi2, p, dof, exp = chi2_contingency(tab04.values)\n",
    "print('chi_sqrd stat %0.3f p_value %0.3f'%(chi2, p))\n",
    "tab04"
   ]
  },
  {
   "cell_type": "code",
   "execution_count": null,
   "metadata": {
    "colab": {
     "base_uri": "https://localhost:8080/",
     "height": 207
    },
    "id": "weccULU1PleI",
    "outputId": "d5fd72f5-aca9-4cf7-a1b1-5fd6e095afe6"
   },
   "outputs": [
    {
     "name": "stdout",
     "output_type": "stream",
     "text": [
      "Product5\n",
      "chi_sqrd stat 2.052 p_value 0.358\n"
     ]
    },
    {
     "data": {
      "text/html": [
       "<div>\n",
       "<style scoped>\n",
       "    .dataframe tbody tr th:only-of-type {\n",
       "        vertical-align: middle;\n",
       "    }\n",
       "\n",
       "    .dataframe tbody tr th {\n",
       "        vertical-align: top;\n",
       "    }\n",
       "\n",
       "    .dataframe thead th {\n",
       "        text-align: right;\n",
       "    }\n",
       "</style>\n",
       "<table border=\"1\" class=\"dataframe\">\n",
       "  <thead>\n",
       "    <tr style=\"text-align: right;\">\n",
       "      <th>Product5</th>\n",
       "      <th>0</th>\n",
       "      <th>1</th>\n",
       "    </tr>\n",
       "    <tr>\n",
       "      <th>PreviousCampaignResult</th>\n",
       "      <th></th>\n",
       "      <th></th>\n",
       "    </tr>\n",
       "  </thead>\n",
       "  <tbody>\n",
       "    <tr>\n",
       "      <th>0</th>\n",
       "      <td>62494</td>\n",
       "      <td>1412</td>\n",
       "    </tr>\n",
       "    <tr>\n",
       "      <th>1</th>\n",
       "      <td>87</td>\n",
       "      <td>4</td>\n",
       "    </tr>\n",
       "    <tr>\n",
       "      <th>2</th>\n",
       "      <td>2</td>\n",
       "      <td>0</td>\n",
       "    </tr>\n",
       "  </tbody>\n",
       "</table>\n",
       "</div>"
      ],
      "text/plain": [
       "Product5                    0     1\n",
       "PreviousCampaignResult             \n",
       "0                       62494  1412\n",
       "1                          87     4\n",
       "2                           2     0"
      ]
     },
     "execution_count": 12,
     "metadata": {
      "tags": []
     },
     "output_type": "execute_result"
    }
   ],
   "source": [
    "print('Product5')\n",
    "tab05 = pd.crosstab(df_cat['PreviousCampaignResult'] , df_cat['Product5'])\n",
    "\n",
    "chi2, p, dof, exp = chi2_contingency(tab05.values)\n",
    "print('chi_sqrd stat %0.3f p_value %0.3f'%(chi2, p))\n",
    "tab05"
   ]
  },
  {
   "cell_type": "code",
   "execution_count": null,
   "metadata": {
    "colab": {
     "base_uri": "https://localhost:8080/",
     "height": 207
    },
    "id": "YgCaoE1XPmGz",
    "outputId": "eec31fc5-b5b0-4208-f2eb-6a5a3a65f172"
   },
   "outputs": [
    {
     "name": "stdout",
     "output_type": "stream",
     "text": [
      "Product6\n",
      "chi_sqrd stat 0.097 p_value 0.953\n"
     ]
    },
    {
     "data": {
      "text/html": [
       "<div>\n",
       "<style scoped>\n",
       "    .dataframe tbody tr th:only-of-type {\n",
       "        vertical-align: middle;\n",
       "    }\n",
       "\n",
       "    .dataframe tbody tr th {\n",
       "        vertical-align: top;\n",
       "    }\n",
       "\n",
       "    .dataframe thead th {\n",
       "        text-align: right;\n",
       "    }\n",
       "</style>\n",
       "<table border=\"1\" class=\"dataframe\">\n",
       "  <thead>\n",
       "    <tr style=\"text-align: right;\">\n",
       "      <th>Product6</th>\n",
       "      <th>0</th>\n",
       "      <th>1</th>\n",
       "    </tr>\n",
       "    <tr>\n",
       "      <th>PreviousCampaignResult</th>\n",
       "      <th></th>\n",
       "      <th></th>\n",
       "    </tr>\n",
       "  </thead>\n",
       "  <tbody>\n",
       "    <tr>\n",
       "      <th>0</th>\n",
       "      <td>61230</td>\n",
       "      <td>2676</td>\n",
       "    </tr>\n",
       "    <tr>\n",
       "      <th>1</th>\n",
       "      <td>87</td>\n",
       "      <td>4</td>\n",
       "    </tr>\n",
       "    <tr>\n",
       "      <th>2</th>\n",
       "      <td>2</td>\n",
       "      <td>0</td>\n",
       "    </tr>\n",
       "  </tbody>\n",
       "</table>\n",
       "</div>"
      ],
      "text/plain": [
       "Product6                    0     1\n",
       "PreviousCampaignResult             \n",
       "0                       61230  2676\n",
       "1                          87     4\n",
       "2                           2     0"
      ]
     },
     "execution_count": 13,
     "metadata": {
      "tags": []
     },
     "output_type": "execute_result"
    }
   ],
   "source": [
    "print('Product6')\n",
    "tab06 = pd.crosstab(df_cat['PreviousCampaignResult'] , df_cat['Product6'])\n",
    "\n",
    "chi2, p, dof, exp = chi2_contingency(tab06.values)\n",
    "print('chi_sqrd stat %0.3f p_value %0.3f'%(chi2, p))\n",
    "tab06"
   ]
  },
  {
   "cell_type": "markdown",
   "metadata": {
    "id": "mZl5i8Jeihkf"
   },
   "source": [
    "### 'PreviousCampaignResult' vs. 'ExternalAccount'"
   ]
  },
  {
   "cell_type": "markdown",
   "metadata": {
    "id": "SfE2AYnFR6NL"
   },
   "source": [
    "Next I would like to take a closer look at 'PreviousCampaignResult' as it relates to 'ExternalAccount'. Based on the chi squared test Products 1, 3, 4, 6 & 7 have little evidence against the null hypothesis while the p value for External Accounts 2 & 5 suggests a total rejection of the null hypothesis."
   ]
  },
  {
   "cell_type": "code",
   "execution_count": null,
   "metadata": {
    "colab": {
     "base_uri": "https://localhost:8080/",
     "height": 190
    },
    "id": "fkkVjv6rSRgG",
    "outputId": "b234c6b4-3c9d-49dd-90cd-7a5f062535e8"
   },
   "outputs": [
    {
     "name": "stdout",
     "output_type": "stream",
     "text": [
      "chi_sqrd stat 1.816 p_value 0.403\n"
     ]
    },
    {
     "data": {
      "text/html": [
       "<div>\n",
       "<style scoped>\n",
       "    .dataframe tbody tr th:only-of-type {\n",
       "        vertical-align: middle;\n",
       "    }\n",
       "\n",
       "    .dataframe tbody tr th {\n",
       "        vertical-align: top;\n",
       "    }\n",
       "\n",
       "    .dataframe thead th {\n",
       "        text-align: right;\n",
       "    }\n",
       "</style>\n",
       "<table border=\"1\" class=\"dataframe\">\n",
       "  <thead>\n",
       "    <tr style=\"text-align: right;\">\n",
       "      <th>ExternalAccount1</th>\n",
       "      <th>0</th>\n",
       "      <th>1</th>\n",
       "    </tr>\n",
       "    <tr>\n",
       "      <th>PreviousCampaignResult</th>\n",
       "      <th></th>\n",
       "      <th></th>\n",
       "    </tr>\n",
       "  </thead>\n",
       "  <tbody>\n",
       "    <tr>\n",
       "      <th>0</th>\n",
       "      <td>51318</td>\n",
       "      <td>12588</td>\n",
       "    </tr>\n",
       "    <tr>\n",
       "      <th>1</th>\n",
       "      <td>70</td>\n",
       "      <td>21</td>\n",
       "    </tr>\n",
       "    <tr>\n",
       "      <th>2</th>\n",
       "      <td>1</td>\n",
       "      <td>1</td>\n",
       "    </tr>\n",
       "  </tbody>\n",
       "</table>\n",
       "</div>"
      ],
      "text/plain": [
       "ExternalAccount1            0      1\n",
       "PreviousCampaignResult              \n",
       "0                       51318  12588\n",
       "1                          70     21\n",
       "2                           1      1"
      ]
     },
     "execution_count": 14,
     "metadata": {
      "tags": []
     },
     "output_type": "execute_result"
    }
   ],
   "source": [
    "tab11 = pd.crosstab(df_cat['PreviousCampaignResult'] , df_cat['ExternalAccount1'])\n",
    "\n",
    "chi2, p, dof, exp = chi2_contingency(tab11.values)\n",
    "print('chi_sqrd stat %0.3f p_value %0.3f'%(chi2, p))\n",
    "tab11"
   ]
  },
  {
   "cell_type": "code",
   "execution_count": null,
   "metadata": {
    "colab": {
     "base_uri": "https://localhost:8080/",
     "height": 190
    },
    "id": "2rHdXrU0SSin",
    "outputId": "b9a796d7-d442-47f3-edc1-d08cba958446"
   },
   "outputs": [
    {
     "name": "stdout",
     "output_type": "stream",
     "text": [
      "chi_sqrd stat 11.564 p_value 0.003\n"
     ]
    },
    {
     "data": {
      "text/html": [
       "<div>\n",
       "<style scoped>\n",
       "    .dataframe tbody tr th:only-of-type {\n",
       "        vertical-align: middle;\n",
       "    }\n",
       "\n",
       "    .dataframe tbody tr th {\n",
       "        vertical-align: top;\n",
       "    }\n",
       "\n",
       "    .dataframe thead th {\n",
       "        text-align: right;\n",
       "    }\n",
       "</style>\n",
       "<table border=\"1\" class=\"dataframe\">\n",
       "  <thead>\n",
       "    <tr style=\"text-align: right;\">\n",
       "      <th>ExternalAccount2</th>\n",
       "      <th>0</th>\n",
       "      <th>1</th>\n",
       "    </tr>\n",
       "    <tr>\n",
       "      <th>PreviousCampaignResult</th>\n",
       "      <th></th>\n",
       "      <th></th>\n",
       "    </tr>\n",
       "  </thead>\n",
       "  <tbody>\n",
       "    <tr>\n",
       "      <th>0</th>\n",
       "      <td>44625</td>\n",
       "      <td>19281</td>\n",
       "    </tr>\n",
       "    <tr>\n",
       "      <th>1</th>\n",
       "      <td>52</td>\n",
       "      <td>39</td>\n",
       "    </tr>\n",
       "    <tr>\n",
       "      <th>2</th>\n",
       "      <td>0</td>\n",
       "      <td>2</td>\n",
       "    </tr>\n",
       "  </tbody>\n",
       "</table>\n",
       "</div>"
      ],
      "text/plain": [
       "ExternalAccount2            0      1\n",
       "PreviousCampaignResult              \n",
       "0                       44625  19281\n",
       "1                          52     39\n",
       "2                           0      2"
      ]
     },
     "execution_count": 15,
     "metadata": {
      "tags": []
     },
     "output_type": "execute_result"
    }
   ],
   "source": [
    "tab12 = pd.crosstab(df_cat['PreviousCampaignResult'] , df_cat['ExternalAccount2'])\n",
    "\n",
    "chi2, p, dof, exp = chi2_contingency(tab12.values)\n",
    "print('chi_sqrd stat %0.3f p_value %0.3f'%(chi2, p))\n",
    "tab12"
   ]
  },
  {
   "cell_type": "code",
   "execution_count": null,
   "metadata": {
    "colab": {
     "base_uri": "https://localhost:8080/",
     "height": 190
    },
    "id": "QbDerQ70SS67",
    "outputId": "000e2761-c233-4e70-938a-1cba206727e5"
   },
   "outputs": [
    {
     "name": "stdout",
     "output_type": "stream",
     "text": [
      "chi_sqrd stat 0.215 p_value 0.898\n"
     ]
    },
    {
     "data": {
      "text/html": [
       "<div>\n",
       "<style scoped>\n",
       "    .dataframe tbody tr th:only-of-type {\n",
       "        vertical-align: middle;\n",
       "    }\n",
       "\n",
       "    .dataframe tbody tr th {\n",
       "        vertical-align: top;\n",
       "    }\n",
       "\n",
       "    .dataframe thead th {\n",
       "        text-align: right;\n",
       "    }\n",
       "</style>\n",
       "<table border=\"1\" class=\"dataframe\">\n",
       "  <thead>\n",
       "    <tr style=\"text-align: right;\">\n",
       "      <th>ExternalAccount3</th>\n",
       "      <th>0</th>\n",
       "      <th>1</th>\n",
       "    </tr>\n",
       "    <tr>\n",
       "      <th>PreviousCampaignResult</th>\n",
       "      <th></th>\n",
       "      <th></th>\n",
       "    </tr>\n",
       "  </thead>\n",
       "  <tbody>\n",
       "    <tr>\n",
       "      <th>0</th>\n",
       "      <td>58632</td>\n",
       "      <td>5274</td>\n",
       "    </tr>\n",
       "    <tr>\n",
       "      <th>1</th>\n",
       "      <td>83</td>\n",
       "      <td>8</td>\n",
       "    </tr>\n",
       "    <tr>\n",
       "      <th>2</th>\n",
       "      <td>2</td>\n",
       "      <td>0</td>\n",
       "    </tr>\n",
       "  </tbody>\n",
       "</table>\n",
       "</div>"
      ],
      "text/plain": [
       "ExternalAccount3            0     1\n",
       "PreviousCampaignResult             \n",
       "0                       58632  5274\n",
       "1                          83     8\n",
       "2                           2     0"
      ]
     },
     "execution_count": 16,
     "metadata": {
      "tags": []
     },
     "output_type": "execute_result"
    }
   ],
   "source": [
    "tab13 = pd.crosstab(df_cat['PreviousCampaignResult'] , df_cat['ExternalAccount3'])\n",
    "\n",
    "chi2, p, dof, exp = chi2_contingency(tab13.values)\n",
    "print('chi_sqrd stat %0.3f p_value %0.3f'%(chi2, p))\n",
    "tab13"
   ]
  },
  {
   "cell_type": "code",
   "execution_count": null,
   "metadata": {
    "colab": {
     "base_uri": "https://localhost:8080/",
     "height": 190
    },
    "id": "rS2EttHnSTSP",
    "outputId": "b41ac897-3209-4e47-94e1-e676ad2dfe2c"
   },
   "outputs": [
    {
     "name": "stdout",
     "output_type": "stream",
     "text": [
      "chi_sqrd stat 0.445 p_value 0.801\n"
     ]
    },
    {
     "data": {
      "text/html": [
       "<div>\n",
       "<style scoped>\n",
       "    .dataframe tbody tr th:only-of-type {\n",
       "        vertical-align: middle;\n",
       "    }\n",
       "\n",
       "    .dataframe tbody tr th {\n",
       "        vertical-align: top;\n",
       "    }\n",
       "\n",
       "    .dataframe thead th {\n",
       "        text-align: right;\n",
       "    }\n",
       "</style>\n",
       "<table border=\"1\" class=\"dataframe\">\n",
       "  <thead>\n",
       "    <tr style=\"text-align: right;\">\n",
       "      <th>ExternalAccount4</th>\n",
       "      <th>0</th>\n",
       "      <th>1</th>\n",
       "    </tr>\n",
       "    <tr>\n",
       "      <th>PreviousCampaignResult</th>\n",
       "      <th></th>\n",
       "      <th></th>\n",
       "    </tr>\n",
       "  </thead>\n",
       "  <tbody>\n",
       "    <tr>\n",
       "      <th>0</th>\n",
       "      <td>55994</td>\n",
       "      <td>7912</td>\n",
       "    </tr>\n",
       "    <tr>\n",
       "      <th>1</th>\n",
       "      <td>81</td>\n",
       "      <td>10</td>\n",
       "    </tr>\n",
       "    <tr>\n",
       "      <th>2</th>\n",
       "      <td>2</td>\n",
       "      <td>0</td>\n",
       "    </tr>\n",
       "  </tbody>\n",
       "</table>\n",
       "</div>"
      ],
      "text/plain": [
       "ExternalAccount4            0     1\n",
       "PreviousCampaignResult             \n",
       "0                       55994  7912\n",
       "1                          81    10\n",
       "2                           2     0"
      ]
     },
     "execution_count": 17,
     "metadata": {
      "tags": []
     },
     "output_type": "execute_result"
    }
   ],
   "source": [
    "tab14 = pd.crosstab(df_cat['PreviousCampaignResult'] , df_cat['ExternalAccount4'])\n",
    "\n",
    "chi2, p, dof, exp = chi2_contingency(tab14.values)\n",
    "print('chi_sqrd stat %0.3f p_value %0.3f'%(chi2, p))\n",
    "tab14"
   ]
  },
  {
   "cell_type": "code",
   "execution_count": null,
   "metadata": {
    "colab": {
     "base_uri": "https://localhost:8080/",
     "height": 190
    },
    "id": "faHl7ISUSUME",
    "outputId": "5a849c18-7d75-4cc6-f931-14ff031c372d"
   },
   "outputs": [
    {
     "name": "stdout",
     "output_type": "stream",
     "text": [
      "chi_sqrd stat 22.310 p_value 0.000\n"
     ]
    },
    {
     "data": {
      "text/html": [
       "<div>\n",
       "<style scoped>\n",
       "    .dataframe tbody tr th:only-of-type {\n",
       "        vertical-align: middle;\n",
       "    }\n",
       "\n",
       "    .dataframe tbody tr th {\n",
       "        vertical-align: top;\n",
       "    }\n",
       "\n",
       "    .dataframe thead th {\n",
       "        text-align: right;\n",
       "    }\n",
       "</style>\n",
       "<table border=\"1\" class=\"dataframe\">\n",
       "  <thead>\n",
       "    <tr style=\"text-align: right;\">\n",
       "      <th>ExternalAccount5</th>\n",
       "      <th>0</th>\n",
       "      <th>1</th>\n",
       "    </tr>\n",
       "    <tr>\n",
       "      <th>PreviousCampaignResult</th>\n",
       "      <th></th>\n",
       "      <th></th>\n",
       "    </tr>\n",
       "  </thead>\n",
       "  <tbody>\n",
       "    <tr>\n",
       "      <th>0</th>\n",
       "      <td>51662</td>\n",
       "      <td>12244</td>\n",
       "    </tr>\n",
       "    <tr>\n",
       "      <th>1</th>\n",
       "      <td>56</td>\n",
       "      <td>35</td>\n",
       "    </tr>\n",
       "    <tr>\n",
       "      <th>2</th>\n",
       "      <td>2</td>\n",
       "      <td>0</td>\n",
       "    </tr>\n",
       "  </tbody>\n",
       "</table>\n",
       "</div>"
      ],
      "text/plain": [
       "ExternalAccount5            0      1\n",
       "PreviousCampaignResult              \n",
       "0                       51662  12244\n",
       "1                          56     35\n",
       "2                           2      0"
      ]
     },
     "execution_count": 18,
     "metadata": {
      "tags": []
     },
     "output_type": "execute_result"
    }
   ],
   "source": [
    "tab15 = pd.crosstab(df_cat['PreviousCampaignResult'] , df_cat['ExternalAccount5'])\n",
    "\n",
    "chi2, p, dof, exp = chi2_contingency(tab15.values)\n",
    "print('chi_sqrd stat %0.3f p_value %0.3f'%(chi2, p))\n",
    "tab15"
   ]
  },
  {
   "cell_type": "code",
   "execution_count": null,
   "metadata": {
    "colab": {
     "base_uri": "https://localhost:8080/",
     "height": 190
    },
    "id": "J7Vxs4ajSUlr",
    "outputId": "4de76c4b-d977-481e-de3a-9b5eeae3b8ad"
   },
   "outputs": [
    {
     "name": "stdout",
     "output_type": "stream",
     "text": [
      "chi_sqrd stat 3.440 p_value 0.179\n"
     ]
    },
    {
     "data": {
      "text/html": [
       "<div>\n",
       "<style scoped>\n",
       "    .dataframe tbody tr th:only-of-type {\n",
       "        vertical-align: middle;\n",
       "    }\n",
       "\n",
       "    .dataframe tbody tr th {\n",
       "        vertical-align: top;\n",
       "    }\n",
       "\n",
       "    .dataframe thead th {\n",
       "        text-align: right;\n",
       "    }\n",
       "</style>\n",
       "<table border=\"1\" class=\"dataframe\">\n",
       "  <thead>\n",
       "    <tr style=\"text-align: right;\">\n",
       "      <th>ExternalAccount6</th>\n",
       "      <th>0</th>\n",
       "      <th>1</th>\n",
       "    </tr>\n",
       "    <tr>\n",
       "      <th>PreviousCampaignResult</th>\n",
       "      <th></th>\n",
       "      <th></th>\n",
       "    </tr>\n",
       "  </thead>\n",
       "  <tbody>\n",
       "    <tr>\n",
       "      <th>0</th>\n",
       "      <td>57483</td>\n",
       "      <td>6423</td>\n",
       "    </tr>\n",
       "    <tr>\n",
       "      <th>1</th>\n",
       "      <td>87</td>\n",
       "      <td>4</td>\n",
       "    </tr>\n",
       "    <tr>\n",
       "      <th>2</th>\n",
       "      <td>2</td>\n",
       "      <td>0</td>\n",
       "    </tr>\n",
       "  </tbody>\n",
       "</table>\n",
       "</div>"
      ],
      "text/plain": [
       "ExternalAccount6            0     1\n",
       "PreviousCampaignResult             \n",
       "0                       57483  6423\n",
       "1                          87     4\n",
       "2                           2     0"
      ]
     },
     "execution_count": 19,
     "metadata": {
      "tags": []
     },
     "output_type": "execute_result"
    }
   ],
   "source": [
    "tab16 = pd.crosstab(df_cat['PreviousCampaignResult'] , df_cat['ExternalAccount6'])\n",
    "\n",
    "chi2, p, dof, exp = chi2_contingency(tab16.values)\n",
    "print('chi_sqrd stat %0.3f p_value %0.3f'%(chi2, p))\n",
    "tab16"
   ]
  },
  {
   "cell_type": "code",
   "execution_count": null,
   "metadata": {
    "colab": {
     "base_uri": "https://localhost:8080/",
     "height": 190
    },
    "id": "0IuwO1VdSVbm",
    "outputId": "cc268a44-8244-4077-dd0e-5433fff127f3"
   },
   "outputs": [
    {
     "name": "stdout",
     "output_type": "stream",
     "text": [
      "chi_sqrd stat 0.074 p_value 0.964\n"
     ]
    },
    {
     "data": {
      "text/html": [
       "<div>\n",
       "<style scoped>\n",
       "    .dataframe tbody tr th:only-of-type {\n",
       "        vertical-align: middle;\n",
       "    }\n",
       "\n",
       "    .dataframe tbody tr th {\n",
       "        vertical-align: top;\n",
       "    }\n",
       "\n",
       "    .dataframe thead th {\n",
       "        text-align: right;\n",
       "    }\n",
       "</style>\n",
       "<table border=\"1\" class=\"dataframe\">\n",
       "  <thead>\n",
       "    <tr style=\"text-align: right;\">\n",
       "      <th>ExternalAccount7</th>\n",
       "      <th>0</th>\n",
       "      <th>1</th>\n",
       "    </tr>\n",
       "    <tr>\n",
       "      <th>PreviousCampaignResult</th>\n",
       "      <th></th>\n",
       "      <th></th>\n",
       "    </tr>\n",
       "  </thead>\n",
       "  <tbody>\n",
       "    <tr>\n",
       "      <th>0</th>\n",
       "      <td>62672</td>\n",
       "      <td>1234</td>\n",
       "    </tr>\n",
       "    <tr>\n",
       "      <th>1</th>\n",
       "      <td>89</td>\n",
       "      <td>2</td>\n",
       "    </tr>\n",
       "    <tr>\n",
       "      <th>2</th>\n",
       "      <td>2</td>\n",
       "      <td>0</td>\n",
       "    </tr>\n",
       "  </tbody>\n",
       "</table>\n",
       "</div>"
      ],
      "text/plain": [
       "ExternalAccount7            0     1\n",
       "PreviousCampaignResult             \n",
       "0                       62672  1234\n",
       "1                          89     2\n",
       "2                           2     0"
      ]
     },
     "execution_count": 20,
     "metadata": {
      "tags": []
     },
     "output_type": "execute_result"
    }
   ],
   "source": [
    "tab17 = pd.crosstab(df_cat['PreviousCampaignResult'] , df_cat['ExternalAccount7'])\n",
    "\n",
    "chi2, p, dof, exp = chi2_contingency(tab17.values)\n",
    "print('chi_sqrd stat %0.3f p_value %0.3f'%(chi2, p))\n",
    "tab17"
   ]
  },
  {
   "cell_type": "markdown",
   "metadata": {
    "id": "xQzmayc1iw5m"
   },
   "source": [
    "### 'RefrenceRate' vs. 'Product' "
   ]
  },
  {
   "cell_type": "markdown",
   "metadata": {
    "id": "K4gBlIancZjf"
   },
   "source": [
    "'RefrenceRate' vs. 'Product' begets a similar pattern and we can reject the null hypothesis for Product 2 alone while 1, 3, 4, 5 & 6 have insufficient evidence against it"
   ]
  },
  {
   "cell_type": "code",
   "execution_count": null,
   "metadata": {
    "colab": {
     "base_uri": "https://localhost:8080/",
     "height": 176
    },
    "id": "ycqj_upIce-G",
    "outputId": "be09c73e-034a-4e6d-e4af-8ff5ed19de6a"
   },
   "outputs": [
    {
     "name": "stdout",
     "output_type": "stream",
     "text": [
      "Product1\n",
      "chi_sqrd stat 1.068 p_value 0.301\n"
     ]
    },
    {
     "data": {
      "text/html": [
       "<div>\n",
       "<style scoped>\n",
       "    .dataframe tbody tr th:only-of-type {\n",
       "        vertical-align: middle;\n",
       "    }\n",
       "\n",
       "    .dataframe tbody tr th {\n",
       "        vertical-align: top;\n",
       "    }\n",
       "\n",
       "    .dataframe thead th {\n",
       "        text-align: right;\n",
       "    }\n",
       "</style>\n",
       "<table border=\"1\" class=\"dataframe\">\n",
       "  <thead>\n",
       "    <tr style=\"text-align: right;\">\n",
       "      <th>Product1</th>\n",
       "      <th>0</th>\n",
       "      <th>1</th>\n",
       "    </tr>\n",
       "    <tr>\n",
       "      <th>ReferenceRate</th>\n",
       "      <th></th>\n",
       "      <th></th>\n",
       "    </tr>\n",
       "  </thead>\n",
       "  <tbody>\n",
       "    <tr>\n",
       "      <th>1.125</th>\n",
       "      <td>12280</td>\n",
       "      <td>3022</td>\n",
       "    </tr>\n",
       "    <tr>\n",
       "      <th>1.375</th>\n",
       "      <td>38891</td>\n",
       "      <td>9806</td>\n",
       "    </tr>\n",
       "  </tbody>\n",
       "</table>\n",
       "</div>"
      ],
      "text/plain": [
       "Product1           0     1\n",
       "ReferenceRate             \n",
       "1.125          12280  3022\n",
       "1.375          38891  9806"
      ]
     },
     "execution_count": 21,
     "metadata": {
      "tags": []
     },
     "output_type": "execute_result"
    }
   ],
   "source": [
    "print('Product1')\n",
    "tab21 = pd.crosstab(df_cat['ReferenceRate'] , df_cat['Product1'])\n",
    "\n",
    "chi2, p, dof, exp = chi2_contingency(tab21.values)\n",
    "print('chi_sqrd stat %0.3f p_value %0.3f'%(chi2, p))\n",
    "tab21"
   ]
  },
  {
   "cell_type": "code",
   "execution_count": null,
   "metadata": {
    "colab": {
     "base_uri": "https://localhost:8080/",
     "height": 176
    },
    "id": "JISWl5EUce28",
    "outputId": "6c05b9ad-390c-4e82-c4a3-324027602521"
   },
   "outputs": [
    {
     "name": "stdout",
     "output_type": "stream",
     "text": [
      "Product2\n",
      "chi_sqrd stat 4.584 p_value 0.032\n"
     ]
    },
    {
     "data": {
      "text/html": [
       "<div>\n",
       "<style scoped>\n",
       "    .dataframe tbody tr th:only-of-type {\n",
       "        vertical-align: middle;\n",
       "    }\n",
       "\n",
       "    .dataframe tbody tr th {\n",
       "        vertical-align: top;\n",
       "    }\n",
       "\n",
       "    .dataframe thead th {\n",
       "        text-align: right;\n",
       "    }\n",
       "</style>\n",
       "<table border=\"1\" class=\"dataframe\">\n",
       "  <thead>\n",
       "    <tr style=\"text-align: right;\">\n",
       "      <th>Product2</th>\n",
       "      <th>0</th>\n",
       "      <th>1</th>\n",
       "    </tr>\n",
       "    <tr>\n",
       "      <th>ReferenceRate</th>\n",
       "      <th></th>\n",
       "      <th></th>\n",
       "    </tr>\n",
       "  </thead>\n",
       "  <tbody>\n",
       "    <tr>\n",
       "      <th>1.125</th>\n",
       "      <td>12932</td>\n",
       "      <td>2370</td>\n",
       "    </tr>\n",
       "    <tr>\n",
       "      <th>1.375</th>\n",
       "      <td>40798</td>\n",
       "      <td>7899</td>\n",
       "    </tr>\n",
       "  </tbody>\n",
       "</table>\n",
       "</div>"
      ],
      "text/plain": [
       "Product2           0     1\n",
       "ReferenceRate             \n",
       "1.125          12932  2370\n",
       "1.375          40798  7899"
      ]
     },
     "execution_count": 22,
     "metadata": {
      "tags": []
     },
     "output_type": "execute_result"
    }
   ],
   "source": [
    "print('Product2')\n",
    "tab22 = pd.crosstab(df_cat['ReferenceRate'] , df_cat['Product2'])\n",
    "\n",
    "chi2, p, dof, exp = chi2_contingency(tab22.values)\n",
    "print('chi_sqrd stat %0.3f p_value %0.3f'%(chi2, p))\n",
    "tab22"
   ]
  },
  {
   "cell_type": "code",
   "execution_count": null,
   "metadata": {
    "colab": {
     "base_uri": "https://localhost:8080/",
     "height": 176
    },
    "id": "GhJdD8OacevM",
    "outputId": "7b7c22c3-b507-46ff-974a-dec7450811f4"
   },
   "outputs": [
    {
     "name": "stdout",
     "output_type": "stream",
     "text": [
      "Product3\n",
      "chi_sqrd stat 0.013 p_value 0.909\n"
     ]
    },
    {
     "data": {
      "text/html": [
       "<div>\n",
       "<style scoped>\n",
       "    .dataframe tbody tr th:only-of-type {\n",
       "        vertical-align: middle;\n",
       "    }\n",
       "\n",
       "    .dataframe tbody tr th {\n",
       "        vertical-align: top;\n",
       "    }\n",
       "\n",
       "    .dataframe thead th {\n",
       "        text-align: right;\n",
       "    }\n",
       "</style>\n",
       "<table border=\"1\" class=\"dataframe\">\n",
       "  <thead>\n",
       "    <tr style=\"text-align: right;\">\n",
       "      <th>Product3</th>\n",
       "      <th>0</th>\n",
       "      <th>1</th>\n",
       "    </tr>\n",
       "    <tr>\n",
       "      <th>ReferenceRate</th>\n",
       "      <th></th>\n",
       "      <th></th>\n",
       "    </tr>\n",
       "  </thead>\n",
       "  <tbody>\n",
       "    <tr>\n",
       "      <th>1.125</th>\n",
       "      <td>15276</td>\n",
       "      <td>26</td>\n",
       "    </tr>\n",
       "    <tr>\n",
       "      <th>1.375</th>\n",
       "      <td>48610</td>\n",
       "      <td>87</td>\n",
       "    </tr>\n",
       "  </tbody>\n",
       "</table>\n",
       "</div>"
      ],
      "text/plain": [
       "Product3           0   1\n",
       "ReferenceRate           \n",
       "1.125          15276  26\n",
       "1.375          48610  87"
      ]
     },
     "execution_count": 23,
     "metadata": {
      "tags": []
     },
     "output_type": "execute_result"
    }
   ],
   "source": [
    "print('Product3')\n",
    "tab23 = pd.crosstab(df_cat['ReferenceRate'] , df_cat['Product3'])\n",
    "\n",
    "chi2, p, dof, exp = chi2_contingency(tab23.values)\n",
    "print('chi_sqrd stat %0.3f p_value %0.3f'%(chi2, p))\n",
    "tab23"
   ]
  },
  {
   "cell_type": "code",
   "execution_count": null,
   "metadata": {
    "colab": {
     "base_uri": "https://localhost:8080/",
     "height": 176
    },
    "id": "GA_iAtX-cenf",
    "outputId": "d334f455-b03f-4ee4-ba6e-8ce14386f5b2"
   },
   "outputs": [
    {
     "name": "stdout",
     "output_type": "stream",
     "text": [
      "Product4\n",
      "chi_sqrd stat 0.041 p_value 0.840\n"
     ]
    },
    {
     "data": {
      "text/html": [
       "<div>\n",
       "<style scoped>\n",
       "    .dataframe tbody tr th:only-of-type {\n",
       "        vertical-align: middle;\n",
       "    }\n",
       "\n",
       "    .dataframe tbody tr th {\n",
       "        vertical-align: top;\n",
       "    }\n",
       "\n",
       "    .dataframe thead th {\n",
       "        text-align: right;\n",
       "    }\n",
       "</style>\n",
       "<table border=\"1\" class=\"dataframe\">\n",
       "  <thead>\n",
       "    <tr style=\"text-align: right;\">\n",
       "      <th>Product4</th>\n",
       "      <th>0</th>\n",
       "      <th>1</th>\n",
       "    </tr>\n",
       "    <tr>\n",
       "      <th>ReferenceRate</th>\n",
       "      <th></th>\n",
       "      <th></th>\n",
       "    </tr>\n",
       "  </thead>\n",
       "  <tbody>\n",
       "    <tr>\n",
       "      <th>1.125</th>\n",
       "      <td>13885</td>\n",
       "      <td>1417</td>\n",
       "    </tr>\n",
       "    <tr>\n",
       "      <th>1.375</th>\n",
       "      <td>44216</td>\n",
       "      <td>4481</td>\n",
       "    </tr>\n",
       "  </tbody>\n",
       "</table>\n",
       "</div>"
      ],
      "text/plain": [
       "Product4           0     1\n",
       "ReferenceRate             \n",
       "1.125          13885  1417\n",
       "1.375          44216  4481"
      ]
     },
     "execution_count": 24,
     "metadata": {
      "tags": []
     },
     "output_type": "execute_result"
    }
   ],
   "source": [
    "print('Product4')\n",
    "tab24 = pd.crosstab(df_cat['ReferenceRate'] , df_cat['Product4'])\n",
    "\n",
    "chi2, p, dof, exp = chi2_contingency(tab24.values)\n",
    "print('chi_sqrd stat %0.3f p_value %0.3f'%(chi2, p))\n",
    "tab24"
   ]
  },
  {
   "cell_type": "code",
   "execution_count": null,
   "metadata": {
    "colab": {
     "base_uri": "https://localhost:8080/",
     "height": 176
    },
    "id": "SwIHniRPceew",
    "outputId": "5ac7762e-bbe5-49a0-f988-beacb3bc46b8"
   },
   "outputs": [
    {
     "name": "stdout",
     "output_type": "stream",
     "text": [
      "Product5\n",
      "chi_sqrd stat 0.097 p_value 0.756\n"
     ]
    },
    {
     "data": {
      "text/html": [
       "<div>\n",
       "<style scoped>\n",
       "    .dataframe tbody tr th:only-of-type {\n",
       "        vertical-align: middle;\n",
       "    }\n",
       "\n",
       "    .dataframe tbody tr th {\n",
       "        vertical-align: top;\n",
       "    }\n",
       "\n",
       "    .dataframe thead th {\n",
       "        text-align: right;\n",
       "    }\n",
       "</style>\n",
       "<table border=\"1\" class=\"dataframe\">\n",
       "  <thead>\n",
       "    <tr style=\"text-align: right;\">\n",
       "      <th>Product5</th>\n",
       "      <th>0</th>\n",
       "      <th>1</th>\n",
       "    </tr>\n",
       "    <tr>\n",
       "      <th>ReferenceRate</th>\n",
       "      <th></th>\n",
       "      <th></th>\n",
       "    </tr>\n",
       "  </thead>\n",
       "  <tbody>\n",
       "    <tr>\n",
       "      <th>1.125</th>\n",
       "      <td>14958</td>\n",
       "      <td>344</td>\n",
       "    </tr>\n",
       "    <tr>\n",
       "      <th>1.375</th>\n",
       "      <td>47625</td>\n",
       "      <td>1072</td>\n",
       "    </tr>\n",
       "  </tbody>\n",
       "</table>\n",
       "</div>"
      ],
      "text/plain": [
       "Product5           0     1\n",
       "ReferenceRate             \n",
       "1.125          14958   344\n",
       "1.375          47625  1072"
      ]
     },
     "execution_count": 25,
     "metadata": {
      "tags": []
     },
     "output_type": "execute_result"
    }
   ],
   "source": [
    "print('Product5')\n",
    "tab25 = pd.crosstab(df_cat['ReferenceRate'] , df_cat['Product5'])\n",
    "\n",
    "chi2, p, dof, exp = chi2_contingency(tab25.values)\n",
    "print('chi_sqrd stat %0.3f p_value %0.3f'%(chi2, p))\n",
    "tab25"
   ]
  },
  {
   "cell_type": "code",
   "execution_count": null,
   "metadata": {
    "colab": {
     "base_uri": "https://localhost:8080/",
     "height": 176
    },
    "id": "Vu7ViRVQceH3",
    "outputId": "c77a3ffb-f5c4-46ab-a9b0-78a5d1ef9c16"
   },
   "outputs": [
    {
     "name": "stdout",
     "output_type": "stream",
     "text": [
      "Product6\n",
      "chi_sqrd stat 0.147 p_value 0.702\n"
     ]
    },
    {
     "data": {
      "text/html": [
       "<div>\n",
       "<style scoped>\n",
       "    .dataframe tbody tr th:only-of-type {\n",
       "        vertical-align: middle;\n",
       "    }\n",
       "\n",
       "    .dataframe tbody tr th {\n",
       "        vertical-align: top;\n",
       "    }\n",
       "\n",
       "    .dataframe thead th {\n",
       "        text-align: right;\n",
       "    }\n",
       "</style>\n",
       "<table border=\"1\" class=\"dataframe\">\n",
       "  <thead>\n",
       "    <tr style=\"text-align: right;\">\n",
       "      <th>Product6</th>\n",
       "      <th>0</th>\n",
       "      <th>1</th>\n",
       "    </tr>\n",
       "    <tr>\n",
       "      <th>ReferenceRate</th>\n",
       "      <th></th>\n",
       "      <th></th>\n",
       "    </tr>\n",
       "  </thead>\n",
       "  <tbody>\n",
       "    <tr>\n",
       "      <th>1.125</th>\n",
       "      <td>14670</td>\n",
       "      <td>632</td>\n",
       "    </tr>\n",
       "    <tr>\n",
       "      <th>1.375</th>\n",
       "      <td>46649</td>\n",
       "      <td>2048</td>\n",
       "    </tr>\n",
       "  </tbody>\n",
       "</table>\n",
       "</div>"
      ],
      "text/plain": [
       "Product6           0     1\n",
       "ReferenceRate             \n",
       "1.125          14670   632\n",
       "1.375          46649  2048"
      ]
     },
     "execution_count": 26,
     "metadata": {
      "tags": []
     },
     "output_type": "execute_result"
    }
   ],
   "source": [
    "print('Product6')\n",
    "tab26 = pd.crosstab(df_cat['ReferenceRate'] , df_cat['Product6'])\n",
    "\n",
    "chi2, p, dof, exp = chi2_contingency(tab26.values)\n",
    "print('chi_sqrd stat %0.3f p_value %0.3f'%(chi2, p))\n",
    "tab26"
   ]
  },
  {
   "cell_type": "markdown",
   "metadata": {
    "id": "Kb4RdWlsi2tW"
   },
   "source": [
    "### 'RefrenceRate' vs. 'ExternalAccount'"
   ]
  },
  {
   "cell_type": "markdown",
   "metadata": {
    "id": "jhR_DGTEdAEk"
   },
   "source": [
    "'RefrenceRate' vs. 'ExternalAccount' we don't have sufficient evidence to reject the null hypothesis for these relationships."
   ]
  },
  {
   "cell_type": "code",
   "execution_count": null,
   "metadata": {
    "colab": {
     "base_uri": "https://localhost:8080/",
     "height": 159
    },
    "id": "gl82VQvWeTil",
    "outputId": "f81d707d-e3cf-44b7-8a8f-868e68136a01"
   },
   "outputs": [
    {
     "name": "stdout",
     "output_type": "stream",
     "text": [
      "chi_sqrd stat 2.257 p_value 0.133\n"
     ]
    },
    {
     "data": {
      "text/html": [
       "<div>\n",
       "<style scoped>\n",
       "    .dataframe tbody tr th:only-of-type {\n",
       "        vertical-align: middle;\n",
       "    }\n",
       "\n",
       "    .dataframe tbody tr th {\n",
       "        vertical-align: top;\n",
       "    }\n",
       "\n",
       "    .dataframe thead th {\n",
       "        text-align: right;\n",
       "    }\n",
       "</style>\n",
       "<table border=\"1\" class=\"dataframe\">\n",
       "  <thead>\n",
       "    <tr style=\"text-align: right;\">\n",
       "      <th>ExternalAccount1</th>\n",
       "      <th>0</th>\n",
       "      <th>1</th>\n",
       "    </tr>\n",
       "    <tr>\n",
       "      <th>ReferenceRate</th>\n",
       "      <th></th>\n",
       "      <th></th>\n",
       "    </tr>\n",
       "  </thead>\n",
       "  <tbody>\n",
       "    <tr>\n",
       "      <th>1.125</th>\n",
       "      <td>12222</td>\n",
       "      <td>3080</td>\n",
       "    </tr>\n",
       "    <tr>\n",
       "      <th>1.375</th>\n",
       "      <td>39167</td>\n",
       "      <td>9530</td>\n",
       "    </tr>\n",
       "  </tbody>\n",
       "</table>\n",
       "</div>"
      ],
      "text/plain": [
       "ExternalAccount1      0     1\n",
       "ReferenceRate                \n",
       "1.125             12222  3080\n",
       "1.375             39167  9530"
      ]
     },
     "execution_count": 27,
     "metadata": {
      "tags": []
     },
     "output_type": "execute_result"
    }
   ],
   "source": [
    "tab31 = pd.crosstab(df_cat['ReferenceRate'] , df_cat['ExternalAccount1'])\n",
    "\n",
    "chi2, p, dof, exp = chi2_contingency(tab31.values)\n",
    "print('chi_sqrd stat %0.3f p_value %0.3f'%(chi2, p))\n",
    "tab31"
   ]
  },
  {
   "cell_type": "code",
   "execution_count": null,
   "metadata": {
    "colab": {
     "base_uri": "https://localhost:8080/",
     "height": 159
    },
    "id": "QenV1_SdeTaO",
    "outputId": "63890bb4-fd94-4b36-efa4-b3cabb06722f"
   },
   "outputs": [
    {
     "name": "stdout",
     "output_type": "stream",
     "text": [
      "chi_sqrd stat 1.159 p_value 0.282\n"
     ]
    },
    {
     "data": {
      "text/html": [
       "<div>\n",
       "<style scoped>\n",
       "    .dataframe tbody tr th:only-of-type {\n",
       "        vertical-align: middle;\n",
       "    }\n",
       "\n",
       "    .dataframe tbody tr th {\n",
       "        vertical-align: top;\n",
       "    }\n",
       "\n",
       "    .dataframe thead th {\n",
       "        text-align: right;\n",
       "    }\n",
       "</style>\n",
       "<table border=\"1\" class=\"dataframe\">\n",
       "  <thead>\n",
       "    <tr style=\"text-align: right;\">\n",
       "      <th>ExternalAccount2</th>\n",
       "      <th>0</th>\n",
       "      <th>1</th>\n",
       "    </tr>\n",
       "    <tr>\n",
       "      <th>ReferenceRate</th>\n",
       "      <th></th>\n",
       "      <th></th>\n",
       "    </tr>\n",
       "  </thead>\n",
       "  <tbody>\n",
       "    <tr>\n",
       "      <th>1.125</th>\n",
       "      <td>10736</td>\n",
       "      <td>4566</td>\n",
       "    </tr>\n",
       "    <tr>\n",
       "      <th>1.375</th>\n",
       "      <td>33941</td>\n",
       "      <td>14756</td>\n",
       "    </tr>\n",
       "  </tbody>\n",
       "</table>\n",
       "</div>"
      ],
      "text/plain": [
       "ExternalAccount2      0      1\n",
       "ReferenceRate                 \n",
       "1.125             10736   4566\n",
       "1.375             33941  14756"
      ]
     },
     "execution_count": 28,
     "metadata": {
      "tags": []
     },
     "output_type": "execute_result"
    }
   ],
   "source": [
    "tab32 = pd.crosstab(df_cat['ReferenceRate'] , df_cat['ExternalAccount2'])\n",
    "\n",
    "chi2, p, dof, exp = chi2_contingency(tab32.values)\n",
    "print('chi_sqrd stat %0.3f p_value %0.3f'%(chi2, p))\n",
    "tab32"
   ]
  },
  {
   "cell_type": "code",
   "execution_count": null,
   "metadata": {
    "colab": {
     "base_uri": "https://localhost:8080/",
     "height": 159
    },
    "id": "ne2SfwgseTRJ",
    "outputId": "89c96eb1-e063-4835-c3e7-90425ef57a19"
   },
   "outputs": [
    {
     "name": "stdout",
     "output_type": "stream",
     "text": [
      "chi_sqrd stat 1.868 p_value 0.172\n"
     ]
    },
    {
     "data": {
      "text/html": [
       "<div>\n",
       "<style scoped>\n",
       "    .dataframe tbody tr th:only-of-type {\n",
       "        vertical-align: middle;\n",
       "    }\n",
       "\n",
       "    .dataframe tbody tr th {\n",
       "        vertical-align: top;\n",
       "    }\n",
       "\n",
       "    .dataframe thead th {\n",
       "        text-align: right;\n",
       "    }\n",
       "</style>\n",
       "<table border=\"1\" class=\"dataframe\">\n",
       "  <thead>\n",
       "    <tr style=\"text-align: right;\">\n",
       "      <th>ExternalAccount3</th>\n",
       "      <th>0</th>\n",
       "      <th>1</th>\n",
       "    </tr>\n",
       "    <tr>\n",
       "      <th>ReferenceRate</th>\n",
       "      <th></th>\n",
       "      <th></th>\n",
       "    </tr>\n",
       "  </thead>\n",
       "  <tbody>\n",
       "    <tr>\n",
       "      <th>1.125</th>\n",
       "      <td>13998</td>\n",
       "      <td>1304</td>\n",
       "    </tr>\n",
       "    <tr>\n",
       "      <th>1.375</th>\n",
       "      <td>44719</td>\n",
       "      <td>3978</td>\n",
       "    </tr>\n",
       "  </tbody>\n",
       "</table>\n",
       "</div>"
      ],
      "text/plain": [
       "ExternalAccount3      0     1\n",
       "ReferenceRate                \n",
       "1.125             13998  1304\n",
       "1.375             44719  3978"
      ]
     },
     "execution_count": 29,
     "metadata": {
      "tags": []
     },
     "output_type": "execute_result"
    }
   ],
   "source": [
    "tab33 = pd.crosstab(df_cat['ReferenceRate'] , df_cat['ExternalAccount3'])\n",
    "\n",
    "chi2, p, dof, exp = chi2_contingency(tab33.values)\n",
    "print('chi_sqrd stat %0.3f p_value %0.3f'%(chi2, p))\n",
    "tab33"
   ]
  },
  {
   "cell_type": "code",
   "execution_count": null,
   "metadata": {
    "colab": {
     "base_uri": "https://localhost:8080/",
     "height": 159
    },
    "id": "7lqj-22oeTH_",
    "outputId": "2c696b71-6618-4cae-c987-39db8cd42249"
   },
   "outputs": [
    {
     "name": "stdout",
     "output_type": "stream",
     "text": [
      "chi_sqrd stat 0.297 p_value 0.586\n"
     ]
    },
    {
     "data": {
      "text/html": [
       "<div>\n",
       "<style scoped>\n",
       "    .dataframe tbody tr th:only-of-type {\n",
       "        vertical-align: middle;\n",
       "    }\n",
       "\n",
       "    .dataframe tbody tr th {\n",
       "        vertical-align: top;\n",
       "    }\n",
       "\n",
       "    .dataframe thead th {\n",
       "        text-align: right;\n",
       "    }\n",
       "</style>\n",
       "<table border=\"1\" class=\"dataframe\">\n",
       "  <thead>\n",
       "    <tr style=\"text-align: right;\">\n",
       "      <th>ExternalAccount4</th>\n",
       "      <th>0</th>\n",
       "      <th>1</th>\n",
       "    </tr>\n",
       "    <tr>\n",
       "      <th>ReferenceRate</th>\n",
       "      <th></th>\n",
       "      <th></th>\n",
       "    </tr>\n",
       "  </thead>\n",
       "  <tbody>\n",
       "    <tr>\n",
       "      <th>1.125</th>\n",
       "      <td>13388</td>\n",
       "      <td>1914</td>\n",
       "    </tr>\n",
       "    <tr>\n",
       "      <th>1.375</th>\n",
       "      <td>42689</td>\n",
       "      <td>6008</td>\n",
       "    </tr>\n",
       "  </tbody>\n",
       "</table>\n",
       "</div>"
      ],
      "text/plain": [
       "ExternalAccount4      0     1\n",
       "ReferenceRate                \n",
       "1.125             13388  1914\n",
       "1.375             42689  6008"
      ]
     },
     "execution_count": 30,
     "metadata": {
      "tags": []
     },
     "output_type": "execute_result"
    }
   ],
   "source": [
    "tab34 = pd.crosstab(df_cat['ReferenceRate'] , df_cat['ExternalAccount4'])\n",
    "\n",
    "chi2, p, dof, exp = chi2_contingency(tab34.values)\n",
    "print('chi_sqrd stat %0.3f p_value %0.3f'%(chi2, p))\n",
    "tab34"
   ]
  },
  {
   "cell_type": "code",
   "execution_count": null,
   "metadata": {
    "colab": {
     "base_uri": "https://localhost:8080/",
     "height": 159
    },
    "id": "ND8vO3DSeS_v",
    "outputId": "8a6a95ee-9a7b-4029-9824-8d0710ec6ebe"
   },
   "outputs": [
    {
     "name": "stdout",
     "output_type": "stream",
     "text": [
      "chi_sqrd stat 0.192 p_value 0.661\n"
     ]
    },
    {
     "data": {
      "text/html": [
       "<div>\n",
       "<style scoped>\n",
       "    .dataframe tbody tr th:only-of-type {\n",
       "        vertical-align: middle;\n",
       "    }\n",
       "\n",
       "    .dataframe tbody tr th {\n",
       "        vertical-align: top;\n",
       "    }\n",
       "\n",
       "    .dataframe thead th {\n",
       "        text-align: right;\n",
       "    }\n",
       "</style>\n",
       "<table border=\"1\" class=\"dataframe\">\n",
       "  <thead>\n",
       "    <tr style=\"text-align: right;\">\n",
       "      <th>ExternalAccount5</th>\n",
       "      <th>0</th>\n",
       "      <th>1</th>\n",
       "    </tr>\n",
       "    <tr>\n",
       "      <th>ReferenceRate</th>\n",
       "      <th></th>\n",
       "      <th></th>\n",
       "    </tr>\n",
       "  </thead>\n",
       "  <tbody>\n",
       "    <tr>\n",
       "      <th>1.125</th>\n",
       "      <td>12347</td>\n",
       "      <td>2955</td>\n",
       "    </tr>\n",
       "    <tr>\n",
       "      <th>1.375</th>\n",
       "      <td>39373</td>\n",
       "      <td>9324</td>\n",
       "    </tr>\n",
       "  </tbody>\n",
       "</table>\n",
       "</div>"
      ],
      "text/plain": [
       "ExternalAccount5      0     1\n",
       "ReferenceRate                \n",
       "1.125             12347  2955\n",
       "1.375             39373  9324"
      ]
     },
     "execution_count": 31,
     "metadata": {
      "tags": []
     },
     "output_type": "execute_result"
    }
   ],
   "source": [
    "tab35 = pd.crosstab(df_cat['ReferenceRate'] , df_cat['ExternalAccount5'])\n",
    "\n",
    "chi2, p, dof, exp = chi2_contingency(tab35.values)\n",
    "print('chi_sqrd stat %0.3f p_value %0.3f'%(chi2, p))\n",
    "tab35"
   ]
  },
  {
   "cell_type": "code",
   "execution_count": null,
   "metadata": {
    "colab": {
     "base_uri": "https://localhost:8080/",
     "height": 159
    },
    "id": "CzCEBS1aeS3W",
    "outputId": "16326246-7068-45a9-a307-54bc8d53b6f8"
   },
   "outputs": [
    {
     "name": "stdout",
     "output_type": "stream",
     "text": [
      "chi_sqrd stat 1.773 p_value 0.183\n"
     ]
    },
    {
     "data": {
      "text/html": [
       "<div>\n",
       "<style scoped>\n",
       "    .dataframe tbody tr th:only-of-type {\n",
       "        vertical-align: middle;\n",
       "    }\n",
       "\n",
       "    .dataframe tbody tr th {\n",
       "        vertical-align: top;\n",
       "    }\n",
       "\n",
       "    .dataframe thead th {\n",
       "        text-align: right;\n",
       "    }\n",
       "</style>\n",
       "<table border=\"1\" class=\"dataframe\">\n",
       "  <thead>\n",
       "    <tr style=\"text-align: right;\">\n",
       "      <th>ExternalAccount6</th>\n",
       "      <th>0</th>\n",
       "      <th>1</th>\n",
       "    </tr>\n",
       "    <tr>\n",
       "      <th>ReferenceRate</th>\n",
       "      <th></th>\n",
       "      <th></th>\n",
       "    </tr>\n",
       "  </thead>\n",
       "  <tbody>\n",
       "    <tr>\n",
       "      <th>1.125</th>\n",
       "      <td>13809</td>\n",
       "      <td>1493</td>\n",
       "    </tr>\n",
       "    <tr>\n",
       "      <th>1.375</th>\n",
       "      <td>43763</td>\n",
       "      <td>4934</td>\n",
       "    </tr>\n",
       "  </tbody>\n",
       "</table>\n",
       "</div>"
      ],
      "text/plain": [
       "ExternalAccount6      0     1\n",
       "ReferenceRate                \n",
       "1.125             13809  1493\n",
       "1.375             43763  4934"
      ]
     },
     "execution_count": 32,
     "metadata": {
      "tags": []
     },
     "output_type": "execute_result"
    }
   ],
   "source": [
    "tab36 = pd.crosstab(df_cat['ReferenceRate'] , df_cat['ExternalAccount6'])\n",
    "\n",
    "chi2, p, dof, exp = chi2_contingency(tab36.values)\n",
    "print('chi_sqrd stat %0.3f p_value %0.3f'%(chi2, p))\n",
    "tab36"
   ]
  },
  {
   "cell_type": "code",
   "execution_count": null,
   "metadata": {
    "colab": {
     "base_uri": "https://localhost:8080/",
     "height": 159
    },
    "id": "twBcsL1WeSt9",
    "outputId": "f3cd79ca-a363-4cdf-a189-4ef72fa51e17"
   },
   "outputs": [
    {
     "name": "stdout",
     "output_type": "stream",
     "text": [
      "chi_sqrd stat 0.018 p_value 0.894\n"
     ]
    },
    {
     "data": {
      "text/html": [
       "<div>\n",
       "<style scoped>\n",
       "    .dataframe tbody tr th:only-of-type {\n",
       "        vertical-align: middle;\n",
       "    }\n",
       "\n",
       "    .dataframe tbody tr th {\n",
       "        vertical-align: top;\n",
       "    }\n",
       "\n",
       "    .dataframe thead th {\n",
       "        text-align: right;\n",
       "    }\n",
       "</style>\n",
       "<table border=\"1\" class=\"dataframe\">\n",
       "  <thead>\n",
       "    <tr style=\"text-align: right;\">\n",
       "      <th>ExternalAccount7</th>\n",
       "      <th>0</th>\n",
       "      <th>1</th>\n",
       "    </tr>\n",
       "    <tr>\n",
       "      <th>ReferenceRate</th>\n",
       "      <th></th>\n",
       "      <th></th>\n",
       "    </tr>\n",
       "  </thead>\n",
       "  <tbody>\n",
       "    <tr>\n",
       "      <th>1.125</th>\n",
       "      <td>15004</td>\n",
       "      <td>298</td>\n",
       "    </tr>\n",
       "    <tr>\n",
       "      <th>1.375</th>\n",
       "      <td>47759</td>\n",
       "      <td>938</td>\n",
       "    </tr>\n",
       "  </tbody>\n",
       "</table>\n",
       "</div>"
      ],
      "text/plain": [
       "ExternalAccount7      0    1\n",
       "ReferenceRate               \n",
       "1.125             15004  298\n",
       "1.375             47759  938"
      ]
     },
     "execution_count": 33,
     "metadata": {
      "tags": []
     },
     "output_type": "execute_result"
    }
   ],
   "source": [
    "tab37 = pd.crosstab(df_cat['ReferenceRate'] , df_cat['ExternalAccount7'])\n",
    "\n",
    "chi2, p, dof, exp = chi2_contingency(tab37.values)\n",
    "print('chi_sqrd stat %0.3f p_value %0.3f'%(chi2, p))\n",
    "tab37"
   ]
  },
  {
   "cell_type": "markdown",
   "metadata": {
    "id": "1vfl2-1Bn21I"
   },
   "source": [
    "# Numerical Feature Assessment"
   ]
  },
  {
   "cell_type": "markdown",
   "metadata": {
    "id": "JV4o1-Zin-O9"
   },
   "source": [
    "here I'll just do some rudimentary scalling and outlier investigation."
   ]
  },
  {
   "cell_type": "code",
   "execution_count": null,
   "metadata": {
    "colab": {
     "base_uri": "https://localhost:8080/",
     "height": 1000
    },
    "id": "rAiOVuJookYz",
    "outputId": "8c06a3d5-7920-4734-c791-e5b0176bc9b4"
   },
   "outputs": [
    {
     "data": {
      "text/plain": [
       "array([[<matplotlib.axes._subplots.AxesSubplot object at 0x7fe7973e3e10>,\n",
       "        <matplotlib.axes._subplots.AxesSubplot object at 0x7fe797399590>,\n",
       "        <matplotlib.axes._subplots.AxesSubplot object at 0x7fe79734ac10>,\n",
       "        <matplotlib.axes._subplots.AxesSubplot object at 0x7fe79730e2d0>],\n",
       "       [<matplotlib.axes._subplots.AxesSubplot object at 0x7fe797343950>,\n",
       "        <matplotlib.axes._subplots.AxesSubplot object at 0x7fe7972efb10>,\n",
       "        <matplotlib.axes._subplots.AxesSubplot object at 0x7fe7972bb710>,\n",
       "        <matplotlib.axes._subplots.AxesSubplot object at 0x7fe797273cd0>],\n",
       "       [<matplotlib.axes._subplots.AxesSubplot object at 0x7fe797273d10>,\n",
       "        <matplotlib.axes._subplots.AxesSubplot object at 0x7fe7972344d0>,\n",
       "        <matplotlib.axes._subplots.AxesSubplot object at 0x7fe7971ad110>,\n",
       "        <matplotlib.axes._subplots.AxesSubplot object at 0x7fe797160790>],\n",
       "       [<matplotlib.axes._subplots.AxesSubplot object at 0x7fe797115e10>,\n",
       "        <matplotlib.axes._subplots.AxesSubplot object at 0x7fe7970da4d0>,\n",
       "        <matplotlib.axes._subplots.AxesSubplot object at 0x7fe79708fb50>,\n",
       "        <matplotlib.axes._subplots.AxesSubplot object at 0x7fe797052210>],\n",
       "       [<matplotlib.axes._subplots.AxesSubplot object at 0x7fe79700a890>,\n",
       "        <matplotlib.axes._subplots.AxesSubplot object at 0x7fe79703ef10>,\n",
       "        <matplotlib.axes._subplots.AxesSubplot object at 0x7fe7970015d0>,\n",
       "        <matplotlib.axes._subplots.AxesSubplot object at 0x7fe796fb5c50>]],\n",
       "      dtype=object)"
      ]
     },
     "execution_count": 39,
     "metadata": {
      "tags": []
     },
     "output_type": "execute_result"
    },
    {
     "data": {
      "image/png": "[encoded data removed]",
      "text/plain": [
       "<Figure size 1440x2160 with 20 Axes>"
      ]
     },
     "metadata": {
      "needs_background": "light",
      "tags": []
     },
     "output_type": "display_data"
    }
   ],
   "source": [
    "df_num1 = pd.concat([value for (key, value) in feature_dict.items() if 'Balance' in key], axis=1)\n",
    "df_num2 = pd.concat([value for (key, value) in feature_dict.items() if 'Transaction' in key], axis=1)\n",
    "df_num3 = pd.concat([value for (key, value) in feature_dict.items() if 'ActivityIndicator' in key], axis=1)\n",
    "df_num4 = pd.concat([value for (key, value) in feature_dict.items() if 'RegularInteractionIndicator' in key], axis=1)\n",
    "df_num5 = pd.concat([value for (key, value) in feature_dict.items() if 'CompetitiveRate' in key], axis=1)\n",
    "df_num6 = pd.concat([value for (key, value) in feature_dict.items() if 'RateBefore' in key], axis=1)\n",
    "\n",
    "df_num = pd.concat([df_num1, df_num2, df_num3, df_num4, df_num5, df_num6], axis = 1)\n",
    "df_num.hist(figsize=(20,30))"
   ]
  },
  {
   "cell_type": "markdown",
   "metadata": {},
   "source": [
    "# Models"
   ]
  },
  {
   "cell_type": "markdown",
   "metadata": {},
   "source": [
    "# Importing and Getting Ready"
   ]
  },
  {
   "cell_type": "code",
   "execution_count": 1,
   "metadata": {},
   "outputs": [],
   "source": [
    "import numpy as np\n",
    "import pandas as pd\n",
    "# to make this notebook's output stable across runs\n",
    "np.random.seed(123)\n",
    "\n",
    "# To plot pretty figures\n",
    "%matplotlib inline\n",
    "import matplotlib\n",
    "import matplotlib.pyplot as plt\n",
    "plt.rcParams['axes.labelsize'] = 14\n",
    "plt.rcParams['xtick.labelsize'] = 12\n",
    "plt.rcParams['ytick.labelsize'] = 12"
   ]
  },
  {
   "cell_type": "code",
   "execution_count": 2,
   "metadata": {},
   "outputs": [],
   "source": [
    "df_test = pd.read_csv(\"test.csv\")\n",
    "df_train = pd.read_csv(\"train.csv\")"
   ]
  },
  {
   "cell_type": "code",
   "execution_count": 3,
   "metadata": {},
   "outputs": [],
   "source": [
    "df_test_1 = df_test.copy().drop('Customer_id', axis=1)"
   ]
  },
  {
   "cell_type": "code",
   "execution_count": 4,
   "metadata": {},
   "outputs": [],
   "source": [
    "#y_pred = tuned_clf_model.predict(df_test_1)\n",
    "\n",
    "#submission = pd.DataFrame ({\n",
    "#    'Customer_id' : df_test['Customer_id']\n",
    "#    'Target' : y_pred\n",
    "#})\n",
    "\n",
    "#submission['Target'].value_counts()\n",
    "\n",
    "#submission.to_csv('submission.csv', index=False)"
   ]
  },
  {
   "cell_type": "code",
   "execution_count": 5,
   "metadata": {},
   "outputs": [
    {
     "data": {
      "text/html": [
       "<div>\n",
       "<style scoped>\n",
       "    .dataframe tbody tr th:only-of-type {\n",
       "        vertical-align: middle;\n",
       "    }\n",
       "\n",
       "    .dataframe tbody tr th {\n",
       "        vertical-align: top;\n",
       "    }\n",
       "\n",
       "    .dataframe thead th {\n",
       "        text-align: right;\n",
       "    }\n",
       "</style>\n",
       "<table border=\"1\" class=\"dataframe\">\n",
       "  <thead>\n",
       "    <tr style=\"text-align: right;\">\n",
       "      <th></th>\n",
       "      <th>Balance</th>\n",
       "      <th>PreviousCampaignResult</th>\n",
       "      <th>Product1</th>\n",
       "      <th>Product2</th>\n",
       "      <th>Product3</th>\n",
       "      <th>Product4</th>\n",
       "      <th>Product5</th>\n",
       "      <th>Product6</th>\n",
       "      <th>Transaction1</th>\n",
       "      <th>Transaction2</th>\n",
       "      <th>...</th>\n",
       "      <th>RegularInteractionIndicator</th>\n",
       "      <th>CompetitiveRate1</th>\n",
       "      <th>CompetitiveRate2</th>\n",
       "      <th>CompetitiveRate3</th>\n",
       "      <th>CompetitiveRate4</th>\n",
       "      <th>CompetitiveRate5</th>\n",
       "      <th>CompetitiveRate6</th>\n",
       "      <th>CompetitiveRate7</th>\n",
       "      <th>RateBefore</th>\n",
       "      <th>ReferenceRate</th>\n",
       "    </tr>\n",
       "  </thead>\n",
       "  <tbody>\n",
       "    <tr>\n",
       "      <th>0</th>\n",
       "      <td>13341.55</td>\n",
       "      <td>0</td>\n",
       "      <td>0</td>\n",
       "      <td>0</td>\n",
       "      <td>0</td>\n",
       "      <td>0</td>\n",
       "      <td>0</td>\n",
       "      <td>0</td>\n",
       "      <td>0.0</td>\n",
       "      <td>0.0</td>\n",
       "      <td>...</td>\n",
       "      <td>0</td>\n",
       "      <td>1.475</td>\n",
       "      <td>1.425</td>\n",
       "      <td>1.425</td>\n",
       "      <td>1.425</td>\n",
       "      <td>2.375</td>\n",
       "      <td>1.725</td>\n",
       "      <td>2.125</td>\n",
       "      <td>1.725</td>\n",
       "      <td>1.375</td>\n",
       "    </tr>\n",
       "    <tr>\n",
       "      <th>1</th>\n",
       "      <td>18649.81</td>\n",
       "      <td>0</td>\n",
       "      <td>1</td>\n",
       "      <td>0</td>\n",
       "      <td>0</td>\n",
       "      <td>0</td>\n",
       "      <td>0</td>\n",
       "      <td>0</td>\n",
       "      <td>0.0</td>\n",
       "      <td>0.0</td>\n",
       "      <td>...</td>\n",
       "      <td>0</td>\n",
       "      <td>1.025</td>\n",
       "      <td>1.925</td>\n",
       "      <td>1.125</td>\n",
       "      <td>2.375</td>\n",
       "      <td>1.175</td>\n",
       "      <td>1.425</td>\n",
       "      <td>1.475</td>\n",
       "      <td>1.425</td>\n",
       "      <td>1.125</td>\n",
       "    </tr>\n",
       "    <tr>\n",
       "      <th>2</th>\n",
       "      <td>28311.30</td>\n",
       "      <td>0</td>\n",
       "      <td>1</td>\n",
       "      <td>0</td>\n",
       "      <td>0</td>\n",
       "      <td>1</td>\n",
       "      <td>0</td>\n",
       "      <td>0</td>\n",
       "      <td>0.0</td>\n",
       "      <td>0.0</td>\n",
       "      <td>...</td>\n",
       "      <td>1</td>\n",
       "      <td>1.425</td>\n",
       "      <td>2.375</td>\n",
       "      <td>1.425</td>\n",
       "      <td>1.675</td>\n",
       "      <td>2.375</td>\n",
       "      <td>1.675</td>\n",
       "      <td>1.575</td>\n",
       "      <td>1.675</td>\n",
       "      <td>1.375</td>\n",
       "    </tr>\n",
       "    <tr>\n",
       "      <th>3</th>\n",
       "      <td>18066.61</td>\n",
       "      <td>0</td>\n",
       "      <td>1</td>\n",
       "      <td>0</td>\n",
       "      <td>0</td>\n",
       "      <td>0</td>\n",
       "      <td>0</td>\n",
       "      <td>0</td>\n",
       "      <td>0.0</td>\n",
       "      <td>0.0</td>\n",
       "      <td>...</td>\n",
       "      <td>0</td>\n",
       "      <td>1.025</td>\n",
       "      <td>1.925</td>\n",
       "      <td>1.125</td>\n",
       "      <td>2.375</td>\n",
       "      <td>1.175</td>\n",
       "      <td>1.425</td>\n",
       "      <td>1.475</td>\n",
       "      <td>1.425</td>\n",
       "      <td>1.125</td>\n",
       "    </tr>\n",
       "    <tr>\n",
       "      <th>4</th>\n",
       "      <td>10512.30</td>\n",
       "      <td>0</td>\n",
       "      <td>0</td>\n",
       "      <td>0</td>\n",
       "      <td>0</td>\n",
       "      <td>0</td>\n",
       "      <td>0</td>\n",
       "      <td>0</td>\n",
       "      <td>0.0</td>\n",
       "      <td>0.0</td>\n",
       "      <td>...</td>\n",
       "      <td>1</td>\n",
       "      <td>1.425</td>\n",
       "      <td>2.375</td>\n",
       "      <td>1.425</td>\n",
       "      <td>1.675</td>\n",
       "      <td>2.375</td>\n",
       "      <td>1.675</td>\n",
       "      <td>1.575</td>\n",
       "      <td>1.675</td>\n",
       "      <td>1.375</td>\n",
       "    </tr>\n",
       "  </tbody>\n",
       "</table>\n",
       "<p>5 rows × 35 columns</p>\n",
       "</div>"
      ],
      "text/plain": [
       "    Balance  PreviousCampaignResult  Product1  Product2  Product3  Product4  \\\n",
       "0  13341.55                       0         0         0         0         0   \n",
       "1  18649.81                       0         1         0         0         0   \n",
       "2  28311.30                       0         1         0         0         1   \n",
       "3  18066.61                       0         1         0         0         0   \n",
       "4  10512.30                       0         0         0         0         0   \n",
       "\n",
       "   Product5  Product6  Transaction1  Transaction2  ...  \\\n",
       "0         0         0           0.0           0.0  ...   \n",
       "1         0         0           0.0           0.0  ...   \n",
       "2         0         0           0.0           0.0  ...   \n",
       "3         0         0           0.0           0.0  ...   \n",
       "4         0         0           0.0           0.0  ...   \n",
       "\n",
       "   RegularInteractionIndicator  CompetitiveRate1  CompetitiveRate2  \\\n",
       "0                            0             1.475             1.425   \n",
       "1                            0             1.025             1.925   \n",
       "2                            1             1.425             2.375   \n",
       "3                            0             1.025             1.925   \n",
       "4                            1             1.425             2.375   \n",
       "\n",
       "   CompetitiveRate3  CompetitiveRate4  CompetitiveRate5  CompetitiveRate6  \\\n",
       "0             1.425             1.425             2.375             1.725   \n",
       "1             1.125             2.375             1.175             1.425   \n",
       "2             1.425             1.675             2.375             1.675   \n",
       "3             1.125             2.375             1.175             1.425   \n",
       "4             1.425             1.675             2.375             1.675   \n",
       "\n",
       "   CompetitiveRate7  RateBefore  ReferenceRate  \n",
       "0             2.125       1.725          1.375  \n",
       "1             1.475       1.425          1.125  \n",
       "2             1.575       1.675          1.375  \n",
       "3             1.475       1.425          1.125  \n",
       "4             1.575       1.675          1.375  \n",
       "\n",
       "[5 rows x 35 columns]"
      ]
     },
     "execution_count": 5,
     "metadata": {},
     "output_type": "execute_result"
    }
   ],
   "source": [
    "df_test_1.head()"
   ]
  },
  {
   "cell_type": "code",
   "execution_count": null,
   "metadata": {},
   "outputs": [],
   "source": []
  },
  {
   "cell_type": "code",
   "execution_count": 6,
   "metadata": {},
   "outputs": [
    {
     "data": {
      "text/html": [
       "<div>\n",
       "<style scoped>\n",
       "    .dataframe tbody tr th:only-of-type {\n",
       "        vertical-align: middle;\n",
       "    }\n",
       "\n",
       "    .dataframe tbody tr th {\n",
       "        vertical-align: top;\n",
       "    }\n",
       "\n",
       "    .dataframe thead th {\n",
       "        text-align: right;\n",
       "    }\n",
       "</style>\n",
       "<table border=\"1\" class=\"dataframe\">\n",
       "  <thead>\n",
       "    <tr style=\"text-align: right;\">\n",
       "      <th></th>\n",
       "      <th>Customer_id</th>\n",
       "      <th>Target</th>\n",
       "      <th>Balance</th>\n",
       "      <th>PreviousCampaignResult</th>\n",
       "      <th>Product1</th>\n",
       "      <th>Product2</th>\n",
       "      <th>Product3</th>\n",
       "      <th>Product4</th>\n",
       "      <th>Product5</th>\n",
       "      <th>Product6</th>\n",
       "      <th>...</th>\n",
       "      <th>RegularInteractionIndicator</th>\n",
       "      <th>CompetitiveRate1</th>\n",
       "      <th>CompetitiveRate2</th>\n",
       "      <th>CompetitiveRate3</th>\n",
       "      <th>CompetitiveRate4</th>\n",
       "      <th>CompetitiveRate5</th>\n",
       "      <th>CompetitiveRate6</th>\n",
       "      <th>CompetitiveRate7</th>\n",
       "      <th>RateBefore</th>\n",
       "      <th>ReferenceRate</th>\n",
       "    </tr>\n",
       "  </thead>\n",
       "  <tbody>\n",
       "    <tr>\n",
       "      <th>0</th>\n",
       "      <td>CTSP000001</td>\n",
       "      <td>0</td>\n",
       "      <td>43824.59</td>\n",
       "      <td>0</td>\n",
       "      <td>0</td>\n",
       "      <td>0</td>\n",
       "      <td>0</td>\n",
       "      <td>0</td>\n",
       "      <td>0</td>\n",
       "      <td>0</td>\n",
       "      <td>...</td>\n",
       "      <td>0</td>\n",
       "      <td>1.025</td>\n",
       "      <td>1.925</td>\n",
       "      <td>1.125</td>\n",
       "      <td>2.375</td>\n",
       "      <td>1.175</td>\n",
       "      <td>1.425</td>\n",
       "      <td>1.475</td>\n",
       "      <td>1.425</td>\n",
       "      <td>1.125</td>\n",
       "    </tr>\n",
       "    <tr>\n",
       "      <th>1</th>\n",
       "      <td>CTSP000002</td>\n",
       "      <td>1</td>\n",
       "      <td>11256.21</td>\n",
       "      <td>0</td>\n",
       "      <td>0</td>\n",
       "      <td>0</td>\n",
       "      <td>0</td>\n",
       "      <td>0</td>\n",
       "      <td>0</td>\n",
       "      <td>0</td>\n",
       "      <td>...</td>\n",
       "      <td>3</td>\n",
       "      <td>1.475</td>\n",
       "      <td>1.425</td>\n",
       "      <td>1.425</td>\n",
       "      <td>1.425</td>\n",
       "      <td>2.375</td>\n",
       "      <td>1.725</td>\n",
       "      <td>2.125</td>\n",
       "      <td>1.725</td>\n",
       "      <td>1.375</td>\n",
       "    </tr>\n",
       "    <tr>\n",
       "      <th>2</th>\n",
       "      <td>CTSP000003</td>\n",
       "      <td>1</td>\n",
       "      <td>18795.11</td>\n",
       "      <td>0</td>\n",
       "      <td>1</td>\n",
       "      <td>1</td>\n",
       "      <td>0</td>\n",
       "      <td>0</td>\n",
       "      <td>0</td>\n",
       "      <td>0</td>\n",
       "      <td>...</td>\n",
       "      <td>0</td>\n",
       "      <td>1.425</td>\n",
       "      <td>2.375</td>\n",
       "      <td>1.425</td>\n",
       "      <td>1.675</td>\n",
       "      <td>2.375</td>\n",
       "      <td>1.675</td>\n",
       "      <td>1.575</td>\n",
       "      <td>1.675</td>\n",
       "      <td>1.375</td>\n",
       "    </tr>\n",
       "    <tr>\n",
       "      <th>3</th>\n",
       "      <td>CTSP000004</td>\n",
       "      <td>0</td>\n",
       "      <td>22274.72</td>\n",
       "      <td>0</td>\n",
       "      <td>0</td>\n",
       "      <td>0</td>\n",
       "      <td>0</td>\n",
       "      <td>0</td>\n",
       "      <td>0</td>\n",
       "      <td>0</td>\n",
       "      <td>...</td>\n",
       "      <td>0</td>\n",
       "      <td>1.475</td>\n",
       "      <td>1.425</td>\n",
       "      <td>1.425</td>\n",
       "      <td>1.425</td>\n",
       "      <td>2.375</td>\n",
       "      <td>1.725</td>\n",
       "      <td>2.125</td>\n",
       "      <td>1.725</td>\n",
       "      <td>1.375</td>\n",
       "    </tr>\n",
       "    <tr>\n",
       "      <th>4</th>\n",
       "      <td>CTSP000005</td>\n",
       "      <td>0</td>\n",
       "      <td>47923.40</td>\n",
       "      <td>0</td>\n",
       "      <td>1</td>\n",
       "      <td>0</td>\n",
       "      <td>0</td>\n",
       "      <td>0</td>\n",
       "      <td>0</td>\n",
       "      <td>0</td>\n",
       "      <td>...</td>\n",
       "      <td>0</td>\n",
       "      <td>1.475</td>\n",
       "      <td>1.425</td>\n",
       "      <td>1.425</td>\n",
       "      <td>1.425</td>\n",
       "      <td>2.375</td>\n",
       "      <td>1.725</td>\n",
       "      <td>2.125</td>\n",
       "      <td>1.725</td>\n",
       "      <td>1.375</td>\n",
       "    </tr>\n",
       "  </tbody>\n",
       "</table>\n",
       "<p>5 rows × 37 columns</p>\n",
       "</div>"
      ],
      "text/plain": [
       "  Customer_id  Target   Balance  PreviousCampaignResult  Product1  Product2  \\\n",
       "0  CTSP000001       0  43824.59                       0         0         0   \n",
       "1  CTSP000002       1  11256.21                       0         0         0   \n",
       "2  CTSP000003       1  18795.11                       0         1         1   \n",
       "3  CTSP000004       0  22274.72                       0         0         0   \n",
       "4  CTSP000005       0  47923.40                       0         1         0   \n",
       "\n",
       "   Product3  Product4  Product5  Product6  ...  RegularInteractionIndicator  \\\n",
       "0         0         0         0         0  ...                            0   \n",
       "1         0         0         0         0  ...                            3   \n",
       "2         0         0         0         0  ...                            0   \n",
       "3         0         0         0         0  ...                            0   \n",
       "4         0         0         0         0  ...                            0   \n",
       "\n",
       "   CompetitiveRate1  CompetitiveRate2  CompetitiveRate3  CompetitiveRate4  \\\n",
       "0             1.025             1.925             1.125             2.375   \n",
       "1             1.475             1.425             1.425             1.425   \n",
       "2             1.425             2.375             1.425             1.675   \n",
       "3             1.475             1.425             1.425             1.425   \n",
       "4             1.475             1.425             1.425             1.425   \n",
       "\n",
       "   CompetitiveRate5  CompetitiveRate6  CompetitiveRate7  RateBefore  \\\n",
       "0             1.175             1.425             1.475       1.425   \n",
       "1             2.375             1.725             2.125       1.725   \n",
       "2             2.375             1.675             1.575       1.675   \n",
       "3             2.375             1.725             2.125       1.725   \n",
       "4             2.375             1.725             2.125       1.725   \n",
       "\n",
       "   ReferenceRate  \n",
       "0          1.125  \n",
       "1          1.375  \n",
       "2          1.375  \n",
       "3          1.375  \n",
       "4          1.375  \n",
       "\n",
       "[5 rows x 37 columns]"
      ]
     },
     "execution_count": 6,
     "metadata": {},
     "output_type": "execute_result"
    }
   ],
   "source": [
    "df_train.head()"
   ]
  },
  {
   "cell_type": "code",
   "execution_count": 7,
   "metadata": {},
   "outputs": [
    {
     "name": "stdout",
     "output_type": "stream",
     "text": [
      "TARGET: Target\n",
      "columns_predictors: ['Balance', 'PreviousCampaignResult', 'Product1', 'Product2', 'Product3', 'Product4', 'Product5', 'Product6', 'Transaction1', 'Transaction2', 'Transaction3', 'Transaction4', 'Transaction5', 'Transaction6', 'Transaction7', 'Transaction8', 'Transaction9', 'ExternalAccount1', 'ExternalAccount2', 'ExternalAccount3', 'ExternalAccount4', 'ExternalAccount5', 'ExternalAccount6', 'ExternalAccount7', 'ActivityIndicator', 'RegularInteractionIndicator', 'CompetitiveRate1', 'CompetitiveRate2', 'CompetitiveRate3', 'CompetitiveRate4', 'CompetitiveRate5', 'CompetitiveRate6', 'CompetitiveRate7', 'RateBefore', 'ReferenceRate']\n",
      "columns_categorical: ['ReferenceRate', 'PreviousCampaignResult', 'Product1', 'Product2', 'Product3', 'Product4', 'Product5', 'Product6', 'ExternalAccount1', 'ExternalAccount2', 'ExternalAccount3', 'ExternalAccount4', 'ExternalAccount5', 'ExternalAccount6', 'ExternalAccount7']\n",
      "columns_numerical: ['Balance', 'Transaction1', 'Transaction2', 'Transaction3', 'Transaction4', 'Transaction5', 'Transaction6', 'Transaction7', 'Transaction8', 'Transaction9', 'ActivityIndicator', 'RegularInteractionIndicator', 'CompetitiveRate1', 'CompetitiveRate2', 'CompetitiveRate3', 'CompetitiveRate4', 'CompetitiveRate5', 'CompetitiveRate6', 'CompetitiveRate7', 'RateBefore']\n"
     ]
    }
   ],
   "source": [
    "df_train = df_train.drop('Customer_id',axis=1)\n",
    "\n",
    "TARGET = \"Target\"\n",
    "columns_predictors = [col for col in df_train.columns if col not in [TARGET]]\n",
    "columns_categorical = ['ReferenceRate', 'PreviousCampaignResult', 'Product1', 'Product2', 'Product3', 'Product4', 'Product5', 'Product6', 'ExternalAccount1', 'ExternalAccount2', 'ExternalAccount3', 'ExternalAccount4', 'ExternalAccount5', 'ExternalAccount6', 'ExternalAccount7']\n",
    "columns_numerical = [col for col in columns_predictors if col not in columns_categorical]\n",
    "print(f\"TARGET: {TARGET}\")\n",
    "print(f\"columns_predictors: {columns_predictors}\")\n",
    "print(f\"columns_categorical: {columns_categorical}\")\n",
    "print(f\"columns_numerical: {columns_numerical}\")"
   ]
  },
  {
   "cell_type": "markdown",
   "metadata": {},
   "source": [
    "# Splitting Data and Transformations"
   ]
  },
  {
   "cell_type": "code",
   "execution_count": 9,
   "metadata": {},
   "outputs": [
    {
     "name": "stdout",
     "output_type": "stream",
     "text": [
      "X_train.shape: (47999, 35)\n",
      "X_test.shape: (16000, 35)\n",
      "y_train.shape: (47999,)\n",
      "y_test.shape: (16000,)\n"
     ]
    }
   ],
   "source": [
    "X = df_train[columns_predictors]\n",
    "y = df_train[TARGET]\n",
    "\n",
    "from sklearn.model_selection import train_test_split\n",
    "X_train, X_test, y_train, y_test = train_test_split(X, y, test_size=0.25, random_state=10086, stratify=y) #stratified sampling based on the target\n",
    "print(f\"X_train.shape: {X_train.shape}\")\n",
    "print(f\"X_test.shape: {X_test.shape}\")\n",
    "print(f\"y_train.shape: {y_train.shape}\")\n",
    "print(f\"y_test.shape: {y_test.shape}\")"
   ]
  },
  {
   "cell_type": "code",
   "execution_count": 10,
   "metadata": {},
   "outputs": [],
   "source": [
    "# Transforming numerical values using a numerical pipeline \n",
    "\n",
    "from sklearn.pipeline import Pipeline\n",
    "from sklearn.compose import ColumnTransformer \n",
    "from sklearn.preprocessing import MinMaxScaler, OneHotEncoder ,StandardScaler\n",
    "\n",
    "#Convert the non transformed Dataframe into list.\n",
    "columns_categorical_list = list(columns_categorical)\n",
    "columns_numerical_list = list(columns_numerical)\n",
    "\n",
    "pipeline_categorical = Pipeline([\n",
    "  ('onehot', OneHotEncoder(handle_unknown='error')),\n",
    "])\n",
    "\n",
    "pipeline_numerical = Pipeline([\n",
    "  ('scaler', StandardScaler()),\n",
    "])\n",
    "\n",
    "pipeline_full = ColumnTransformer([\n",
    "  (\"categorical\", pipeline_categorical, columns_categorical_list),\n",
    "  (\"numerical\", pipeline_numerical, columns_numerical_list),\n",
    "])"
   ]
  },
  {
   "cell_type": "code",
   "execution_count": 11,
   "metadata": {},
   "outputs": [
    {
     "name": "stdout",
     "output_type": "stream",
     "text": [
      "X_train_transformed.shape: (47999, 51)\n",
      "X_test_transformed.shape: (16000, 51)\n",
      "df_test_1_transformed.shape: (1480, 51)\n"
     ]
    }
   ],
   "source": [
    "# calling pipeline to transform data\n",
    "\n",
    "pipeline_full = ColumnTransformer([\n",
    "  (\"categorical\", pipeline_categorical, columns_categorical),\n",
    "  (\"numerical\", pipeline_numerical, columns_numerical),\n",
    "])\n",
    "\n",
    "pipeline_full.fit(X_train)\n",
    "X_train_transformed = pipeline_full.transform(X_train)\n",
    "X_test_transformed = pipeline_full.transform(X_test)\n",
    "df_test_1_transformed = pipeline_full.transform(df_test_1)\n",
    "print(f\"X_train_transformed.shape: {X_train_transformed.shape}\")\n",
    "print(f\"X_test_transformed.shape: {X_test_transformed.shape}\")\n",
    "print(f\"df_test_1_transformed.shape: {df_test_1_transformed.shape}\")"
   ]
  },
  {
   "cell_type": "markdown",
   "metadata": {},
   "source": [
    "# Binary Classification "
   ]
  },
  {
   "cell_type": "code",
   "execution_count": 12,
   "metadata": {},
   "outputs": [
    {
     "data": {
      "text/plain": [
       "SGDClassifier(alpha=0.0001, average=False, class_weight=None,\n",
       "              early_stopping=False, epsilon=0.1, eta0=0.0, fit_intercept=True,\n",
       "              l1_ratio=0.15, learning_rate='optimal', loss='hinge',\n",
       "              max_iter=1000, n_iter_no_change=5, n_jobs=None, penalty='l2',\n",
       "              power_t=0.5, random_state=42, shuffle=True, tol=0.001,\n",
       "              validation_fraction=0.1, verbose=0, warm_start=False)"
      ]
     },
     "execution_count": 12,
     "metadata": {},
     "output_type": "execute_result"
    }
   ],
   "source": [
    "from sklearn.linear_model import SGDClassifier\n",
    "from sklearn.model_selection import StratifiedKFold\n",
    "\n",
    "sgd_clf = SGDClassifier(max_iter=1000, tol=1e-3, random_state=42)\n",
    "sgd_clf.fit(X_train_transformed, y_train)"
   ]
  },
  {
   "cell_type": "code",
   "execution_count": 13,
   "metadata": {},
   "outputs": [
    {
     "data": {
      "text/plain": [
       "array([0, 1, 1, ..., 1, 0, 0], dtype=int64)"
      ]
     },
     "execution_count": 13,
     "metadata": {},
     "output_type": "execute_result"
    }
   ],
   "source": [
    "sgd_clf.predict(X_test_transformed)"
   ]
  },
  {
   "cell_type": "code",
   "execution_count": 14,
   "metadata": {},
   "outputs": [
    {
     "data": {
      "text/plain": [
       "array([0.57855268, 0.55147197, 0.60022501])"
      ]
     },
     "execution_count": 14,
     "metadata": {},
     "output_type": "execute_result"
    }
   ],
   "source": [
    "# accuracy is low, using cross_val_score\n",
    "\n",
    "from sklearn.model_selection import cross_val_score\n",
    "cross_val_score(sgd_clf, X_test_transformed, y_test, cv=3, scoring=\"accuracy\")"
   ]
  },
  {
   "cell_type": "code",
   "execution_count": 15,
   "metadata": {},
   "outputs": [],
   "source": [
    "from sklearn.base import BaseEstimator\n",
    "class ZeroClassifier(BaseEstimator):\n",
    "    def fit(self, X, y=None):\n",
    "        pass\n",
    "    def predict(self, X):\n",
    "        return np.zeros((len(X), 1), dtype=bool)"
   ]
  },
  {
   "cell_type": "code",
   "execution_count": 16,
   "metadata": {},
   "outputs": [
    {
     "data": {
      "text/plain": [
       "array([0.4964375 , 0.5056875 , 0.49853116])"
      ]
     },
     "execution_count": 16,
     "metadata": {},
     "output_type": "execute_result"
    }
   ],
   "source": [
    "# tried another classifier, did not perform that well \n",
    "Zero_clf = ZeroClassifier()\n",
    "cross_val_score(Zero_clf, X_train_transformed, y_train, cv=3, scoring=\"accuracy\")"
   ]
  },
  {
   "cell_type": "code",
   "execution_count": 17,
   "metadata": {},
   "outputs": [],
   "source": [
    "from sklearn.model_selection import cross_val_predict\n",
    "\n",
    "y_train_pred = cross_val_predict(sgd_clf, X_train_transformed, y_train, cv=3)"
   ]
  },
  {
   "cell_type": "code",
   "execution_count": 18,
   "metadata": {},
   "outputs": [
    {
     "data": {
      "text/plain": [
       "array([[17403,  6607],\n",
       "       [12456, 11533]], dtype=int64)"
      ]
     },
     "execution_count": 18,
     "metadata": {},
     "output_type": "execute_result"
    }
   ],
   "source": [
    "from sklearn.metrics import confusion_matrix\n",
    "\n",
    "confusion_matrix(y_train, y_train_pred)"
   ]
  },
  {
   "cell_type": "code",
   "execution_count": 19,
   "metadata": {},
   "outputs": [
    {
     "data": {
      "text/plain": [
       "array([[24010,     0],\n",
       "       [    0, 23989]], dtype=int64)"
      ]
     },
     "execution_count": 19,
     "metadata": {},
     "output_type": "execute_result"
    }
   ],
   "source": [
    "y_train_perfect_predictions = y_train  \n",
    "confusion_matrix(y_train, y_train_perfect_predictions)"
   ]
  },
  {
   "cell_type": "code",
   "execution_count": 20,
   "metadata": {},
   "outputs": [
    {
     "name": "stdout",
     "output_type": "stream",
     "text": [
      "Precision Score: 0.6357772877618523\n",
      "Recall Score: 0.48076201592396517\n"
     ]
    }
   ],
   "source": [
    "from sklearn.metrics import precision_score, recall_score\n",
    "\n",
    "print(\"Precision Score:\", precision_score(y_train, y_train_pred))\n",
    "print(\"Recall Score:\", recall_score(y_train, y_train_pred))"
   ]
  },
  {
   "cell_type": "code",
   "execution_count": 21,
   "metadata": {},
   "outputs": [
    {
     "name": "stdout",
     "output_type": "stream",
     "text": [
      "F1 Score: 0.5475088418903844\n"
     ]
    }
   ],
   "source": [
    "from sklearn.metrics import f1_score\n",
    "\n",
    "print(\"F1 Score:\", f1_score(y_train, y_train_pred))"
   ]
  },
  {
   "cell_type": "code",
   "execution_count": 22,
   "metadata": {},
   "outputs": [
    {
     "data": {
      "text/plain": [
       "array([-0.80986875, -0.88933091, -1.31001232, ..., -0.9635658 ,\n",
       "        0.00581489, -0.94112986])"
      ]
     },
     "execution_count": 22,
     "metadata": {},
     "output_type": "execute_result"
    }
   ],
   "source": [
    "y_scores = sgd_clf.decision_function(df_test_1_transformed)\n",
    "y_scores"
   ]
  },
  {
   "cell_type": "code",
   "execution_count": 23,
   "metadata": {},
   "outputs": [],
   "source": [
    "y_scores = cross_val_predict(sgd_clf, X_train_transformed, y_train, cv=3,\n",
    "                             method=\"decision_function\")"
   ]
  },
  {
   "cell_type": "code",
   "execution_count": 24,
   "metadata": {},
   "outputs": [],
   "source": [
    "from sklearn.metrics import precision_recall_curve\n",
    "\n",
    "precisions, recalls, thresholds = precision_recall_curve(y_train, y_scores)"
   ]
  },
  {
   "cell_type": "code",
   "execution_count": 25,
   "metadata": {},
   "outputs": [
    {
     "data": {
      "text/plain": [
       "True"
      ]
     },
     "execution_count": 25,
     "metadata": {},
     "output_type": "execute_result"
    }
   ],
   "source": [
    "(y_train_pred == (y_scores > 0)).all()"
   ]
  },
  {
   "cell_type": "code",
   "execution_count": 26,
   "metadata": {},
   "outputs": [
    {
     "data": {
      "text/plain": [
       "0.6402355956253655"
      ]
     },
     "execution_count": 26,
     "metadata": {},
     "output_type": "execute_result"
    }
   ],
   "source": [
    "from sklearn.metrics import roc_auc_score\n",
    "\n",
    "roc_auc_score(y_train, y_scores)"
   ]
  },
  {
   "cell_type": "code",
   "execution_count": 27,
   "metadata": {},
   "outputs": [
    {
     "data": {
      "text/plain": [
       "array([0, 0, 0, ..., 0, 1, 0], dtype=int64)"
      ]
     },
     "execution_count": 27,
     "metadata": {},
     "output_type": "execute_result"
    }
   ],
   "source": [
    "submission_SGDC = sgd_clf.predict(df_test_1_transformed)\n",
    "submission_SGDC"
   ]
  },
  {
   "cell_type": "code",
   "execution_count": 32,
   "metadata": {},
   "outputs": [],
   "source": [
    "\n",
    "\n",
    "Customer_ID = df_test['Customer_id']\n",
    "my_submission_SGDC = pd.DataFrame({\n",
    "                  \"Customer_id\": Customer_ID, \n",
    "                  \"Target\": submission_SGDC})\n",
    "my_submission_SGDC.to_csv('my_submission_SGDC.csv', index=False)\n",
    "\n",
    "#my_submission_SGDC = pd.DataFrame({'Customer_id': df_test.Customer_id, 'Target': submission_SGDC})\n",
    "#my_submission_SGDC.to_csv('my_submission_SGDC.csv', index=False)\n",
    "#from google.colab import files\n",
    "#files.download(\"my_submission_SGDC.csv\")"
   ]
  },
  {
   "cell_type": "markdown",
   "metadata": {},
   "source": [
    "# KNN"
   ]
  },
  {
   "cell_type": "code",
   "execution_count": 33,
   "metadata": {},
   "outputs": [
    {
     "data": {
      "text/plain": [
       "KNeighborsClassifier(algorithm='auto', leaf_size=30, metric='minkowski',\n",
       "                     metric_params=None, n_jobs=None, n_neighbors=4, p=2,\n",
       "                     weights='distance')"
      ]
     },
     "execution_count": 33,
     "metadata": {},
     "output_type": "execute_result"
    }
   ],
   "source": [
    "from sklearn.neighbors import KNeighborsClassifier\n",
    "knn_clf = KNeighborsClassifier(weights='distance', n_neighbors=4)\n",
    "knn_clf.fit(X_train_transformed, y_train)"
   ]
  },
  {
   "cell_type": "code",
   "execution_count": 34,
   "metadata": {},
   "outputs": [],
   "source": [
    "y_knn_pred = knn_clf.predict(X_test_transformed)"
   ]
  },
  {
   "cell_type": "code",
   "execution_count": 35,
   "metadata": {},
   "outputs": [
    {
     "data": {
      "text/plain": [
       "0.5538125"
      ]
     },
     "execution_count": 35,
     "metadata": {},
     "output_type": "execute_result"
    }
   ],
   "source": [
    "from sklearn.metrics import accuracy_score\n",
    "accuracy_score(y_test, y_knn_pred)"
   ]
  },
  {
   "cell_type": "code",
   "execution_count": 36,
   "metadata": {},
   "outputs": [
    {
     "data": {
      "text/plain": [
       "array([0, 1, 0, ..., 1, 1, 0], dtype=int64)"
      ]
     },
     "execution_count": 36,
     "metadata": {},
     "output_type": "execute_result"
    }
   ],
   "source": [
    "y_knn_pred_df_test = knn_clf.predict(df_test_1_transformed)\n",
    "y_knn_pred_df_test"
   ]
  },
  {
   "cell_type": "code",
   "execution_count": 37,
   "metadata": {},
   "outputs": [
    {
     "data": {
      "text/plain": [
       "array([0.5568054 , 0.54472155, 0.53478342])"
      ]
     },
     "execution_count": 37,
     "metadata": {},
     "output_type": "execute_result"
    }
   ],
   "source": [
    "from sklearn.model_selection import cross_val_score\n",
    "cross_val_score(knn_clf, X_test_transformed, y_test, cv=3, scoring=\"accuracy\")"
   ]
  },
  {
   "cell_type": "code",
   "execution_count": 38,
   "metadata": {},
   "outputs": [],
   "source": [
    "Customer_ID = df_test['Customer_id']\n",
    "my_submission_KNN = pd.DataFrame({\n",
    "                  \"Customer_id\": Customer_ID, \n",
    "                  \"Target\": y_knn_pred_df_test})\n",
    "my_submission_KNN.to_csv('my_submission_KNN.csv', index=False)\n",
    "\n",
    "#my_submission_KNN = pd.DataFrame({'Customer_id': df_test.Customer_id, 'Target': y_knn_pred_df_test})\n",
    "#my_submission_KNN.to_csv('my_submission_KNN.csv', index=False)\n",
    "#from google.colab import files\n",
    "#files.download(\"my_submission_KNN.csv\")"
   ]
  },
  {
   "cell_type": "markdown",
   "metadata": {},
   "source": [
    "# Voting Classifiers"
   ]
  },
  {
   "cell_type": "code",
   "execution_count": 39,
   "metadata": {},
   "outputs": [],
   "source": [
    "from sklearn.ensemble import RandomForestClassifier\n",
    "from sklearn.ensemble import VotingClassifier\n",
    "from sklearn.linear_model import LogisticRegression\n",
    "from sklearn.svm import SVC\n",
    "\n",
    "log_clf = LogisticRegression(solver=\"lbfgs\", random_state=42)\n",
    "rnd_clf = RandomForestClassifier(n_estimators=100, random_state=42)\n",
    "svm_clf = SVC(gamma=\"scale\", random_state=42)\n",
    "\n",
    "voting_clf = VotingClassifier(\n",
    "    estimators=[('lr', log_clf), ('rf', rnd_clf), ('svc', svm_clf)],\n",
    "    voting='hard')"
   ]
  },
  {
   "cell_type": "code",
   "execution_count": 40,
   "metadata": {},
   "outputs": [
    {
     "data": {
      "text/plain": [
       "VotingClassifier(estimators=[('lr',\n",
       "                              LogisticRegression(C=1.0, class_weight=None,\n",
       "                                                 dual=False, fit_intercept=True,\n",
       "                                                 intercept_scaling=1,\n",
       "                                                 l1_ratio=None, max_iter=100,\n",
       "                                                 multi_class='auto',\n",
       "                                                 n_jobs=None, penalty='l2',\n",
       "                                                 random_state=42,\n",
       "                                                 solver='lbfgs', tol=0.0001,\n",
       "                                                 verbose=0, warm_start=False)),\n",
       "                             ('rf',\n",
       "                              RandomForestClassifier(bootstrap=True,\n",
       "                                                     ccp_alpha=0.0,\n",
       "                                                     class_weight=None,\n",
       "                                                     crit...\n",
       "                                                     oob_score=False,\n",
       "                                                     random_state=42, verbose=0,\n",
       "                                                     warm_start=False)),\n",
       "                             ('svc',\n",
       "                              SVC(C=1.0, break_ties=False, cache_size=200,\n",
       "                                  class_weight=None, coef0=0.0,\n",
       "                                  decision_function_shape='ovr', degree=3,\n",
       "                                  gamma='scale', kernel='rbf', max_iter=-1,\n",
       "                                  probability=False, random_state=42,\n",
       "                                  shrinking=True, tol=0.001, verbose=False))],\n",
       "                 flatten_transform=True, n_jobs=None, voting='hard',\n",
       "                 weights=None)"
      ]
     },
     "execution_count": 40,
     "metadata": {},
     "output_type": "execute_result"
    }
   ],
   "source": [
    "voting_clf.fit(X_train_transformed, y_train)\n"
   ]
  },
  {
   "cell_type": "code",
   "execution_count": 41,
   "metadata": {},
   "outputs": [
    {
     "name": "stdout",
     "output_type": "stream",
     "text": [
      "LogisticRegression 0.6145\n",
      "RandomForestClassifier 0.59275\n",
      "SVC 0.6181875\n",
      "VotingClassifier 0.6216875\n"
     ]
    }
   ],
   "source": [
    "from sklearn.metrics import accuracy_score\n",
    "\n",
    "for clf in (log_clf, rnd_clf, svm_clf, voting_clf):\n",
    "    clf.fit(X_train_transformed, y_train)\n",
    "    y_pred = clf.predict(X_test_transformed)\n",
    "    print(clf.__class__.__name__, accuracy_score(y_test, y_pred))"
   ]
  },
  {
   "cell_type": "code",
   "execution_count": 42,
   "metadata": {},
   "outputs": [],
   "source": [
    "y_pred_final_HardVoting = voting_clf.predict(df_test_1_transformed)"
   ]
  },
  {
   "cell_type": "code",
   "execution_count": 43,
   "metadata": {},
   "outputs": [
    {
     "data": {
      "text/plain": [
       "array([0, 0, 0, ..., 0, 1, 0], dtype=int64)"
      ]
     },
     "execution_count": 43,
     "metadata": {},
     "output_type": "execute_result"
    }
   ],
   "source": [
    "y_pred_final_HardVoting"
   ]
  },
  {
   "cell_type": "code",
   "execution_count": 44,
   "metadata": {},
   "outputs": [],
   "source": [
    "Customer_ID = df_test['Customer_id']\n",
    "my_submission_HardVoting = pd.DataFrame({\n",
    "                  \"Customer_id\": Customer_ID, \n",
    "                  \"Target\": y_pred_final_HardVoting})\n",
    "my_submission_HardVoting.to_csv('my_submission_HardVoting.csv', index=False)\n",
    "\n",
    "#my_submission_HardVoting = pd.DataFrame({'Customer_id': df_test.Customer_id, 'Target': y_pred_final_HardVoting})\n",
    "#my_submission_HardVoting.to_csv('my_submission_HardVoting.csv', index=False)\n",
    "#from google.colab import files\n",
    "#files.download(\"my_submission_HardVoting.csv\")"
   ]
  },
  {
   "cell_type": "code",
   "execution_count": 45,
   "metadata": {},
   "outputs": [
    {
     "data": {
      "text/plain": [
       "VotingClassifier(estimators=[('lr',\n",
       "                              LogisticRegression(C=1.0, class_weight=None,\n",
       "                                                 dual=False, fit_intercept=True,\n",
       "                                                 intercept_scaling=1,\n",
       "                                                 l1_ratio=None, max_iter=100,\n",
       "                                                 multi_class='auto',\n",
       "                                                 n_jobs=None, penalty='l2',\n",
       "                                                 random_state=42,\n",
       "                                                 solver='lbfgs', tol=0.0001,\n",
       "                                                 verbose=0, warm_start=False)),\n",
       "                             ('rf',\n",
       "                              RandomForestClassifier(bootstrap=True,\n",
       "                                                     ccp_alpha=0.0,\n",
       "                                                     class_weight=None,\n",
       "                                                     crit...\n",
       "                                                     oob_score=False,\n",
       "                                                     random_state=42, verbose=0,\n",
       "                                                     warm_start=False)),\n",
       "                             ('svc',\n",
       "                              SVC(C=1.0, break_ties=False, cache_size=200,\n",
       "                                  class_weight=None, coef0=0.0,\n",
       "                                  decision_function_shape='ovr', degree=3,\n",
       "                                  gamma='scale', kernel='rbf', max_iter=-1,\n",
       "                                  probability=True, random_state=42,\n",
       "                                  shrinking=True, tol=0.001, verbose=False))],\n",
       "                 flatten_transform=True, n_jobs=None, voting='soft',\n",
       "                 weights=None)"
      ]
     },
     "execution_count": 45,
     "metadata": {},
     "output_type": "execute_result"
    }
   ],
   "source": [
    "# soft voting\n",
    "\n",
    "log_clf = LogisticRegression(solver=\"lbfgs\", random_state=42)\n",
    "rnd_clf = RandomForestClassifier(n_estimators=100, random_state=42)\n",
    "svm_clf = SVC(gamma=\"scale\", probability=True, random_state=42)\n",
    "\n",
    "voting_clf2 = VotingClassifier(\n",
    "    estimators=[('lr', log_clf), ('rf', rnd_clf), ('svc', svm_clf)],\n",
    "    voting='soft')\n",
    "voting_clf2.fit(X_train_transformed, y_train)"
   ]
  },
  {
   "cell_type": "code",
   "execution_count": 46,
   "metadata": {},
   "outputs": [
    {
     "name": "stdout",
     "output_type": "stream",
     "text": [
      "LogisticRegression 0.6145\n",
      "RandomForestClassifier 0.59275\n",
      "SVC 0.6181875\n",
      "VotingClassifier 0.6165\n"
     ]
    }
   ],
   "source": [
    "from sklearn.metrics import accuracy_score\n",
    "\n",
    "for clf in (log_clf, rnd_clf, svm_clf, voting_clf2):\n",
    "    clf.fit(X_train_transformed, y_train)\n",
    "    y_pred = clf.predict(X_test_transformed)\n",
    "    print(clf.__class__.__name__, accuracy_score(y_test, y_pred))"
   ]
  },
  {
   "cell_type": "code",
   "execution_count": 47,
   "metadata": {},
   "outputs": [
    {
     "data": {
      "text/plain": [
       "array([0, 0, 0, ..., 0, 1, 0], dtype=int64)"
      ]
     },
     "execution_count": 47,
     "metadata": {},
     "output_type": "execute_result"
    }
   ],
   "source": [
    "y_pred_final_SoftVoting = svm_clf.predict(df_test_1_transformed)\n",
    "y_pred_final_SoftVoting"
   ]
  },
  {
   "cell_type": "code",
   "execution_count": 48,
   "metadata": {},
   "outputs": [],
   "source": [
    "Customer_ID = df_test['Customer_id']\n",
    "my_submission_SoftVoting = pd.DataFrame({\n",
    "                  \"Customer_id\": Customer_ID, \n",
    "                  \"Target\": y_pred_final_SoftVoting})\n",
    "my_submission_SoftVoting.to_csv('my_submission_SoftVoting.csv', index=False)\n",
    "\n",
    "#my_submission_SoftVoting = pd.DataFrame({'Customer_id': df_test.Customer_id, 'Target': y_pred_final_SoftVoting})\n",
    "#my_submission_SoftVoting.to_csv('my_submission_SoftVoting.csv', index=False)\n",
    "#from google.colab import files\n",
    "#files.download(\"my_submission_SoftVoting.csv\")"
   ]
  },
  {
   "cell_type": "markdown",
   "metadata": {},
   "source": [
    "# Bagging Ensembles"
   ]
  },
  {
   "cell_type": "code",
   "execution_count": 49,
   "metadata": {},
   "outputs": [],
   "source": [
    "from sklearn.ensemble import BaggingClassifier\n",
    "from sklearn.tree import DecisionTreeClassifier\n",
    "\n",
    "bag_clf = BaggingClassifier(\n",
    "    DecisionTreeClassifier(), n_estimators=500,\n",
    "    max_samples=100, bootstrap=True, random_state=42)\n",
    "bag_clf.fit(X_train_transformed, y_train)\n",
    "y_pred = bag_clf.predict(X_test_transformed)"
   ]
  },
  {
   "cell_type": "code",
   "execution_count": 50,
   "metadata": {},
   "outputs": [
    {
     "name": "stdout",
     "output_type": "stream",
     "text": [
      "0.6258125\n"
     ]
    }
   ],
   "source": [
    "from sklearn.metrics import accuracy_score\n",
    "print(accuracy_score(y_test, y_pred))"
   ]
  },
  {
   "cell_type": "code",
   "execution_count": 51,
   "metadata": {},
   "outputs": [
    {
     "name": "stdout",
     "output_type": "stream",
     "text": [
      "0.5380625\n"
     ]
    }
   ],
   "source": [
    "tree_clf = DecisionTreeClassifier(random_state=42)\n",
    "tree_clf.fit(X_train_transformed, y_train)\n",
    "y_pred_tree = tree_clf.predict(X_test_transformed)\n",
    "print(accuracy_score(y_test, y_pred_tree))"
   ]
  },
  {
   "cell_type": "markdown",
   "metadata": {},
   "source": [
    "Regular decision tree model performed worse comapared to the bagging classifier model. "
   ]
  },
  {
   "cell_type": "code",
   "execution_count": 52,
   "metadata": {},
   "outputs": [],
   "source": [
    "# Make a random forest\n",
    "\n",
    "#bag_clf = BaggingClassifier(\n",
    "#    DecisionTreeClassifier(max_features=\"sqrt\", max_leaf_nodes=16),\n",
    "#    n_estimators=500, random_state=42)"
   ]
  },
  {
   "cell_type": "code",
   "execution_count": 53,
   "metadata": {},
   "outputs": [],
   "source": [
    "#bag_clf.fit(X_train_transformed, y_train)\n",
    "#y_pred = bag_clf.predict(X_test_transformed)"
   ]
  },
  {
   "cell_type": "code",
   "execution_count": 54,
   "metadata": {},
   "outputs": [],
   "source": [
    "from sklearn.ensemble import RandomForestClassifier\n",
    "\n",
    "rnd_clf = RandomForestClassifier(n_estimators=500, max_leaf_nodes=16, random_state=42)\n",
    "rnd_clf.fit(X_train_transformed, y_train)\n",
    "\n",
    "y_pred_rf = rnd_clf.predict(X_test_transformed)"
   ]
  },
  {
   "cell_type": "code",
   "execution_count": 55,
   "metadata": {},
   "outputs": [
    {
     "name": "stdout",
     "output_type": "stream",
     "text": [
      "CompetitiveRate6 0.05462171186889403\n",
      "Product6 0.04131108578202509\n",
      "Transaction1 0.033896152424196066\n",
      "ReferenceRate 0.02121643817948723\n",
      "Product5 0.015514924114890619\n",
      "Product4 0.013592736614498446\n",
      "RateBefore 0.004902373763064334\n",
      "CompetitiveRate7 0.002802080170774556\n",
      "RegularInteractionIndicator 0.0014850213358336818\n",
      "CompetitiveRate1 0.0014377070543896333\n",
      "Transaction7 0.0013803698439623167\n",
      "Transaction6 0.0011638021397245627\n",
      "Transaction8 0.0009176747820424043\n",
      "Transaction9 0.0008188891120991244\n",
      "ExternalAccount3 0.000528174155948301\n",
      "Transaction4 0.0005192690731184816\n",
      "Transaction5 0.0004427886450015501\n",
      "CompetitiveRate5 0.00029670008606727457\n",
      "ExternalAccount4 0.00027512644316477175\n",
      "CompetitiveRate4 0.00022273755747741612\n",
      "ExternalAccount5 0.0001820814055819906\n",
      "ExternalAccount6 0.00017895275909870793\n",
      "ExternalAccount2 0.0001407275458108239\n",
      "Transaction2 0.00013319869747337084\n",
      "Transaction3 9.472171784079228e-05\n",
      "ExternalAccount1 9.357551957313676e-05\n",
      "CompetitiveRate2 9.284632889143638e-05\n",
      "PreviousCampaignResult 8.406986769228049e-05\n",
      "ExternalAccount7 8.139755186539307e-05\n",
      "CompetitiveRate3 8.131495861426132e-05\n",
      "Product2 6.987466024579746e-05\n",
      "Balance 3.809185701012639e-05\n",
      "Product1 3.6490281076590684e-05\n",
      "ActivityIndicator 3.6240483538162925e-05\n",
      "Product3 0.0\n"
     ]
    }
   ],
   "source": [
    "for name, score in sorted(zip(X_train.columns, rnd_clf.feature_importances_), key=lambda x: x[1],reverse=True):\n",
    "    print(name, score)"
   ]
  },
  {
   "cell_type": "code",
   "execution_count": 56,
   "metadata": {},
   "outputs": [
    {
     "data": {
      "text/plain": [
       "array([3.80918570e-05, 8.40698677e-05, 3.64902811e-05, 6.98746602e-05,\n",
       "       0.00000000e+00, 1.35927366e-02, 1.55149241e-02, 4.13110858e-02,\n",
       "       3.38961524e-02, 1.33198697e-04, 9.47217178e-05, 5.19269073e-04,\n",
       "       4.42788645e-04, 1.16380214e-03, 1.38036984e-03, 9.17674782e-04,\n",
       "       8.18889112e-04, 9.35755196e-05, 1.40727546e-04, 5.28174156e-04,\n",
       "       2.75126443e-04, 1.82081406e-04, 1.78952759e-04, 8.13975519e-05,\n",
       "       3.62404835e-05, 1.48502134e-03, 1.43770705e-03, 9.28463289e-05,\n",
       "       8.13149586e-05, 2.22737557e-04, 2.96700086e-04, 5.46217119e-02,\n",
       "       2.80208017e-03, 4.90237376e-03, 2.12164382e-02, 3.77397494e-01,\n",
       "       9.24129754e-02, 3.50222870e-02, 5.91657273e-03, 8.81054605e-03,\n",
       "       2.22587035e-02, 2.54819589e-01, 3.30799134e-03, 1.82485045e-04,\n",
       "       3.06736979e-04, 1.02441695e-04, 2.35088114e-04, 1.01078039e-04,\n",
       "       9.93450904e-05, 6.42870067e-05, 2.73032248e-04])"
      ]
     },
     "execution_count": 56,
     "metadata": {},
     "output_type": "execute_result"
    }
   ],
   "source": [
    "rnd_clf.feature_importances_"
   ]
  },
  {
   "cell_type": "code",
   "execution_count": 57,
   "metadata": {},
   "outputs": [
    {
     "data": {
      "text/plain": [
       "0.6218125"
      ]
     },
     "execution_count": 57,
     "metadata": {},
     "output_type": "execute_result"
    }
   ],
   "source": [
    "accuracy_score(y_test, y_pred_rf)"
   ]
  },
  {
   "cell_type": "code",
   "execution_count": 58,
   "metadata": {},
   "outputs": [
    {
     "data": {
      "text/plain": [
       "array([0, 0, 0, ..., 0, 1, 0], dtype=int64)"
      ]
     },
     "execution_count": 58,
     "metadata": {},
     "output_type": "execute_result"
    }
   ],
   "source": [
    "y_pred_final_Bagging = bag_clf.predict(df_test_1_transformed)\n",
    "y_pred_final_Bagging"
   ]
  },
  {
   "cell_type": "code",
   "execution_count": 59,
   "metadata": {},
   "outputs": [],
   "source": [
    "Customer_ID = df_test['Customer_id']\n",
    "my_submission_Bagging = pd.DataFrame({\n",
    "                  \"Customer_id\": Customer_ID, \n",
    "                  \"Target\": y_pred_final_Bagging})\n",
    "my_submission_Bagging.to_csv('my_submission_Bagging.csv', index=False)\n",
    "\n",
    "#my_submission_Bagging = pd.DataFrame({'Customer_id': df_test.Customer_id, 'Target': y_pred_final_Bagging})\n",
    "#my_submission_Bagging.to_csv('my_submission_Bagging.csv', index=False)\n",
    "#from google.colab import files\n",
    "#files.download(\"my_submission_Bagging.csv\")"
   ]
  },
  {
   "cell_type": "code",
   "execution_count": 60,
   "metadata": {},
   "outputs": [
    {
     "data": {
      "text/plain": [
       "0.5995124898435384"
      ]
     },
     "execution_count": 60,
     "metadata": {},
     "output_type": "execute_result"
    }
   ],
   "source": [
    "out_bag_clf = BaggingClassifier(\n",
    "    DecisionTreeClassifier(), n_estimators=500,\n",
    "    bootstrap=True, oob_score=True, random_state=40)\n",
    "out_bag_clf.fit(X_train_transformed, y_train)\n",
    "out_bag_clf.oob_score_"
   ]
  },
  {
   "cell_type": "code",
   "execution_count": 61,
   "metadata": {},
   "outputs": [
    {
     "data": {
      "text/plain": [
       "array([[0.39306358, 0.60693642],\n",
       "       [0.52525253, 0.47474747],\n",
       "       [0.36686391, 0.63313609],\n",
       "       ...,\n",
       "       [0.43684211, 0.56315789],\n",
       "       [0.89534884, 0.10465116],\n",
       "       [0.51851852, 0.48148148]])"
      ]
     },
     "execution_count": 61,
     "metadata": {},
     "output_type": "execute_result"
    }
   ],
   "source": [
    "out_bag_clf.oob_decision_function_"
   ]
  },
  {
   "cell_type": "code",
   "execution_count": 62,
   "metadata": {},
   "outputs": [
    {
     "data": {
      "text/plain": [
       "0.602125"
      ]
     },
     "execution_count": 62,
     "metadata": {},
     "output_type": "execute_result"
    }
   ],
   "source": [
    "y_pred_outofbag = out_bag_clf.predict(X_test_transformed)\n",
    "accuracy_score(y_test, y_pred_outofbag)"
   ]
  },
  {
   "cell_type": "code",
   "execution_count": 63,
   "metadata": {},
   "outputs": [
    {
     "data": {
      "text/plain": [
       "array([0, 0, 0, ..., 1, 1, 0], dtype=int64)"
      ]
     },
     "execution_count": 63,
     "metadata": {},
     "output_type": "execute_result"
    }
   ],
   "source": [
    "y_pred_final_outofbag = out_bag_clf.predict(df_test_1_transformed)\n",
    "y_pred_final_outofbag"
   ]
  },
  {
   "cell_type": "code",
   "execution_count": 97,
   "metadata": {},
   "outputs": [],
   "source": [
    "Customer_ID = df_test['Customer_id']\n",
    "my_submission_outofbag = pd.DataFrame({\n",
    "                  \"Customer_id\": Customer_ID, \n",
    "                  \"Target\": y_pred_final_outofbag})\n",
    "my_submission_outofbag.to_csv('my_submission_outofbag.csv', index=False)\n",
    "\n",
    "\n",
    "#my_submission_outofbag = pd.DataFrame({'Customer_id': df_test.Customer_id, 'Target': y_pred_final_outofbag})\n",
    "#my_submission_outofbag.to_csv('my_submission_outofbag.csv', index=False)\n",
    "#from google.colab import files\n",
    "#files.download(\"my_submission_outofbag.csv\")"
   ]
  },
  {
   "cell_type": "markdown",
   "metadata": {},
   "source": [
    "# In-Depth Import Libraries "
   ]
  },
  {
   "cell_type": "code",
   "execution_count": 65,
   "metadata": {},
   "outputs": [],
   "source": [
    "#import the libraries for all the classifiers.\n",
    "\n",
    "from sklearn.ensemble import RandomForestClassifier\n",
    "from sklearn.ensemble import AdaBoostClassifier\n",
    "from sklearn.ensemble import ExtraTreesClassifier\n",
    "from sklearn.ensemble import GradientBoostingClassifier\n",
    "from sklearn.linear_model import LogisticRegression\n",
    "from sklearn.model_selection import GridSearchCV\n",
    "from sklearn.model_selection import StratifiedShuffleSplit"
   ]
  },
  {
   "cell_type": "markdown",
   "metadata": {},
   "source": [
    "# Random Forest - In depth"
   ]
  },
  {
   "cell_type": "code",
   "execution_count": 66,
   "metadata": {},
   "outputs": [
    {
     "name": "stdout",
     "output_type": "stream",
     "text": [
      "X_train.shape: (47999, 35)\n",
      "X_nontrain.shape: (16000, 35)\n",
      "y_train.shape: (47999,)\n",
      "y_nontrain.shape: (16000,)\n",
      "X_stack.shape: (12000, 35)\n",
      "X_test.shape: (4000, 35)\n",
      "y_stack.shape: (12000,)\n",
      "y_test.shape: (4000,)\n"
     ]
    }
   ],
   "source": [
    "X_train, X_nontrain, y_train, y_nontrain = train_test_split(X, y, test_size=0.25, random_state=10086, stratify=y) #stratified sampling based on the target\n",
    "print(f\"X_train.shape: {X_train.shape}\")\n",
    "print(f\"X_nontrain.shape: {X_nontrain.shape}\")\n",
    "print(f\"y_train.shape: {y_train.shape}\")\n",
    "print(f\"y_nontrain.shape: {y_nontrain.shape}\")\n",
    "\n",
    "X_stack, X_test, y_stack, y_test = train_test_split(X_nontrain, y_nontrain, test_size=0.25, random_state=10086, stratify=y_nontrain) #stratified sampling based on the target\n",
    "print(f\"X_stack.shape: {X_stack.shape}\")\n",
    "print(f\"X_test.shape: {X_test.shape}\")\n",
    "print(f\"y_stack.shape: {y_stack.shape}\")\n",
    "print(f\"y_test.shape: {y_test.shape}\")"
   ]
  },
  {
   "cell_type": "code",
   "execution_count": 67,
   "metadata": {},
   "outputs": [
    {
     "name": "stdout",
     "output_type": "stream",
     "text": [
      "X_train_transformed.shape: (47999, 51)\n",
      "X_test_transformed.shape: (4000, 51)\n",
      "X_stack_transformed.shape: (12000, 51)\n"
     ]
    }
   ],
   "source": [
    "pipeline_full.fit(X_train)\n",
    "X_train_transformed = pipeline_full.transform(X_train)\n",
    "X_stack_transformed = pipeline_full.transform(X_stack)\n",
    "X_test_transformed = pipeline_full.transform(X_test)\n",
    "\n",
    "\n",
    "print(f\"X_train_transformed.shape: {X_train_transformed.shape}\")\n",
    "print(f\"X_test_transformed.shape: {X_test_transformed.shape}\")\n",
    "print(f\"X_stack_transformed.shape: {X_stack_transformed.shape}\")\n"
   ]
  },
  {
   "cell_type": "code",
   "execution_count": 68,
   "metadata": {},
   "outputs": [
    {
     "name": "stdout",
     "output_type": "stream",
     "text": [
      "Fitting 4 folds for each of 288 candidates, totalling 1152 fits\n"
     ]
    },
    {
     "name": "stderr",
     "output_type": "stream",
     "text": [
      "[Parallel(n_jobs=-1)]: Using backend LokyBackend with 24 concurrent workers.\n",
      "[Parallel(n_jobs=-1)]: Done 114 tasks      | elapsed:   10.0s\n",
      "[Parallel(n_jobs=-1)]: Done 317 tasks      | elapsed:   30.8s\n",
      "[Parallel(n_jobs=-1)]: Done 600 tasks      | elapsed:   53.3s\n",
      "[Parallel(n_jobs=-1)]: Done 965 tasks      | elapsed:  1.5min\n",
      "[Parallel(n_jobs=-1)]: Done 1152 out of 1152 | elapsed:  1.9min finished\n"
     ]
    },
    {
     "name": "stdout",
     "output_type": "stream",
     "text": [
      "{'max_depth': 10, 'max_features': 0.5, 'max_leaf_nodes': 10, 'min_samples_leaf': 0.1, 'min_samples_split': 0.1, 'n_estimators': 200, 'oob_score': True}\n",
      "RandomForestClassifier(bootstrap=True, ccp_alpha=0.0, class_weight=None,\n",
      "                       criterion='gini', max_depth=10, max_features=0.5,\n",
      "                       max_leaf_nodes=10, max_samples=None,\n",
      "                       min_impurity_decrease=0.0, min_impurity_split=None,\n",
      "                       min_samples_leaf=0.1, min_samples_split=0.1,\n",
      "                       min_weight_fraction_leaf=0.0, n_estimators=200,\n",
      "                       n_jobs=None, oob_score=True, random_state=42, verbose=0,\n",
      "                       warm_start=False)\n"
     ]
    }
   ],
   "source": [
    "# Design the random forest classifier\n",
    "\n",
    "# Random Forest Classifier\n",
    "\n",
    "n_estimators = [10, 200]\n",
    "max_features = [0.1, 0.5]\n",
    "max_depth = [2, 10, 20] \n",
    "oob_score = [True, False]\n",
    "min_samples_split = [0.1, 0.5]\n",
    "min_samples_leaf = [0.1, 0.5]\n",
    "max_leaf_nodes = [2, 10, 100]\n",
    "\n",
    "parameter_random_forest = {'n_estimators' : n_estimators, 'max_features' : max_features,\n",
    "                     'max_depth' : max_depth, 'min_samples_split' : min_samples_split,\n",
    "                    'oob_score' : oob_score, 'min_samples_leaf': min_samples_leaf, \n",
    "                     'max_leaf_nodes' : max_leaf_nodes}\n",
    "             \n",
    "Random_Forest_Classifier = RandomForestClassifier(random_state = 42)\n",
    "\n",
    "#use grid search to tune the model|\n",
    "\n",
    "grid_search_RndmForest = GridSearchCV(Random_Forest_Classifier,parameter_random_forest, cv = 4, scoring='roc_auc', refit = True,\n",
    "                                     n_jobs = -1, verbose=2)\n",
    "\n",
    "grid_search_RndmForest.fit(X_train_transformed,y_train)\n",
    "             \n",
    "forest_best_params_ = grid_search_RndmForest.best_params_\n",
    "forest_best_estimators_ = grid_search_RndmForest.best_estimator_\n",
    "\n",
    "print(forest_best_params_)\n",
    "print(forest_best_estimators_)"
   ]
  },
  {
   "cell_type": "code",
   "execution_count": 69,
   "metadata": {},
   "outputs": [
    {
     "name": "stdout",
     "output_type": "stream",
     "text": [
      "0.6150833333333333\n"
     ]
    }
   ],
   "source": [
    "#Now Predict on the Stack Dataset\n",
    "from sklearn.metrics import accuracy_score\n",
    "Random_Forest_estimators = forest_best_estimators_\n",
    "y_estimator_forest = Random_Forest_estimators.predict(X_stack_transformed)\n",
    "print(accuracy_score(y_stack, y_estimator_forest))"
   ]
  },
  {
   "cell_type": "code",
   "execution_count": 70,
   "metadata": {},
   "outputs": [
    {
     "name": "stdout",
     "output_type": "stream",
     "text": [
      "0.61175\n"
     ]
    }
   ],
   "source": [
    "# Test on the Test Data\n",
    "y_final_estimator_forest = Random_Forest_estimators.predict(X_test_transformed)\n",
    "print(accuracy_score(y_test, y_final_estimator_forest))"
   ]
  },
  {
   "cell_type": "code",
   "execution_count": 71,
   "metadata": {},
   "outputs": [
    {
     "name": "stdout",
     "output_type": "stream",
     "text": [
      "CompetitiveRate6 0.03562162916470827\n",
      "Transaction1 0.009497092610830232\n",
      "Product6 0.003737951983880884\n",
      "Product5 0.0006075055141721476\n",
      "Product4 0.00021801763059957672\n",
      "CompetitiveRate1 9.426543030141179e-05\n",
      "ExternalAccount3 2.9683134903385734e-05\n",
      "Balance 0.0\n",
      "PreviousCampaignResult 0.0\n",
      "Product1 0.0\n",
      "Product2 0.0\n",
      "Product3 0.0\n",
      "Transaction2 0.0\n",
      "Transaction3 0.0\n",
      "Transaction4 0.0\n",
      "Transaction5 0.0\n",
      "Transaction6 0.0\n",
      "Transaction7 0.0\n",
      "Transaction8 0.0\n",
      "Transaction9 0.0\n",
      "ExternalAccount1 0.0\n",
      "ExternalAccount2 0.0\n",
      "ExternalAccount4 0.0\n",
      "ExternalAccount5 0.0\n",
      "ExternalAccount6 0.0\n",
      "ExternalAccount7 0.0\n",
      "ActivityIndicator 0.0\n",
      "RegularInteractionIndicator 0.0\n",
      "CompetitiveRate2 0.0\n",
      "CompetitiveRate3 0.0\n",
      "CompetitiveRate4 0.0\n",
      "CompetitiveRate5 0.0\n",
      "CompetitiveRate7 0.0\n",
      "RateBefore 0.0\n",
      "ReferenceRate 0.0\n"
     ]
    }
   ],
   "source": [
    "for name, score in sorted(zip(X_stack.columns, Random_Forest_estimators.feature_importances_), key=lambda x: x[1],reverse=True):\n",
    "    print(name, score)"
   ]
  },
  {
   "cell_type": "code",
   "execution_count": 72,
   "metadata": {},
   "outputs": [],
   "source": [
    "y_final_stack_estimator_forest = Random_Forest_estimators.predict(df_test_1_transformed)"
   ]
  },
  {
   "cell_type": "code",
   "execution_count": null,
   "metadata": {},
   "outputs": [],
   "source": []
  },
  {
   "cell_type": "code",
   "execution_count": null,
   "metadata": {},
   "outputs": [],
   "source": []
  },
  {
   "cell_type": "markdown",
   "metadata": {},
   "source": [
    "# Adaboost - In Depth"
   ]
  },
  {
   "cell_type": "code",
   "execution_count": 73,
   "metadata": {},
   "outputs": [
    {
     "name": "stdout",
     "output_type": "stream",
     "text": [
      "Fitting 4 folds for each of 12 candidates, totalling 48 fits\n"
     ]
    },
    {
     "name": "stderr",
     "output_type": "stream",
     "text": [
      "[Parallel(n_jobs=-1)]: Using backend LokyBackend with 24 concurrent workers.\n",
      "[Parallel(n_jobs=-1)]: Done  26 out of  48 | elapsed:  1.7min remaining:  1.5min\n",
      "[Parallel(n_jobs=-1)]: Done  48 out of  48 | elapsed:  2.1min finished\n"
     ]
    },
    {
     "name": "stdout",
     "output_type": "stream",
     "text": [
      "{'algorithm': 'SAMME.R', 'learning_rate': 0.1, 'n_estimators': 700}\n",
      "AdaBoostClassifier(algorithm='SAMME.R', base_estimator=None, learning_rate=0.1,\n",
      "                   n_estimators=700, random_state=42)\n"
     ]
    }
   ],
   "source": [
    "from sklearn.ensemble import AdaBoostClassifier\n",
    "\n",
    "n_estimators = [700, 100]\n",
    "learning_rate = [0.001, 0.01, 0.1]\n",
    "algorithm = ['SAMME', 'SAMME.R']\n",
    "\n",
    "Ada_Classifer = AdaBoostClassifier(random_state = 42)\n",
    "parameter_Ada_Classifer = {'n_estimators' : n_estimators, 'learning_rate' : learning_rate, 'algorithm' : algorithm}\n",
    "grid_search_AdaClassifier = GridSearchCV(Ada_Classifer, parameter_Ada_Classifer, cv = 4, scoring='roc_auc', refit = True, n_jobs = -1, verbose = 2)\n",
    "grid_search_AdaClassifier.fit(X_train_transformed,y_train)\n",
    "\n",
    "AdaClassifier_best_params_ = grid_search_AdaClassifier.best_params_\n",
    "AdaClassifier_best_estimators_ = grid_search_AdaClassifier.best_estimator_\n",
    "print(AdaClassifier_best_params_)\n",
    "print(AdaClassifier_best_estimators_)"
   ]
  },
  {
   "cell_type": "code",
   "execution_count": 74,
   "metadata": {},
   "outputs": [
    {
     "name": "stdout",
     "output_type": "stream",
     "text": [
      "0.6235833333333334\n"
     ]
    }
   ],
   "source": [
    "#check accuracy on stack dataset\n",
    "AdaClassifier_Estimators = AdaClassifier_best_estimators_\n",
    "y_estimator_ada = AdaClassifier_Estimators.predict(X_stack_transformed)\n",
    "print(accuracy_score(y_stack, y_estimator_ada))"
   ]
  },
  {
   "cell_type": "code",
   "execution_count": 75,
   "metadata": {},
   "outputs": [
    {
     "name": "stdout",
     "output_type": "stream",
     "text": [
      "0.62\n"
     ]
    }
   ],
   "source": [
    "# Check the accuracy on the Test Data\n",
    "y_final_estimator_ada = AdaClassifier_Estimators.predict(X_test_transformed)\n",
    "print(accuracy_score(y_test, y_final_estimator_ada))"
   ]
  },
  {
   "cell_type": "code",
   "execution_count": 76,
   "metadata": {},
   "outputs": [
    {
     "name": "stdout",
     "output_type": "stream",
     "text": [
      "CompetitiveRate6 0.11714285714285715\n",
      "ReferenceRate 0.047142857142857146\n",
      "RateBefore 0.045714285714285714\n",
      "CompetitiveRate7 0.027142857142857142\n",
      "Product2 0.018571428571428572\n",
      "Product4 0.018571428571428572\n",
      "Product5 0.014285714285714285\n",
      "Transaction1 0.014285714285714285\n",
      "Transaction6 0.007142857142857143\n",
      "CompetitiveRate1 0.007142857142857143\n",
      "ExternalAccount6 0.005714285714285714\n",
      "RegularInteractionIndicator 0.005714285714285714\n",
      "CompetitiveRate4 0.005714285714285714\n",
      "Transaction9 0.004285714285714286\n",
      "CompetitiveRate5 0.004285714285714286\n",
      "Product6 0.002857142857142857\n",
      "Transaction3 0.002857142857142857\n",
      "Transaction5 0.002857142857142857\n",
      "Transaction4 0.0014285714285714286\n",
      "Transaction7 0.0014285714285714286\n",
      "Transaction8 0.0014285714285714286\n",
      "ExternalAccount5 0.0014285714285714286\n",
      "Balance 0.0\n",
      "PreviousCampaignResult 0.0\n",
      "Product1 0.0\n",
      "Product3 0.0\n",
      "Transaction2 0.0\n",
      "ExternalAccount1 0.0\n",
      "ExternalAccount2 0.0\n",
      "ExternalAccount3 0.0\n",
      "ExternalAccount4 0.0\n",
      "ExternalAccount7 0.0\n",
      "ActivityIndicator 0.0\n",
      "CompetitiveRate2 0.0\n",
      "CompetitiveRate3 0.0\n"
     ]
    }
   ],
   "source": [
    "for name, score in sorted(zip(X_stack.columns, AdaClassifier_Estimators.feature_importances_), key=lambda x: x[1],reverse=True):\n",
    "    print(name, score)"
   ]
  },
  {
   "cell_type": "code",
   "execution_count": 77,
   "metadata": {},
   "outputs": [],
   "source": [
    "y_final_stack_estimator_adaboost = AdaClassifier_Estimators.predict(df_test_1_transformed)"
   ]
  },
  {
   "cell_type": "code",
   "execution_count": null,
   "metadata": {},
   "outputs": [],
   "source": []
  },
  {
   "cell_type": "code",
   "execution_count": null,
   "metadata": {},
   "outputs": [],
   "source": []
  },
  {
   "cell_type": "markdown",
   "metadata": {},
   "source": [
    "# Extra Trees Classifier - In Depth"
   ]
  },
  {
   "cell_type": "code",
   "execution_count": 78,
   "metadata": {},
   "outputs": [
    {
     "name": "stdout",
     "output_type": "stream",
     "text": [
      "Fitting 4 folds for each of 384 candidates, totalling 1536 fits\n"
     ]
    },
    {
     "name": "stderr",
     "output_type": "stream",
     "text": [
      "[Parallel(n_jobs=-1)]: Using backend LokyBackend with 24 concurrent workers.\n",
      "[Parallel(n_jobs=-1)]: Done 114 tasks      | elapsed:  1.1min\n",
      "[Parallel(n_jobs=-1)]: Done 317 tasks      | elapsed:  3.8min\n",
      "[Parallel(n_jobs=-1)]: Done 600 tasks      | elapsed: 10.5min\n",
      "[Parallel(n_jobs=-1)]: Done 965 tasks      | elapsed: 19.1min\n",
      "[Parallel(n_jobs=-1)]: Done 1410 tasks      | elapsed: 35.7min\n",
      "[Parallel(n_jobs=-1)]: Done 1536 out of 1536 | elapsed: 40.5min finished\n"
     ]
    },
    {
     "name": "stdout",
     "output_type": "stream",
     "text": [
      "{'max_depth': 5, 'max_features': 1.0, 'min_samples_leaf': 0.0001, 'min_samples_split': 0.1, 'n_estimators': 400}\n",
      "ExtraTreesClassifier(bootstrap=False, ccp_alpha=0.0, class_weight=None,\n",
      "                     criterion='gini', max_depth=5, max_features=1.0,\n",
      "                     max_leaf_nodes=None, max_samples=None,\n",
      "                     min_impurity_decrease=0.0, min_impurity_split=None,\n",
      "                     min_samples_leaf=0.0001, min_samples_split=0.1,\n",
      "                     min_weight_fraction_leaf=0.0, n_estimators=400,\n",
      "                     n_jobs=None, oob_score=False, random_state=42, verbose=0,\n",
      "                     warm_start=False)\n"
     ]
    }
   ],
   "source": [
    "Extra_Classifier = ExtraTreesClassifier(random_state = 42)\n",
    "\n",
    "n_estimators = [400, 700, 1000]\n",
    "max_features = [0.1, 0.3, 0.5, 1.0]\n",
    "max_depth = [2, 5]\n",
    "min_samples_split = [0.1, 0.3, 0.5, 1.0]\n",
    "min_samples_leaf = [0.0001, 0.001, 0.1, 1.0] # Mhm, this one leads to accuracy of test and train sets being the same.|\n",
    "\n",
    "parameter_Extra_Classifier = {'n_estimators' : n_estimators, 'max_features' : max_features,\n",
    "                         'max_depth' : max_depth, 'min_samples_split' : min_samples_split,\n",
    "                         'min_samples_leaf' : min_samples_leaf}\n",
    "\n",
    "grid_search_ExtraClassifier = GridSearchCV(Extra_Classifier, parameter_Extra_Classifier, cv = 4, scoring='roc_auc', \n",
    "                               refit = True, n_jobs = -1, verbose = 2)\n",
    "grid_search_ExtraClassifier.fit(X_train_transformed,y_train)\n",
    "\n",
    "Extra_Classifier_best_params_ = grid_search_ExtraClassifier.best_params_\n",
    "Extra_Classifier_best_estimators_ = grid_search_ExtraClassifier.best_estimator_\n",
    "print(Extra_Classifier_best_params_)\n",
    "print(Extra_Classifier_best_estimators_)"
   ]
  },
  {
   "cell_type": "code",
   "execution_count": 79,
   "metadata": {},
   "outputs": [
    {
     "name": "stdout",
     "output_type": "stream",
     "text": [
      "0.6020833333333333\n"
     ]
    }
   ],
   "source": [
    "#check accuracy on stack data\n",
    "ExtraClassifier_Estimators = Extra_Classifier_best_estimators_\n",
    "y_estimator_extra = ExtraClassifier_Estimators.predict(X_stack_transformed)\n",
    "print(accuracy_score(y_stack, y_estimator_extra))"
   ]
  },
  {
   "cell_type": "code",
   "execution_count": 80,
   "metadata": {},
   "outputs": [
    {
     "name": "stdout",
     "output_type": "stream",
     "text": [
      "0.6045\n"
     ]
    }
   ],
   "source": [
    "# check the accuracy on the Test Data\n",
    "y_final_estimator_extra = ExtraClassifier_Estimators.predict(X_test_transformed)\n",
    "print(accuracy_score(y_test, y_final_estimator_extra))"
   ]
  },
  {
   "cell_type": "code",
   "execution_count": 81,
   "metadata": {},
   "outputs": [
    {
     "name": "stdout",
     "output_type": "stream",
     "text": [
      "Product6 0.20966374947192437\n",
      "Transaction1 0.19908086209271433\n",
      "CompetitiveRate6 0.1351370508862961\n",
      "Product5 0.03932865975993817\n",
      "Product4 0.03607610716999099\n",
      "Transaction7 0.005829291222279885\n",
      "Transaction6 0.005559208278822481\n",
      "ExternalAccount3 0.0022787168063889206\n",
      "ExternalAccount4 0.0021001084232334885\n",
      "Transaction4 0.0019145898901727324\n",
      "Transaction5 0.0012037246900454912\n",
      "Transaction8 0.0005860904590217055\n",
      "Transaction9 0.0005641156718250319\n",
      "RegularInteractionIndicator 0.00043649209158801687\n",
      "RateBefore 0.0004357850201825488\n",
      "ReferenceRate 0.0003715801217798446\n",
      "CompetitiveRate1 0.00025190173056178155\n",
      "PreviousCampaignResult 9.429736843790148e-05\n",
      "Balance 7.967911851821333e-05\n",
      "Transaction2 5.655490376298945e-05\n",
      "CompetitiveRate7 4.2327480642043035e-05\n",
      "CompetitiveRate5 3.149062105837833e-05\n",
      "CompetitiveRate4 2.183617741656478e-05\n",
      "Transaction3 1.5280183079541534e-05\n",
      "CompetitiveRate3 6.29870833298017e-06\n",
      "ExternalAccount5 3.406464912741153e-06\n",
      "Product1 0.0\n",
      "Product2 0.0\n",
      "Product3 0.0\n",
      "ExternalAccount1 0.0\n",
      "ExternalAccount2 0.0\n",
      "ExternalAccount6 0.0\n",
      "ExternalAccount7 0.0\n",
      "ActivityIndicator 0.0\n",
      "CompetitiveRate2 0.0\n"
     ]
    }
   ],
   "source": [
    "for name, score in sorted(zip(X_stack.columns, ExtraClassifier_Estimators.feature_importances_), key=lambda x: x[1],reverse=True):\n",
    "    print(name, score)"
   ]
  },
  {
   "cell_type": "code",
   "execution_count": 82,
   "metadata": {},
   "outputs": [],
   "source": [
    "y_final_stack_estimator_extra = ExtraClassifier_Estimators.predict(df_test_1_transformed)"
   ]
  },
  {
   "cell_type": "code",
   "execution_count": null,
   "metadata": {},
   "outputs": [],
   "source": []
  },
  {
   "cell_type": "markdown",
   "metadata": {},
   "source": [
    "# Gradient Boosting Classifier - In Depth"
   ]
  },
  {
   "cell_type": "code",
   "execution_count": 83,
   "metadata": {},
   "outputs": [
    {
     "name": "stdout",
     "output_type": "stream",
     "text": [
      "Fitting 4 folds for each of 384 candidates, totalling 1536 fits\n"
     ]
    },
    {
     "name": "stderr",
     "output_type": "stream",
     "text": [
      "[Parallel(n_jobs=-1)]: Using backend LokyBackend with 24 concurrent workers.\n",
      "[Parallel(n_jobs=-1)]: Done 114 tasks      | elapsed:  2.6min\n",
      "[Parallel(n_jobs=-1)]: Done 317 tasks      | elapsed:  8.0min\n",
      "[Parallel(n_jobs=-1)]: Done 600 tasks      | elapsed: 15.3min\n",
      "[Parallel(n_jobs=-1)]: Done 965 tasks      | elapsed: 24.5min\n",
      "[Parallel(n_jobs=-1)]: Done 1410 tasks      | elapsed: 35.7min\n",
      "[Parallel(n_jobs=-1)]: Done 1536 out of 1536 | elapsed: 39.5min finished\n"
     ]
    },
    {
     "name": "stdout",
     "output_type": "stream",
     "text": [
      "{'learning_rate': 0.1, 'max_depth': 2, 'max_features': 7, 'max_leaf_nodes': 3, 'min_samples_leaf': 3, 'min_samples_split': 0.1, 'n_estimators': 1200}\n",
      "GradientBoostingClassifier(ccp_alpha=0.0, criterion='friedman_mse', init=None,\n",
      "                           learning_rate=0.1, loss='deviance', max_depth=2,\n",
      "                           max_features=7, max_leaf_nodes=3,\n",
      "                           min_impurity_decrease=0.0, min_impurity_split=None,\n",
      "                           min_samples_leaf=3, min_samples_split=0.1,\n",
      "                           min_weight_fraction_leaf=0.0, n_estimators=1200,\n",
      "                           n_iter_no_change=None, presort='deprecated',\n",
      "                           random_state=42, subsample=1.0, tol=0.0001,\n",
      "                           validation_fraction=0.1, verbose=0,\n",
      "                           warm_start=False)\n"
     ]
    }
   ],
   "source": [
    "# Gradient Boosting Classifier\n",
    "\n",
    "GB_Classifier = GradientBoostingClassifier(random_state = 42)\n",
    "\n",
    "n_estimators = [500, 1200, 2000]\n",
    "learning_rate = [0.1, 0.0001, 0.001, 0.1]\n",
    "max_depth = [2, 20]\n",
    "min_samples_split = [0.1, 0.4]\n",
    "min_samples_leaf = [2, 3]\n",
    "max_features = [4, 7]\n",
    "max_leaf_nodes = [2, 3]\n",
    "                            \n",
    "parameter_GB_Classifier = {'n_estimators' : n_estimators, 'learning_rate' : learning_rate,\n",
    "                              'max_depth' : max_depth, 'min_samples_split' : min_samples_split,\n",
    "                              'min_samples_leaf' : min_samples_leaf, 'max_features' : max_features,\n",
    "                              'max_leaf_nodes' : max_leaf_nodes}\n",
    "\n",
    "grid_search_GB_Classifier = GridSearchCV(GB_Classifier, parameter_GB_Classifier, cv = 4, scoring='roc_auc', \n",
    "                               refit = True, n_jobs = -1, verbose = 2)\n",
    "\n",
    "grid_search_GB_Classifier.fit(X_train_transformed,y_train)\n",
    "\n",
    "GB_Classifier_best_params_ = grid_search_GB_Classifier.best_params_\n",
    "\n",
    "GB_Classifier_best_estimators_ = grid_search_GB_Classifier.best_estimator_\n",
    "\n",
    "print(GB_Classifier_best_params_)\n",
    "\n",
    "print(GB_Classifier_best_estimators_)"
   ]
  },
  {
   "cell_type": "code",
   "execution_count": 84,
   "metadata": {},
   "outputs": [
    {
     "name": "stdout",
     "output_type": "stream",
     "text": [
      "0.6268333333333334\n"
     ]
    }
   ],
   "source": [
    "#Now Predict on the Stack Dataset\n",
    "GB_estimators = GB_Classifier_best_estimators_\n",
    "y_estimator_GB = GB_estimators.predict(X_stack_transformed)\n",
    "print(accuracy_score(y_stack, y_estimator_GB))"
   ]
  },
  {
   "cell_type": "code",
   "execution_count": 85,
   "metadata": {},
   "outputs": [
    {
     "name": "stdout",
     "output_type": "stream",
     "text": [
      "0.6255\n"
     ]
    }
   ],
   "source": [
    "# check the accuracy on the Test Data\n",
    "y_final_estimator_GB = GB_estimators.predict(X_test_transformed)\n",
    "print(accuracy_score(y_test, y_final_estimator_GB))"
   ]
  },
  {
   "cell_type": "code",
   "execution_count": 86,
   "metadata": {},
   "outputs": [],
   "source": [
    "y_final_stack_estimator_GB = GB_estimators.predict(df_test_1_transformed)"
   ]
  },
  {
   "cell_type": "code",
   "execution_count": null,
   "metadata": {},
   "outputs": [],
   "source": []
  },
  {
   "cell_type": "markdown",
   "metadata": {},
   "source": [
    "# Combining Models"
   ]
  },
  {
   "cell_type": "code",
   "execution_count": 87,
   "metadata": {},
   "outputs": [
    {
     "name": "stdout",
     "output_type": "stream",
     "text": [
      "(12000,)\n",
      "(12000,)\n",
      "(12000,)\n",
      "(12000,)\n"
     ]
    }
   ],
   "source": [
    "print(y_estimator_forest.shape)\n",
    "print(y_estimator_ada.shape)\n",
    "print(y_estimator_extra.shape)\n",
    "print(y_estimator_GB.shape)"
   ]
  },
  {
   "cell_type": "code",
   "execution_count": 88,
   "metadata": {},
   "outputs": [
    {
     "data": {
      "text/plain": [
       "(4000, 4)"
      ]
     },
     "execution_count": 88,
     "metadata": {},
     "output_type": "execute_result"
    }
   ],
   "source": [
    "# Now build the Stacking model\n",
    "import numpy as np\n",
    "\n",
    "Final_test_X = np.vstack((y_final_estimator_forest, y_final_estimator_ada, y_final_estimator_extra, y_final_estimator_GB))\n",
    "\n",
    "Final_test_X = Final_test_X.T\n",
    "Final_test_X.shape # now we get the right number of rows and columns"
   ]
  },
  {
   "cell_type": "code",
   "execution_count": 89,
   "metadata": {},
   "outputs": [
    {
     "data": {
      "text/plain": [
       "(12000, 4)"
      ]
     },
     "execution_count": 89,
     "metadata": {},
     "output_type": "execute_result"
    }
   ],
   "source": [
    "# Now build the Stacking model\n",
    "import numpy as np\n",
    "\n",
    "Final_Stacking_X = np.vstack((y_estimator_forest, y_estimator_ada, y_estimator_extra, y_estimator_GB))\n",
    "\n",
    "Final_Stacking_X = Final_Stacking_X.T\n",
    "Final_Stacking_X.shape # now we get the right number of rows and columns"
   ]
  },
  {
   "cell_type": "code",
   "execution_count": 90,
   "metadata": {},
   "outputs": [
    {
     "name": "stdout",
     "output_type": "stream",
     "text": [
      "Fitting 9 folds for each of 6 candidates, totalling 54 fits\n",
      "{'C': 0.0001}\n",
      "LogisticRegression(C=0.0001, class_weight=None, dual=False, fit_intercept=True,\n",
      "                   intercept_scaling=1, l1_ratio=None, max_iter=100,\n",
      "                   multi_class='auto', n_jobs=None, penalty='l2',\n",
      "                   random_state=42, solver='lbfgs', tol=0.0001, verbose=0,\n",
      "                   warm_start=False)\n"
     ]
    },
    {
     "name": "stderr",
     "output_type": "stream",
     "text": [
      "[Parallel(n_jobs=-1)]: Using backend LokyBackend with 24 concurrent workers.\n",
      "[Parallel(n_jobs=-1)]: Done  35 out of  54 | elapsed:    0.0s remaining:    0.0s\n",
      "[Parallel(n_jobs=-1)]: Done  54 out of  54 | elapsed:    0.0s finished\n"
     ]
    }
   ],
   "source": [
    "# Additionally we can check the Stack performance on the Logistic Regression model, \n",
    "\n",
    "Logistic_Regression = LogisticRegression(random_state = 42)\n",
    "C = [0.0001, 0.001, 0.01, 0.1, 0.2, 0.3]\n",
    "                            \n",
    "parameter_LogReg = {'C' : C}\n",
    "grid_search_LogReg = GridSearchCV(Logistic_Regression, parameter_LogReg, cv = 9, scoring='roc_auc', \n",
    "                               refit = True, n_jobs = -1, verbose = 2)\n",
    "\n",
    "grid_search_LogReg.fit(Final_Stacking_X,y_stack)\n",
    "LogReg_New_best_params = grid_search_LogReg.best_params_\n",
    "LogReg_New_best_estimators = grid_search_LogReg.best_estimator_\n",
    "\n",
    "print(LogReg_New_best_params)\n",
    "print(LogReg_New_best_estimators)"
   ]
  },
  {
   "cell_type": "code",
   "execution_count": 91,
   "metadata": {},
   "outputs": [
    {
     "name": "stdout",
     "output_type": "stream",
     "text": [
      "0.6253333333333333\n"
     ]
    }
   ],
   "source": [
    "# Now check the accuracy of the Stacked Training set with the original Model Stacking Y.\n",
    "y_estimator_LogReg = LogReg_New_best_estimators.predict(Final_Stacking_X)\n",
    "print(accuracy_score(y_stack, y_estimator_LogReg))"
   ]
  },
  {
   "cell_type": "code",
   "execution_count": 92,
   "metadata": {},
   "outputs": [
    {
     "name": "stdout",
     "output_type": "stream",
     "text": [
      "0.61775\n"
     ]
    }
   ],
   "source": [
    "# Now check the accuracy of the Stacked Training set with the original Test Y\n",
    "y_final_estimator_LogReg = LogReg_New_best_estimators.predict(Final_test_X)\n",
    "print(accuracy_score(y_test,y_final_estimator_LogReg))"
   ]
  },
  {
   "cell_type": "code",
   "execution_count": 93,
   "metadata": {},
   "outputs": [
    {
     "data": {
      "text/plain": [
       "(1480, 4)"
      ]
     },
     "execution_count": 93,
     "metadata": {},
     "output_type": "execute_result"
    }
   ],
   "source": [
    "Final_df_test = np.vstack((y_final_stack_estimator_forest, y_final_stack_estimator_adaboost, y_final_stack_estimator_extra, y_final_stack_estimator_GB))\n",
    "\n",
    "Final_df_test = Final_df_test.T\n",
    "Final_df_test.shape # now we get the right number of rows and columns"
   ]
  },
  {
   "cell_type": "code",
   "execution_count": 94,
   "metadata": {},
   "outputs": [
    {
     "data": {
      "text/plain": [
       "array([0, 0, 0, ..., 0, 1, 0], dtype=int64)"
      ]
     },
     "execution_count": 94,
     "metadata": {},
     "output_type": "execute_result"
    }
   ],
   "source": [
    "submission_FinalStackX = LogReg_New_best_estimators.predict(Final_df_test)\n",
    "submission_FinalStackX"
   ]
  },
  {
   "cell_type": "code",
   "execution_count": null,
   "metadata": {},
   "outputs": [],
   "source": []
  },
  {
   "cell_type": "code",
   "execution_count": 96,
   "metadata": {},
   "outputs": [],
   "source": [
    "Customer_ID = df_test['Customer_id']\n",
    "my_submission_FinalStackX = pd.DataFrame({\n",
    "                  \"Customer_id\": Customer_ID, \n",
    "                  \"Target\": submission_FinalStackX})\n",
    "my_submission_FinalStackX.to_csv('my_submission_FinalStackX.csv', index=False)\n",
    "\n",
    "#my_submission_FinalStackX = pd.DataFrame({'Customer_id': df_test.Customer_id, 'Target': submission_FinalStackX})\n",
    "#my_submission_FinalStackX.to_csv('my_submission_FinalStackX.csv', index=False)\n",
    "#from google.colab import files\n",
    "#files.download(\"my_submission_FinalStackX.csv\")"
   ]
  },
  {
   "cell_type": "code",
   "execution_count": null,
   "metadata": {},
   "outputs": [],
   "source": []
  },
  {
   "cell_type": "code",
   "execution_count": 1,
   "metadata": {},
   "outputs": [],
   "source": [
    "import numpy as np\n",
    "import pandas as pd\n",
    "import seaborn as sns\n",
    "import matplotlib.pyplot as plt\n",
    "%matplotlib inline"
   ]
  },
  {
   "cell_type": "code",
   "execution_count": 47,
   "metadata": {},
   "outputs": [],
   "source": [
    "from sklearn.model_selection import GridSearchCV\n",
    "from sklearn.metrics import \\\n",
    "auc, \\\n",
    "roc_auc_score, \\\n",
    "accuracy_score, \\\n",
    "roc_curve"
   ]
  },
  {
   "cell_type": "code",
   "execution_count": 3,
   "metadata": {},
   "outputs": [],
   "source": [
    "df_test = pd.read_csv('test.csv')\n",
    "df_train = pd.read_csv('train.csv')"
   ]
  },
  {
   "cell_type": "code",
   "execution_count": 4,
   "metadata": {},
   "outputs": [
    {
     "name": "stdout",
     "output_type": "stream",
     "text": [
      "df_train shape: (63999, 37)\n",
      "df_test shape: (1480, 36)\n"
     ]
    }
   ],
   "source": [
    "print(f'df_train shape: {df_train.shape}')\n",
    "print(f'df_test shape: {df_test.shape}')"
   ]
  },
  {
   "cell_type": "code",
   "execution_count": 5,
   "metadata": {},
   "outputs": [],
   "source": [
    "df_train = df_train.drop('Customer_id', axis = 1)"
   ]
  },
  {
   "cell_type": "code",
   "execution_count": 6,
   "metadata": {},
   "outputs": [
    {
     "name": "stdout",
     "output_type": "stream",
     "text": [
      "df_train shape: (63999, 36)\n",
      "df_test shape: (1480, 36)\n"
     ]
    }
   ],
   "source": [
    "print(f'df_train shape: {df_train.shape}')\n",
    "print(f'df_test shape: {df_test.shape}')"
   ]
  },
  {
   "cell_type": "code",
   "execution_count": 37,
   "metadata": {},
   "outputs": [
    {
     "name": "stdout",
     "output_type": "stream",
     "text": [
      "TARGET: Target \n",
      "\n",
      "columns predictors: ['Balance', 'PreviousCampaignResult', 'Product1', 'Product2', 'Product3', 'Product4', 'Product5', 'Product6', 'Transaction1', 'Transaction2', 'Transaction3', 'Transaction4', 'Transaction5', 'Transaction6', 'Transaction7', 'Transaction8', 'Transaction9', 'ExternalAccount1', 'ExternalAccount2', 'ExternalAccount3', 'ExternalAccount4', 'ExternalAccount5', 'ExternalAccount6', 'ExternalAccount7', 'ActivityIndicator', 'RegularInteractionIndicator', 'CompetitiveRate1', 'CompetitiveRate2', 'CompetitiveRate3', 'CompetitiveRate4', 'CompetitiveRate5', 'CompetitiveRate6', 'CompetitiveRate7', 'RateBefore', 'ReferenceRate'] \n",
      "\n"
     ]
    }
   ],
   "source": [
    "# identify target, predicator, categorical, and continous variables \n",
    "# for pipeline transformations\n",
    "\n",
    "Target = 'Target'\n",
    "\n",
    "col_predictors = [col for col in df_train.columns if col not in [Target]]\n",
    "\n",
    "print(f'TARGET: {Target} \\n')\n",
    "print(f'columns predictors: {col_predictors} \\n')"
   ]
  },
  {
   "cell_type": "code",
   "execution_count": 8,
   "metadata": {},
   "outputs": [],
   "source": [
    "X = df_train[col_predictors]\n",
    "y = df_train['Target']"
   ]
  },
  {
   "cell_type": "code",
   "execution_count": null,
   "metadata": {},
   "outputs": [],
   "source": []
  },
  {
   "cell_type": "markdown",
   "metadata": {},
   "source": [
    "# Matt's Attempt"
   ]
  },
  {
   "cell_type": "markdown",
   "metadata": {},
   "source": [
    "# XBGoost ML Model"
   ]
  },
  {
   "cell_type": "markdown",
   "metadata": {},
   "source": [
    "# XGBoost\n",
    "* model is built using raw XGBoost functions - requires DMatrix format (preprocessing step)\n",
    "* another method in building XGBoost is to use sklearn wrapper - utilizes pandas dataframes as inputs\n",
    "\n",
    "## Advantange\n",
    "1. Regularization\n",
    "    * standard GBM (Gradient Boosting) has no regularization\n",
    "    * XGboost has regularization\n",
    "    * regularization tries to push coefficients of function to zero thus reducing cost term \n",
    "2. Parallel Processing\n",
    "    * much faster than GBM\n",
    "    * can use multiple cores to make tree\n",
    "3. High Flexibility\n",
    "    * custom opitmization objectives and evaluation criteria\n",
    "4. Handling Missing Values\n",
    "    * built in routine to handle missing values\n",
    "    * user required to supply different value than other obersvations and pass this as a parameter\n",
    "    * XGBoost tries different things as it encounters missing values on each node and learns which path to take for missing values\n",
    "5. Tree Pruning\n",
    "    * splits are made upto max_depth and pruning begins where splits are removed that have no positive gain\n",
    "6. Built-in Cross-Validation\n",
    "    * cross-validation at each iteration of boosting process \n",
    "    * thus is possible to get exact optimum number of boosting iterations in a single run\n",
    "7. Continue on Exisiting Model"
   ]
  },
  {
   "cell_type": "code",
   "execution_count": 9,
   "metadata": {},
   "outputs": [],
   "source": [
    "import xgboost as xgb\n",
    "from xgboost import XGBClassifier"
   ]
  },
  {
   "cell_type": "code",
   "execution_count": 60,
   "metadata": {},
   "outputs": [],
   "source": [
    "def modelfit(model, dtrain, dtest, predictors, useTrainCV = True, cv_folds = 5, early_stopping_rounds = 50):\n",
    "    \n",
    "    if useTrainCV:\n",
    "        \n",
    "        # get params being passed to model\n",
    "        xgb_param = model.get_xgb_params()\n",
    "        \n",
    "        # load training data that is readable for XGBoost\n",
    "        xgtrain = xgb.DMatrix(\n",
    "            dtrain[predictors].values, \n",
    "            label = dtrain[Target].values,\n",
    "            feature_names = predictors      # important - to get the feature names for plotting\n",
    "        )\n",
    "        \n",
    "        # load testing data that is readable for XGBoost\n",
    "        xgtest = xgb.DMatrix(\n",
    "            dtest[predictors].values\n",
    "        )\n",
    "        \n",
    "        # use built-in cv to find optimum number of tress for current learning rate\n",
    "        # num of trees = n_estimators\n",
    "        cvresult = xgb.cv(\n",
    "            xgb_param, \n",
    "            xgtrain, \n",
    "            num_boost_round = model.get_params()['n_estimators'], \n",
    "            nfold = cv_folds,\n",
    "            metrics = 'auc', \n",
    "            early_stopping_rounds = early_stopping_rounds       # to find optimal num of boosting rounds\n",
    "        )\n",
    "        \n",
    "        # set model num of trees to whatever xgboost.cv() found\n",
    "        model.set_params(n_estimators = cvresult.shape[0])\n",
    "    \n",
    "    # Fit the algorithm on the data\n",
    "    model.fit(dtrain[predictors], dtrain[Target], eval_metric = 'auc')\n",
    "        \n",
    "    # Predict training set:\n",
    "    dtrain_predictions = model.predict(dtrain[predictors])            # actual 0 or 1 results\n",
    "    dtrain_predprob = model.predict_proba(dtrain[predictors])[:,1]    # get probability predictions\n",
    "    \n",
    "    # Predict testing set:\n",
    "    dtest_predictions = model.predict(dtest[predictors])\n",
    "        \n",
    "    # Print model report:\n",
    "    print(\"\\nModel Report\")\n",
    "    print(\"Accuracy : %.4g\" % accuracy_score(dtrain[Target].values, dtrain_predictions))\n",
    "    print(\"AUC Score (Train): %f\" % roc_auc_score(dtrain[Target], dtrain_predprob))\n",
    "    \n",
    "    # get fpr and tpr values\n",
    "    fpr, tpr, thresholds = roc_curve(dtrain[Target], dtrain_predprob)\n",
    "    \n",
    "    # get auc score\n",
    "    auc_score = auc(fpr, tpr)\n",
    "    \n",
    "    #Plot the Roc Curve\n",
    "    plt.plot(\n",
    "        fpr, \n",
    "        tpr,\n",
    "        linewidth = 2, \n",
    "        label = 'AUC = {:.4f}'.format(auc_score)\n",
    "    )\n",
    "    plt.plot([0, 1], [0, 1], 'k--')\n",
    "    plt.axis([0, 1, 0, 1])\n",
    "    plt.xlabel('False Positive Rate', fontsize = 10)\n",
    "    plt.ylabel('True Positive Rate', fontsize = 10)\n",
    "    plt.title('XGBoost ROC Curve', fontsize = 15)\n",
    "    plt.legend(loc = 'lower right', fontsize = 10)\n",
    "    plt.show()\n",
    "    \n",
    "    # feature importance plot\n",
    "    \n",
    "    # data for plot\n",
    "    feat_imp = pd.Series(\n",
    "        model.feature_importances_,        # y_values\n",
    "        model.get_booster().feature_names  # x_values\n",
    "    ).sort_values(ascending=False)         # descending order\n",
    "    \n",
    "    # make the bar-plot\n",
    "    feat_imp.plot(\n",
    "        kind = 'bar',\n",
    "        figsize = (20, 10),\n",
    "        fontsize = 20\n",
    "    )\n",
    "    \n",
    "    # plot attributes\n",
    "    plt.ylabel('Feature Importance Score', fontsize = 25)\n",
    "    plt.xlabel('Features', fontsize = 25)\n",
    "    plt.title('Feature Importances', fontsize = 30)\n",
    "\n",
    "    return dtest_predictions"
   ]
  },
  {
   "cell_type": "markdown",
   "metadata": {},
   "source": [
    "## Initial Run"
   ]
  },
  {
   "cell_type": "code",
   "execution_count": 11,
   "metadata": {},
   "outputs": [],
   "source": [
    "xgb_clf_1 = XGBClassifier(\n",
    "    learning_rate = 0.1,\n",
    "    n_estimators = 1000,\n",
    "    max_depth = 5,\n",
    "    min_child_weight = 1,\n",
    "    gamma = 0,\n",
    "    subsample = 0.8,\n",
    "    colsample_bytree = 0.8,\n",
    "    objective = 'binary:logistic',   # loss function to minimize (log for binary)\n",
    "    nthread = 4,\n",
    "    scale_pos_weight = 1,\n",
    "    seed = 27\n",
    ")"
   ]
  },
  {
   "cell_type": "code",
   "execution_count": 12,
   "metadata": {},
   "outputs": [
    {
     "name": "stderr",
     "output_type": "stream",
     "text": [
      "C:\\Users\\Mah Lau\\anaconda3\\lib\\site-packages\\xgboost\\sklearn.py:1146: UserWarning: The use of label encoder in XGBClassifier is deprecated and will be removed in a future release. To remove this warning, do the following: 1) Pass option use_label_encoder=False when constructing XGBClassifier object; and 2) Encode your labels (y) as integers starting with 0, i.e. 0, 1, 2, ..., [num_class - 1].\n",
      "  warnings.warn(label_encoder_deprecation_msg, UserWarning)\n"
     ]
    },
    {
     "name": "stdout",
     "output_type": "stream",
     "text": [
      "\n",
      "Model Report\n",
      "Accuracy : 0.6437\n",
      "AUC Score (Train): 0.697012\n"
     ]
    },
    {
     "data": {
      "text/plain": [
       "array([0, 0, 0, ..., 0, 1, 0], dtype=int64)"
      ]
     },
     "execution_count": 12,
     "metadata": {},
     "output_type": "execute_result"
    },
    {
     "data": {
      "image/png": "[encoded data removed]",
      "text/plain": [
       "<Figure size 1440x720 with 1 Axes>"
      ]
     },
     "metadata": {
      "needs_background": "light"
     },
     "output_type": "display_data"
    }
   ],
   "source": [
    "modelfit(xgb_clf_1, df_train, df_test, col_predictors)"
   ]
  },
  {
   "cell_type": "markdown",
   "metadata": {},
   "source": [
    "## Tune max_depth and min_child_weight"
   ]
  },
  {
   "cell_type": "code",
   "execution_count": 13,
   "metadata": {},
   "outputs": [
    {
     "name": "stderr",
     "output_type": "stream",
     "text": [
      "C:\\Users\\Mah Lau\\anaconda3\\lib\\site-packages\\xgboost\\sklearn.py:1146: UserWarning: The use of label encoder in XGBClassifier is deprecated and will be removed in a future release. To remove this warning, do the following: 1) Pass option use_label_encoder=False when constructing XGBClassifier object; and 2) Encode your labels (y) as integers starting with 0, i.e. 0, 1, 2, ..., [num_class - 1].\n",
      "  warnings.warn(label_encoder_deprecation_msg, UserWarning)\n"
     ]
    },
    {
     "name": "stdout",
     "output_type": "stream",
     "text": [
      "[14:18:50] WARNING: C:/Users/Administrator/workspace/xgboost-win64_release_1.4.0/src/learner.cc:1095: Starting in XGBoost 1.3.0, the default evaluation metric used with the objective 'binary:logistic' was changed from 'error' to 'logloss'. Explicitly set eval_metric if you'd like to restore the old behavior.\n"
     ]
    },
    {
     "data": {
      "text/plain": [
       "GridSearchCV(cv=5,\n",
       "             estimator=XGBClassifier(base_score=None, booster=None,\n",
       "                                     colsample_bylevel=None,\n",
       "                                     colsample_bynode=None,\n",
       "                                     colsample_bytree=0.8, gamma=0, gpu_id=None,\n",
       "                                     importance_type='gain',\n",
       "                                     interaction_constraints=None,\n",
       "                                     learning_rate=0.1, max_delta_step=None,\n",
       "                                     max_depth=5, min_child_weight=1,\n",
       "                                     missing=nan, monotone_constraints=None,\n",
       "                                     n_estimators=140, n_jobs=None, nthread=4,\n",
       "                                     num_parallel_tree=None, random_state=None,\n",
       "                                     reg_alpha=None, reg_lambda=None,\n",
       "                                     scale_pos_weight=1, seed=27, subsample=0.8,\n",
       "                                     tree_method=None, validate_parameters=None,\n",
       "                                     verbosity=None),\n",
       "             n_jobs=4,\n",
       "             param_grid={'max_depth': range(3, 10, 2),\n",
       "                         'min_child_weight': range(1, 6, 2)},\n",
       "             scoring='roc_auc')"
      ]
     },
     "execution_count": 13,
     "metadata": {},
     "output_type": "execute_result"
    }
   ],
   "source": [
    "param_test_1 = {\n",
    " 'max_depth': range(3, 10, 2),\n",
    " 'min_child_weight': range(1, 6, 2)\n",
    "}\n",
    "\n",
    "gs_1 = GridSearchCV(\n",
    "    estimator = XGBClassifier(\n",
    "        learning_rate = 0.1, \n",
    "        n_estimators = 140, \n",
    "        max_depth = 5,\n",
    "        min_child_weight = 1,\n",
    "        gamma = 0, \n",
    "        subsample = 0.8, \n",
    "        colsample_bytree = 0.8,\n",
    "        objective = 'binary:logistic', \n",
    "        nthread = 4, \n",
    "        scale_pos_weight = 1, \n",
    "        seed = 27\n",
    "    ), \n",
    "    param_grid = param_test_1, \n",
    "    scoring = 'roc_auc',\n",
    "    n_jobs = 4, \n",
    "    cv = 5\n",
    ")\n",
    "\n",
    "gs_1.fit(df_train[col_predictors], df_train[Target])"
   ]
  },
  {
   "cell_type": "code",
   "execution_count": 14,
   "metadata": {},
   "outputs": [
    {
     "data": {
      "text/plain": [
       "({'max_depth': 3, 'min_child_weight': 5}, 0.673802463705153)"
      ]
     },
     "execution_count": 14,
     "metadata": {},
     "output_type": "execute_result"
    }
   ],
   "source": [
    "gs_1.best_params_, gs_1.best_score_"
   ]
  },
  {
   "cell_type": "code",
   "execution_count": 15,
   "metadata": {},
   "outputs": [
    {
     "name": "stderr",
     "output_type": "stream",
     "text": [
      "C:\\Users\\Mah Lau\\anaconda3\\lib\\site-packages\\xgboost\\sklearn.py:1146: UserWarning: The use of label encoder in XGBClassifier is deprecated and will be removed in a future release. To remove this warning, do the following: 1) Pass option use_label_encoder=False when constructing XGBClassifier object; and 2) Encode your labels (y) as integers starting with 0, i.e. 0, 1, 2, ..., [num_class - 1].\n",
      "  warnings.warn(label_encoder_deprecation_msg, UserWarning)\n"
     ]
    },
    {
     "name": "stdout",
     "output_type": "stream",
     "text": [
      "[14:21:35] WARNING: C:/Users/Administrator/workspace/xgboost-win64_release_1.4.0/src/learner.cc:1095: Starting in XGBoost 1.3.0, the default evaluation metric used with the objective 'binary:logistic' was changed from 'error' to 'logloss'. Explicitly set eval_metric if you'd like to restore the old behavior.\n"
     ]
    },
    {
     "data": {
      "text/plain": [
       "GridSearchCV(cv=5,\n",
       "             estimator=XGBClassifier(base_score=None, booster=None,\n",
       "                                     colsample_bylevel=None,\n",
       "                                     colsample_bynode=None,\n",
       "                                     colsample_bytree=0.8, gamma=0, gpu_id=None,\n",
       "                                     importance_type='gain',\n",
       "                                     interaction_constraints=None,\n",
       "                                     learning_rate=0.1, max_delta_step=None,\n",
       "                                     max_depth=5, min_child_weight=2,\n",
       "                                     missing=nan, monotone_constraints=None,\n",
       "                                     n_estimators=140, n_jobs=None, nthread=4,\n",
       "                                     num_parallel_tree=None, random_state=None,\n",
       "                                     reg_alpha=None, reg_lambda=None,\n",
       "                                     scale_pos_weight=1, seed=27, subsample=0.8,\n",
       "                                     tree_method=None, validate_parameters=None,\n",
       "                                     verbosity=None),\n",
       "             n_jobs=4,\n",
       "             param_grid={'max_depth': [4, 5, 6], 'min_child_weight': [4, 5, 6]},\n",
       "             scoring='roc_auc')"
      ]
     },
     "execution_count": 15,
     "metadata": {},
     "output_type": "execute_result"
    }
   ],
   "source": [
    "param_test_2 = {\n",
    " 'max_depth':[4,5,6],\n",
    " 'min_child_weight':[4,5,6]\n",
    "}\n",
    "\n",
    "gs_2 = GridSearchCV(\n",
    "    estimator = XGBClassifier(\n",
    "        learning_rate = 0.1, \n",
    "        n_estimators = 140, \n",
    "        max_depth = 5,\n",
    "        min_child_weight = 2, \n",
    "        gamma = 0,\n",
    "        subsample = 0.8, \n",
    "        colsample_bytree = 0.8,\n",
    "        objective = 'binary:logistic', \n",
    "        nthread = 4, \n",
    "        scale_pos_weight = 1,\n",
    "        seed = 27\n",
    "    ),\n",
    "    param_grid = param_test_2, \n",
    "    scoring = 'roc_auc', \n",
    "    n_jobs = 4,\n",
    "    cv = 5\n",
    ")\n",
    "\n",
    "gs_2.fit(df_train[col_predictors],df_train[Target])"
   ]
  },
  {
   "cell_type": "code",
   "execution_count": 16,
   "metadata": {},
   "outputs": [
    {
     "data": {
      "text/plain": [
       "({'max_depth': 4, 'min_child_weight': 6}, 0.6740262529907212)"
      ]
     },
     "execution_count": 16,
     "metadata": {},
     "output_type": "execute_result"
    }
   ],
   "source": [
    "gs_2.best_params_, gs_2.best_score_"
   ]
  },
  {
   "cell_type": "markdown",
   "metadata": {},
   "source": [
    "## Tune Gamma"
   ]
  },
  {
   "cell_type": "code",
   "execution_count": 17,
   "metadata": {},
   "outputs": [],
   "source": [
    "param_test_3 = {\n",
    " 'gamma' : [i/10.0 for i in range(0,5)]\n",
    "}"
   ]
  },
  {
   "cell_type": "code",
   "execution_count": 18,
   "metadata": {},
   "outputs": [
    {
     "name": "stderr",
     "output_type": "stream",
     "text": [
      "C:\\Users\\Mah Lau\\anaconda3\\lib\\site-packages\\xgboost\\sklearn.py:1146: UserWarning: The use of label encoder in XGBClassifier is deprecated and will be removed in a future release. To remove this warning, do the following: 1) Pass option use_label_encoder=False when constructing XGBClassifier object; and 2) Encode your labels (y) as integers starting with 0, i.e. 0, 1, 2, ..., [num_class - 1].\n",
      "  warnings.warn(label_encoder_deprecation_msg, UserWarning)\n"
     ]
    },
    {
     "name": "stdout",
     "output_type": "stream",
     "text": [
      "[14:22:57] WARNING: C:/Users/Administrator/workspace/xgboost-win64_release_1.4.0/src/learner.cc:1095: Starting in XGBoost 1.3.0, the default evaluation metric used with the objective 'binary:logistic' was changed from 'error' to 'logloss'. Explicitly set eval_metric if you'd like to restore the old behavior.\n"
     ]
    },
    {
     "data": {
      "text/plain": [
       "GridSearchCV(cv=5,\n",
       "             estimator=XGBClassifier(base_score=None, booster=None,\n",
       "                                     colsample_bylevel=None,\n",
       "                                     colsample_bynode=None,\n",
       "                                     colsample_bytree=0.8, gamma=0, gpu_id=None,\n",
       "                                     importance_type='gain',\n",
       "                                     interaction_constraints=None,\n",
       "                                     learning_rate=0.1, max_delta_step=None,\n",
       "                                     max_depth=4, min_child_weight=6,\n",
       "                                     missing=nan, monotone_constraints=None,\n",
       "                                     n_estimators=140, n_jobs=None, nthread=4,\n",
       "                                     num_parallel_tree=None, random_state=None,\n",
       "                                     reg_alpha=None, reg_lambda=None,\n",
       "                                     scale_pos_weight=1, seed=27, subsample=0.8,\n",
       "                                     tree_method=None, validate_parameters=None,\n",
       "                                     verbosity=None),\n",
       "             n_jobs=4, param_grid={'gamma': [0.0, 0.1, 0.2, 0.3, 0.4]},\n",
       "             scoring='roc_auc')"
      ]
     },
     "execution_count": 18,
     "metadata": {},
     "output_type": "execute_result"
    }
   ],
   "source": [
    "gs_3 = GridSearchCV(\n",
    "    estimator = XGBClassifier(\n",
    "        learning_rate = 0.1, \n",
    "        n_estimators = 140, \n",
    "        max_depth = 4,\n",
    "        min_child_weight = 6, \n",
    "        gamma = 0, \n",
    "        subsample = 0.8, \n",
    "        colsample_bytree = 0.8,\n",
    "        objective = 'binary:logistic', \n",
    "        nthread = 4, \n",
    "        scale_pos_weight = 1,\n",
    "        seed = 27\n",
    "    ), \n",
    "    \n",
    "    param_grid = param_test_3, \n",
    "    scoring = 'roc_auc',\n",
    "    n_jobs = 4,\n",
    "    cv = 5\n",
    ")\n",
    "\n",
    "gs_3.fit(df_train[col_predictors], df_train[Target])"
   ]
  },
  {
   "cell_type": "code",
   "execution_count": 19,
   "metadata": {},
   "outputs": [
    {
     "data": {
      "text/plain": [
       "({'gamma': 0.3}, 0.6741381790228578)"
      ]
     },
     "execution_count": 19,
     "metadata": {},
     "output_type": "execute_result"
    }
   ],
   "source": [
    "gs_3.best_params_, gs_3.best_score_"
   ]
  },
  {
   "cell_type": "markdown",
   "metadata": {},
   "source": [
    "## Using new max depth, min child weight, gamma values"
   ]
  },
  {
   "cell_type": "code",
   "execution_count": 20,
   "metadata": {},
   "outputs": [],
   "source": [
    "xgb_clf_2 = XGBClassifier(\n",
    "    learning_rate = 0.1,\n",
    "    n_estimators = 1000,\n",
    "    max_depth = 4,\n",
    "    min_child_weight = 6,\n",
    "    gamma = 0.3,\n",
    "    subsample = 0.8,\n",
    "    colsample_bytree = 0.8,\n",
    "    objective = 'binary:logistic',\n",
    "    nthread = 4,\n",
    "    scale_pos_weight = 1,\n",
    "    seed = 27\n",
    ")"
   ]
  },
  {
   "cell_type": "code",
   "execution_count": 21,
   "metadata": {},
   "outputs": [
    {
     "name": "stdout",
     "output_type": "stream",
     "text": [
      "\n",
      "Model Report\n",
      "Accuracy : 0.6412\n",
      "AUC Score (Train): 0.692884\n"
     ]
    },
    {
     "data": {
      "text/plain": [
       "array([0, 0, 0, ..., 0, 1, 0], dtype=int64)"
      ]
     },
     "execution_count": 21,
     "metadata": {},
     "output_type": "execute_result"
    },
    {
     "data": {
      "image/png": "[encoded data removed]",
      "text/plain": [
       "<Figure size 1440x720 with 1 Axes>"
      ]
     },
     "metadata": {
      "needs_background": "light"
     },
     "output_type": "display_data"
    }
   ],
   "source": [
    "modelfit(xgb_clf_2, df_train, df_test, col_predictors)"
   ]
  },
  {
   "cell_type": "markdown",
   "metadata": {},
   "source": [
    "## Tune subsample and colsample_bytree\n",
    "* 0.1 intervals"
   ]
  },
  {
   "cell_type": "code",
   "execution_count": 22,
   "metadata": {},
   "outputs": [
    {
     "name": "stderr",
     "output_type": "stream",
     "text": [
      "C:\\Users\\Mah Lau\\anaconda3\\lib\\site-packages\\xgboost\\sklearn.py:1146: UserWarning: The use of label encoder in XGBClassifier is deprecated and will be removed in a future release. To remove this warning, do the following: 1) Pass option use_label_encoder=False when constructing XGBClassifier object; and 2) Encode your labels (y) as integers starting with 0, i.e. 0, 1, 2, ..., [num_class - 1].\n",
      "  warnings.warn(label_encoder_deprecation_msg, UserWarning)\n"
     ]
    },
    {
     "name": "stdout",
     "output_type": "stream",
     "text": [
      "[14:27:56] WARNING: C:/Users/Administrator/workspace/xgboost-win64_release_1.4.0/src/learner.cc:1095: Starting in XGBoost 1.3.0, the default evaluation metric used with the objective 'binary:logistic' was changed from 'error' to 'logloss'. Explicitly set eval_metric if you'd like to restore the old behavior.\n"
     ]
    },
    {
     "data": {
      "text/plain": [
       "GridSearchCV(cv=5,\n",
       "             estimator=XGBClassifier(base_score=None, booster=None,\n",
       "                                     colsample_bylevel=None,\n",
       "                                     colsample_bynode=None,\n",
       "                                     colsample_bytree=0.8, gamma=0, gpu_id=None,\n",
       "                                     importance_type='gain',\n",
       "                                     interaction_constraints=None,\n",
       "                                     learning_rate=0.1, max_delta_step=None,\n",
       "                                     max_depth=4, min_child_weight=6,\n",
       "                                     missing=nan, monotone_constraints=None,\n",
       "                                     n_estimators=177, n_jobs=None, nthread=4,\n",
       "                                     num_parallel_tree=None, random_state=None,\n",
       "                                     reg_alpha=None, reg_lambda=None,\n",
       "                                     scale_pos_weight=1, seed=27, subsample=0.8,\n",
       "                                     tree_method=None, validate_parameters=None,\n",
       "                                     verbosity=None),\n",
       "             n_jobs=4,\n",
       "             param_grid={'colsample_bytree': [0.6, 0.7, 0.8, 0.9],\n",
       "                         'subsample': [0.6, 0.7, 0.8, 0.9]},\n",
       "             scoring='roc_auc')"
      ]
     },
     "execution_count": 22,
     "metadata": {},
     "output_type": "execute_result"
    }
   ],
   "source": [
    "param_test_4 = {\n",
    " 'subsample' : [i / 10.0 for i in range(6,10)],\n",
    " 'colsample_bytree' : [i / 10.0 for i in range(6,10)]\n",
    "}\n",
    "\n",
    "gs_4 = GridSearchCV(\n",
    "    estimator = XGBClassifier(\n",
    "        learning_rate = 0.1, \n",
    "        n_estimators = 177,\n",
    "        max_depth = 4,\n",
    "        min_child_weight = 6, \n",
    "        gamma = 0, \n",
    "        subsample = 0.8, \n",
    "        colsample_bytree = 0.8,\n",
    "        objective = 'binary:logistic', \n",
    "        nthread = 4, \n",
    "        scale_pos_weight = 1,\n",
    "        seed = 27\n",
    "    ), \n",
    "    param_grid = param_test_4, \n",
    "    scoring = 'roc_auc',\n",
    "    n_jobs = 4,\n",
    "    cv = 5\n",
    ")\n",
    "\n",
    "gs_4.fit(df_train[col_predictors], df_train[Target])"
   ]
  },
  {
   "cell_type": "code",
   "execution_count": 23,
   "metadata": {},
   "outputs": [
    {
     "data": {
      "text/plain": [
       "({'colsample_bytree': 0.9, 'subsample': 0.9}, 0.6740857007757658)"
      ]
     },
     "execution_count": 23,
     "metadata": {},
     "output_type": "execute_result"
    }
   ],
   "source": [
    "gs_4.best_params_, gs_4.best_score_"
   ]
  },
  {
   "cell_type": "markdown",
   "metadata": {},
   "source": [
    "## Using 0.05 intervals for subsample and colsample_bytree"
   ]
  },
  {
   "cell_type": "code",
   "execution_count": 24,
   "metadata": {},
   "outputs": [
    {
     "name": "stderr",
     "output_type": "stream",
     "text": [
      "C:\\Users\\Mah Lau\\anaconda3\\lib\\site-packages\\xgboost\\sklearn.py:1146: UserWarning: The use of label encoder in XGBClassifier is deprecated and will be removed in a future release. To remove this warning, do the following: 1) Pass option use_label_encoder=False when constructing XGBClassifier object; and 2) Encode your labels (y) as integers starting with 0, i.e. 0, 1, 2, ..., [num_class - 1].\n",
      "  warnings.warn(label_encoder_deprecation_msg, UserWarning)\n"
     ]
    },
    {
     "name": "stdout",
     "output_type": "stream",
     "text": [
      "[14:30:24] WARNING: C:/Users/Administrator/workspace/xgboost-win64_release_1.4.0/src/learner.cc:1095: Starting in XGBoost 1.3.0, the default evaluation metric used with the objective 'binary:logistic' was changed from 'error' to 'logloss'. Explicitly set eval_metric if you'd like to restore the old behavior.\n"
     ]
    },
    {
     "data": {
      "text/plain": [
       "GridSearchCV(cv=5,\n",
       "             estimator=XGBClassifier(base_score=None, booster=None,\n",
       "                                     colsample_bylevel=None,\n",
       "                                     colsample_bynode=None,\n",
       "                                     colsample_bytree=0.8, gamma=0, gpu_id=None,\n",
       "                                     importance_type='gain',\n",
       "                                     interaction_constraints=None,\n",
       "                                     learning_rate=0.1, max_delta_step=None,\n",
       "                                     max_depth=4, min_child_weight=6,\n",
       "                                     missing=nan, monotone_constraints=None,\n",
       "                                     n_estimators=177, n_jobs=None, nthread=4,\n",
       "                                     num_parallel_tree=None, random_state=None,\n",
       "                                     reg_alpha=None, reg_lambda=None,\n",
       "                                     scale_pos_weight=1, seed=27, subsample=0.8,\n",
       "                                     tree_method=None, validate_parameters=None,\n",
       "                                     verbosity=None),\n",
       "             n_jobs=4,\n",
       "             param_grid={'colsample_bytree': [0.75, 0.8, 0.85],\n",
       "                         'subsample': [0.75, 0.8, 0.85]},\n",
       "             scoring='roc_auc')"
      ]
     },
     "execution_count": 24,
     "metadata": {},
     "output_type": "execute_result"
    }
   ],
   "source": [
    "param_test_5 = {\n",
    " 'subsample': [i/100.0 for i in range(75,90,5)],\n",
    " 'colsample_bytree': [i/100.0 for i in range(75,90,5)]\n",
    "}\n",
    "\n",
    "gs_5 = GridSearchCV(\n",
    "    estimator = XGBClassifier(\n",
    "        learning_rate = 0.1, \n",
    "        n_estimators = 177, \n",
    "        max_depth = 4,\n",
    "        min_child_weight = 6, \n",
    "        gamma = 0, \n",
    "        subsample = 0.8, \n",
    "        colsample_bytree = 0.8,\n",
    "        objective = 'binary:logistic', \n",
    "        nthread = 4, \n",
    "        scale_pos_weight = 1,\n",
    "        seed = 27\n",
    "    ), \n",
    "    param_grid = param_test_5, \n",
    "    scoring = 'roc_auc',\n",
    "    n_jobs = 4,\n",
    "    cv = 5\n",
    ")\n",
    "\n",
    "gs_5.fit(df_train[col_predictors], df_train[Target])"
   ]
  },
  {
   "cell_type": "code",
   "execution_count": 25,
   "metadata": {},
   "outputs": [
    {
     "data": {
      "text/plain": [
       "({'colsample_bytree': 0.85, 'subsample': 0.85}, 0.6739249830162086)"
      ]
     },
     "execution_count": 25,
     "metadata": {},
     "output_type": "execute_result"
    }
   ],
   "source": [
    "gs_5.best_params_, gs_5.best_score_"
   ]
  },
  {
   "cell_type": "markdown",
   "metadata": {},
   "source": [
    "## Tune Regularization Parameters"
   ]
  },
  {
   "cell_type": "code",
   "execution_count": 26,
   "metadata": {},
   "outputs": [
    {
     "name": "stderr",
     "output_type": "stream",
     "text": [
      "C:\\Users\\Mah Lau\\anaconda3\\lib\\site-packages\\xgboost\\sklearn.py:1146: UserWarning: The use of label encoder in XGBClassifier is deprecated and will be removed in a future release. To remove this warning, do the following: 1) Pass option use_label_encoder=False when constructing XGBClassifier object; and 2) Encode your labels (y) as integers starting with 0, i.e. 0, 1, 2, ..., [num_class - 1].\n",
      "  warnings.warn(label_encoder_deprecation_msg, UserWarning)\n"
     ]
    },
    {
     "name": "stdout",
     "output_type": "stream",
     "text": [
      "[14:31:50] WARNING: C:/Users/Administrator/workspace/xgboost-win64_release_1.4.0/src/learner.cc:1095: Starting in XGBoost 1.3.0, the default evaluation metric used with the objective 'binary:logistic' was changed from 'error' to 'logloss'. Explicitly set eval_metric if you'd like to restore the old behavior.\n"
     ]
    },
    {
     "data": {
      "text/plain": [
       "GridSearchCV(cv=5,\n",
       "             estimator=XGBClassifier(base_score=None, booster=None,\n",
       "                                     colsample_bylevel=None,\n",
       "                                     colsample_bynode=None,\n",
       "                                     colsample_bytree=0.8, gamma=0.1,\n",
       "                                     gpu_id=None, importance_type='gain',\n",
       "                                     interaction_constraints=None,\n",
       "                                     learning_rate=0.1, max_delta_step=None,\n",
       "                                     max_depth=4, min_child_weight=6,\n",
       "                                     missing=nan, monotone_constraints=None,\n",
       "                                     n_estimators=177, n_jobs=None, nthread=4,\n",
       "                                     num_parallel_tree=None, random_state=None,\n",
       "                                     reg_alpha=None, reg_lambda=None,\n",
       "                                     scale_pos_weight=1, seed=27, subsample=0.8,\n",
       "                                     tree_method=None, validate_parameters=None,\n",
       "                                     verbosity=None),\n",
       "             n_jobs=4, param_grid={'reg_alpha': [1e-05, 0.01, 0.1, 1, 100]},\n",
       "             scoring='roc_auc')"
      ]
     },
     "execution_count": 26,
     "metadata": {},
     "output_type": "execute_result"
    }
   ],
   "source": [
    "param_test_6 = {\n",
    " 'reg_alpha':[1e-5, 1e-2, 0.1, 1, 100]\n",
    "}\n",
    "\n",
    "gs_6 = GridSearchCV(\n",
    "    estimator = XGBClassifier(\n",
    "        learning_rate = 0.1, \n",
    "        n_estimators = 177, \n",
    "        max_depth = 4,\n",
    "        min_child_weight = 6, \n",
    "        gamma = 0.1, \n",
    "        subsample = 0.8, \n",
    "        colsample_bytree = 0.8,\n",
    "        objective = 'binary:logistic', \n",
    "        nthread = 4, \n",
    "        scale_pos_weight = 1,\n",
    "        seed = 27\n",
    "    ), \n",
    "    param_grid = param_test_6, \n",
    "    scoring = 'roc_auc',\n",
    "    n_jobs = 4,\n",
    "    cv = 5\n",
    ")\n",
    "\n",
    "gs_6.fit(df_train[col_predictors],df_train[Target])"
   ]
  },
  {
   "cell_type": "code",
   "execution_count": 27,
   "metadata": {},
   "outputs": [
    {
     "data": {
      "text/plain": [
       "({'reg_alpha': 0.1}, 0.6741165226642958)"
      ]
     },
     "execution_count": 27,
     "metadata": {},
     "output_type": "execute_result"
    }
   ],
   "source": [
    "gs_6.best_params_, gs_6.best_score_"
   ]
  },
  {
   "cell_type": "code",
   "execution_count": 28,
   "metadata": {},
   "outputs": [
    {
     "name": "stderr",
     "output_type": "stream",
     "text": [
      "C:\\Users\\Mah Lau\\anaconda3\\lib\\site-packages\\xgboost\\sklearn.py:1146: UserWarning: The use of label encoder in XGBClassifier is deprecated and will be removed in a future release. To remove this warning, do the following: 1) Pass option use_label_encoder=False when constructing XGBClassifier object; and 2) Encode your labels (y) as integers starting with 0, i.e. 0, 1, 2, ..., [num_class - 1].\n",
      "  warnings.warn(label_encoder_deprecation_msg, UserWarning)\n"
     ]
    },
    {
     "name": "stdout",
     "output_type": "stream",
     "text": [
      "[14:33:18] WARNING: C:/Users/Administrator/workspace/xgboost-win64_release_1.4.0/src/learner.cc:1095: Starting in XGBoost 1.3.0, the default evaluation metric used with the objective 'binary:logistic' was changed from 'error' to 'logloss'. Explicitly set eval_metric if you'd like to restore the old behavior.\n"
     ]
    },
    {
     "data": {
      "text/plain": [
       "GridSearchCV(cv=5,\n",
       "             estimator=XGBClassifier(base_score=None, booster=None,\n",
       "                                     colsample_bylevel=None,\n",
       "                                     colsample_bynode=None,\n",
       "                                     colsample_bytree=0.8, gamma=0.1,\n",
       "                                     gpu_id=None, importance_type='gain',\n",
       "                                     interaction_constraints=None,\n",
       "                                     learning_rate=0.1, max_delta_step=None,\n",
       "                                     max_depth=4, min_child_weight=6,\n",
       "                                     missing=nan, monotone_constraints=None,\n",
       "                                     n_estimators=177, n_jobs=None, nthread=4,\n",
       "                                     num_parallel_tree=None, random_state=None,\n",
       "                                     reg_alpha=None, reg_lambda=None,\n",
       "                                     scale_pos_weight=1, seed=27, subsample=0.8,\n",
       "                                     tree_method=None, validate_parameters=None,\n",
       "                                     verbosity=None),\n",
       "             n_jobs=4, param_grid={'reg_alpha': [0, 0.001, 0.005, 0.01, 0.05]},\n",
       "             scoring='roc_auc')"
      ]
     },
     "execution_count": 28,
     "metadata": {},
     "output_type": "execute_result"
    }
   ],
   "source": [
    "param_test_7 = {\n",
    " 'reg_alpha':[0, 0.001, 0.005, 0.01, 0.05]\n",
    "}\n",
    "gs_7 = GridSearchCV(\n",
    "    estimator = XGBClassifier(\n",
    "        learning_rate = 0.1, \n",
    "        n_estimators = 177, \n",
    "        max_depth = 4,\n",
    "        min_child_weight = 6, \n",
    "        gamma = 0.1, \n",
    "        subsample = 0.8, \n",
    "        colsample_bytree = 0.8,\n",
    "        objective = 'binary:logistic', \n",
    "        nthread = 4, \n",
    "        scale_pos_weight = 1,\n",
    "        seed = 27\n",
    "    ), \n",
    "    param_grid = param_test_7, \n",
    "    scoring = 'roc_auc',\n",
    "    n_jobs = 4,\n",
    "    cv = 5\n",
    ")\n",
    "\n",
    "gs_7.fit(df_train[col_predictors], df_train[Target])"
   ]
  },
  {
   "cell_type": "code",
   "execution_count": 29,
   "metadata": {},
   "outputs": [
    {
     "data": {
      "text/plain": [
       "({'reg_alpha': 0.001}, 0.6740631698661663)"
      ]
     },
     "execution_count": 29,
     "metadata": {},
     "output_type": "execute_result"
    }
   ],
   "source": [
    "gs_7.best_params_, gs_7.best_score_"
   ]
  },
  {
   "cell_type": "markdown",
   "metadata": {},
   "source": [
    "## Use new values for params"
   ]
  },
  {
   "cell_type": "code",
   "execution_count": 30,
   "metadata": {},
   "outputs": [],
   "source": [
    "xgb_clf_3 = XGBClassifier(\n",
    "    learning_rate = 0.1,\n",
    "    n_estimators = 1000,\n",
    "    max_depth = 4,\n",
    "    min_child_weight = 6,\n",
    "    gamma = 0.3,\n",
    "    subsample = 0.85,\n",
    "    colsample_bytree = 0.85,\n",
    "    reg_alpha = 0.001,\n",
    "    objective = 'binary:logistic',\n",
    "    nthread = 4,\n",
    "    scale_pos_weight = 1,\n",
    "    seed = 27\n",
    ")"
   ]
  },
  {
   "cell_type": "code",
   "execution_count": 31,
   "metadata": {},
   "outputs": [
    {
     "name": "stdout",
     "output_type": "stream",
     "text": [
      "\n",
      "Model Report\n",
      "Accuracy : 0.6395\n",
      "AUC Score (Train): 0.690483\n"
     ]
    },
    {
     "data": {
      "text/plain": [
       "array([0, 0, 0, ..., 0, 1, 0], dtype=int64)"
      ]
     },
     "execution_count": 31,
     "metadata": {},
     "output_type": "execute_result"
    },
    {
     "data": {
      "image/png": "[encoded data removed]",
      "text/plain": [
       "<Figure size 1440x720 with 1 Axes>"
      ]
     },
     "metadata": {
      "needs_background": "light"
     },
     "output_type": "display_data"
    }
   ],
   "source": [
    "modelfit(xgb_clf_3, df_train, df_test, col_predictors)"
   ]
  },
  {
   "cell_type": "markdown",
   "metadata": {},
   "source": [
    "## Reduce Learning Rate\n",
    " * increase number of tree / estimators"
   ]
  },
  {
   "cell_type": "code",
   "execution_count": 32,
   "metadata": {},
   "outputs": [],
   "source": [
    "xgb_clf_4 = XGBClassifier(\n",
    "    learning_rate = 0.01,\n",
    "    n_estimators = 4000,\n",
    "    max_depth = 4,\n",
    "    min_child_weight = 6,\n",
    "    gamma = 0.3,\n",
    "    subsample = 0.85,\n",
    "    colsample_bytree = 0.85,\n",
    "    reg_alpha = 0.001,\n",
    "    objective = 'binary:logistic',\n",
    "    nthread = 4,\n",
    "    scale_pos_weight = 1,\n",
    "    seed = 27\n",
    ")"
   ]
  },
  {
   "cell_type": "code",
   "execution_count": 61,
   "metadata": {},
   "outputs": [
    {
     "name": "stderr",
     "output_type": "stream",
     "text": [
      "C:\\Users\\Mah Lau\\anaconda3\\lib\\site-packages\\xgboost\\sklearn.py:1146: UserWarning: The use of label encoder in XGBClassifier is deprecated and will be removed in a future release. To remove this warning, do the following: 1) Pass option use_label_encoder=False when constructing XGBClassifier object; and 2) Encode your labels (y) as integers starting with 0, i.e. 0, 1, 2, ..., [num_class - 1].\n",
      "  warnings.warn(label_encoder_deprecation_msg, UserWarning)\n"
     ]
    },
    {
     "name": "stdout",
     "output_type": "stream",
     "text": [
      "\n",
      "Model Report\n",
      "Accuracy : 0.6427\n",
      "AUC Score (Train): 0.695277\n"
     ]
    },
    {
     "data": {
      "image/png": "[encoded data removed]",
      "text/plain": [
       "<Figure size 432x288 with 1 Axes>"
      ]
     },
     "metadata": {
      "needs_background": "light"
     },
     "output_type": "display_data"
    },
    {
     "data": {
      "image/png": "[encoded data removed]",
      "text/plain": [
       "<Figure size 1440x720 with 1 Axes>"
      ]
     },
     "metadata": {
      "needs_background": "light"
     },
     "output_type": "display_data"
    }
   ],
   "source": [
    "dtest_pred = modelfit(xgb_clf_4, df_train, df_test, col_predictors)"
   ]
  },
  {
   "cell_type": "markdown",
   "metadata": {},
   "source": [
    "# submission"
   ]
  },
  {
   "cell_type": "code",
   "execution_count": 34,
   "metadata": {},
   "outputs": [],
   "source": [
    "submission_xgb = pd.DataFrame({\n",
    "    'Customer_id' : df_test['Customer_id'],\n",
    "    'Target' : dtest_pred\n",
    "})"
   ]
  },
  {
   "cell_type": "code",
   "execution_count": 35,
   "metadata": {},
   "outputs": [
    {
     "data": {
      "text/plain": [
       "0    759\n",
       "1    721\n",
       "Name: Target, dtype: int64"
      ]
     },
     "execution_count": 35,
     "metadata": {},
     "output_type": "execute_result"
    }
   ],
   "source": [
    "submission_xgb['Target'].value_counts()"
   ]
  },
  {
   "cell_type": "code",
   "execution_count": 36,
   "metadata": {},
   "outputs": [],
   "source": [
    "submission_xgb.to_csv('submission.csv', index = False)"
   ]
  },
  {
   "cell_type": "code",
   "execution_count": null,
   "metadata": {},
   "outputs": [],
   "source": []
  },
  {
   "cell_type": "code",
   "execution_count": null,
   "metadata": {},
   "outputs": [],
   "source": []
  }
 ],
 "metadata": {
  "colab": {
   "collapsed_sections": [
    "8ZwEl6PqMaR2",
    "fEF68ZCrN0Wx",
    "OIH0ccB4ohEP",
    "35mmkP2tDmIB",
    "FnSwCtcxF69v"
   ],
   "name": "Sola's Copy of Target Marketing for Canadian Bank",
   "provenance": []
  },
  "kernelspec": {
   "display_name": "Python 3 (ipykernel)",
   "language": "python",
   "name": "python3"
  },
  "language_info": {
   "codemirror_mode": {
    "name": "ipython",
    "version": 3
   },
   "file_extension": ".py",
   "mimetype": "text/x-python",
   "name": "python",
   "nbconvert_exporter": "python",
   "pygments_lexer": "ipython3",
   "version": "3.7.6"
  }
 },
 "nbformat": 4,
 "nbformat_minor": 4
}
